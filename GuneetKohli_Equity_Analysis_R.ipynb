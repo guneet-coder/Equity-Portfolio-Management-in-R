{
 "cells": [
  {
   "cell_type": "markdown",
   "id": "38a4b5c6-a3b1-455a-8928-3531ffaec43c",
   "metadata": {
    "id": "38a4b5c6-a3b1-455a-8928-3531ffaec43c"
   },
   "source": [
    "EQUITY PORTFOLIO MANAGEMENT ANALYSIS IN R\n",
    "- **Guneet Kohli**"
   ]
  },
  {
   "cell_type": "markdown",
   "id": "cff96192-85fc-47d4-8d56-8ff30c28ff1d",
   "metadata": {},
   "source": [
    "#### PROJECT DESCRIPTION\n",
    "* This project focuses on managing a $5 million fund invested in a carefully curated universe of 10 high-tech stocks throughout the year 2018.\n",
    "* Goal: is to explore and compare two distinct rebalancing strategies: one centered on buying low and the other on buying high."
   ]
  },
  {
   "cell_type": "markdown",
   "id": "dc52f794-235d-47d1-aa90-a1497dccb528",
   "metadata": {},
   "source": [
    "DATA SOURCE: https://finance.yahoo.com/quote/IBM/history?period1=1514782800&period2=1546232400&interval=1d&filter=history&frequency=1d"
   ]
  },
  {
   "cell_type": "markdown",
   "id": "8afdeac5-a773-4dfb-8800-d3040afc1f92",
   "metadata": {},
   "source": [
    "#### INSTALLING LIBRARIES"
   ]
  },
  {
   "cell_type": "code",
   "execution_count": 1,
   "id": "ObELfxv2noaT",
   "metadata": {
    "colab": {
     "base_uri": "https://localhost:8080/"
    },
    "id": "ObELfxv2noaT",
    "outputId": "ecfdefb4-5171-4e7b-9cb5-cb437836a45d"
   },
   "outputs": [
    {
     "name": "stderr",
     "output_type": "stream",
     "text": [
      "Updating HTML index of packages in '.Library'\n",
      "\n",
      "Making 'packages.html' ...\n",
      " done\n",
      "\n",
      "Updating HTML index of packages in '.Library'\n",
      "\n",
      "Making 'packages.html' ...\n",
      " done\n",
      "\n"
     ]
    }
   ],
   "source": [
    "install.packages(\"dplyr\")\n",
    "install.packages(\"reshape2\")"
   ]
  },
  {
   "cell_type": "code",
   "execution_count": 2,
   "id": "tSdfxM2BoJBi",
   "metadata": {
    "colab": {
     "base_uri": "https://localhost:8080/"
    },
    "id": "tSdfxM2BoJBi",
    "outputId": "d7c6fca1-bbc4-4037-d9fc-f68f26f71e0c"
   },
   "outputs": [
    {
     "name": "stderr",
     "output_type": "stream",
     "text": [
      "Warning message:\n",
      "“package ‘ggplot’ is not available for this version of R\n",
      "\n",
      "A version of this package for your version of R might be available elsewhere,\n",
      "see the ideas at\n",
      "https://cran.r-project.org/doc/manuals/r-patched/R-admin.html#Installing-packages”\n"
     ]
    }
   ],
   "source": [
    "install.packages(\"ggplot\")"
   ]
  },
  {
   "cell_type": "code",
   "execution_count": 3,
   "id": "8d578422-bac1-4e7e-8136-204f6d1af7cb",
   "metadata": {
    "colab": {
     "base_uri": "https://localhost:8080/"
    },
    "id": "8d578422-bac1-4e7e-8136-204f6d1af7cb",
    "outputId": "12ce9f0e-c282-4ae2-eae5-392ba7844f37",
    "tags": []
   },
   "outputs": [
    {
     "name": "stderr",
     "output_type": "stream",
     "text": [
      "\n",
      "Attaching package: ‘dplyr’\n",
      "\n",
      "\n",
      "The following objects are masked from ‘package:stats’:\n",
      "\n",
      "    filter, lag\n",
      "\n",
      "\n",
      "The following objects are masked from ‘package:base’:\n",
      "\n",
      "    intersect, setdiff, setequal, union\n",
      "\n",
      "\n"
     ]
    }
   ],
   "source": [
    "library(reshape2)\n",
    "library(dplyr)\n",
    "library(ggplot2)\n",
    "\n",
    "#  to see the full number instead of scientific notations:\n",
    "options(scipen=999)\n",
    "# options(scipen=0) # to revert to the default behavior"
   ]
  },
  {
   "cell_type": "markdown",
   "id": "45faaf1d-0a45-40ee-92a0-e0adba46faca",
   "metadata": {},
   "source": [
    "#### DESCRIPTION\n",
    "1. **Stock Universe:**\n",
    "   - `universe`: List of stock symbols representing the chosen stock universe.\n",
    "2. **Data Selection and Renaming Function:**\n",
    "   - `selectColumn`: A function that reads CSV files for each stock, selects relevant columns ('Date', 'Close', 'Adj.Close'), and renames them with the stock symbol.\n",
    "3. **Reading and Storing Data:**\n",
    "   - `stock_data_list`: List containing dataframes for each stock generated using the `selectColumn` function.\n",
    "4. **Merging Dataframes:**\n",
    "   - `Reduce` and `left_join` are used to merge dataframes in the list based on the 'Date' column.\n",
    "5. **Display Result:**\n",
    "   - `head(df)`: Display the first few rows of the merged dataframe."
   ]
  },
  {
   "cell_type": "code",
   "execution_count": 4,
   "id": "e5365291-2dd7-4be2-ab21-7fdfd5b2d20a",
   "metadata": {
    "colab": {
     "base_uri": "https://localhost:8080/",
     "height": 410
    },
    "id": "e5365291-2dd7-4be2-ab21-7fdfd5b2d20a",
    "outputId": "d9f4f51b-03dd-4235-fc77-bc5d4c1f8e16",
    "tags": []
   },
   "outputs": [
    {
     "data": {
      "text/html": [
       "<table class=\"dataframe\">\n",
       "<caption>A data.frame: 6 × 21</caption>\n",
       "<thead>\n",
       "\t<tr><th></th><th scope=col>Date</th><th scope=col>Close_IBM</th><th scope=col>Adj_Close_IBM</th><th scope=col>Close_MSFT</th><th scope=col>Adj_Close_MSFT</th><th scope=col>Close_GOOG</th><th scope=col>Adj_Close_GOOG</th><th scope=col>Close_AAPL</th><th scope=col>Adj_Close_AAPL</th><th scope=col>Close_AMZN</th><th scope=col>⋯</th><th scope=col>Close_META</th><th scope=col>Adj_Close_META</th><th scope=col>Close_NFLX</th><th scope=col>Adj_Close_NFLX</th><th scope=col>Close_ORCL</th><th scope=col>Adj_Close_ORCL</th><th scope=col>Close_SAP</th><th scope=col>Adj_Close_SAP</th><th scope=col>Close_TSLA</th><th scope=col>Adj_Close_TSLA</th></tr>\n",
       "\t<tr><th></th><th scope=col>&lt;chr&gt;</th><th scope=col>&lt;dbl&gt;</th><th scope=col>&lt;dbl&gt;</th><th scope=col>&lt;dbl&gt;</th><th scope=col>&lt;dbl&gt;</th><th scope=col>&lt;dbl&gt;</th><th scope=col>&lt;dbl&gt;</th><th scope=col>&lt;dbl&gt;</th><th scope=col>&lt;dbl&gt;</th><th scope=col>&lt;dbl&gt;</th><th scope=col>⋯</th><th scope=col>&lt;dbl&gt;</th><th scope=col>&lt;dbl&gt;</th><th scope=col>&lt;dbl&gt;</th><th scope=col>&lt;dbl&gt;</th><th scope=col>&lt;dbl&gt;</th><th scope=col>&lt;dbl&gt;</th><th scope=col>&lt;dbl&gt;</th><th scope=col>&lt;dbl&gt;</th><th scope=col>&lt;dbl&gt;</th><th scope=col>&lt;dbl&gt;</th></tr>\n",
       "</thead>\n",
       "<tbody>\n",
       "\t<tr><th scope=row>1</th><td>2018-01-02</td><td>147.4665</td><td>111.8001</td><td>85.95</td><td>80.39185</td><td>53.2500</td><td>53.2500</td><td>43.0650</td><td>40.77652</td><td>59.4505</td><td>⋯</td><td>181.42</td><td>181.42</td><td>201.07</td><td>201.07</td><td>46.63</td><td>42.28244</td><td>112.39</td><td>101.2103</td><td>21.36867</td><td>21.36867</td></tr>\n",
       "\t<tr><th scope=row>2</th><td>2018-01-03</td><td>151.5201</td><td>114.8733</td><td>86.35</td><td>80.76598</td><td>54.1240</td><td>54.1240</td><td>43.0575</td><td>40.76942</td><td>60.2100</td><td>⋯</td><td>184.67</td><td>184.67</td><td>205.05</td><td>205.05</td><td>47.71</td><td>43.26174</td><td>113.31</td><td>102.0388</td><td>21.15000</td><td>21.15000</td></tr>\n",
       "\t<tr><th scope=row>3</th><td>2018-01-04</td><td>154.5889</td><td>117.1999</td><td>87.11</td><td>81.47684</td><td>54.3200</td><td>54.3200</td><td>43.2575</td><td>40.95879</td><td>60.4795</td><td>⋯</td><td>184.33</td><td>184.33</td><td>205.63</td><td>205.63</td><td>48.18</td><td>43.68794</td><td>115.05</td><td>103.6057</td><td>20.97467</td><td>20.97467</td></tr>\n",
       "\t<tr><th scope=row>4</th><td>2018-01-05</td><td>155.3442</td><td>117.7725</td><td>88.19</td><td>82.48701</td><td>55.1115</td><td>55.1115</td><td>43.7500</td><td>41.42511</td><td>61.4570</td><td>⋯</td><td>186.85</td><td>186.85</td><td>209.99</td><td>209.99</td><td>48.47</td><td>43.95089</td><td>116.33</td><td>104.7584</td><td>21.10533</td><td>21.10533</td></tr>\n",
       "\t<tr><th scope=row>5</th><td>2018-01-08</td><td>156.2811</td><td>118.4828</td><td>88.28</td><td>82.57117</td><td>55.3470</td><td>55.3470</td><td>43.5875</td><td>41.27125</td><td>62.3435</td><td>⋯</td><td>188.28</td><td>188.28</td><td>212.05</td><td>212.05</td><td>48.98</td><td>44.41334</td><td>114.80</td><td>103.3806</td><td>22.42733</td><td>22.42733</td></tr>\n",
       "\t<tr><th scope=row>6</th><td>2018-01-09</td><td>156.6252</td><td>118.7437</td><td>88.22</td><td>82.51504</td><td>55.3130</td><td>55.3130</td><td>43.5825</td><td>41.26653</td><td>62.6350</td><td>⋯</td><td>187.87</td><td>187.87</td><td>209.31</td><td>209.31</td><td>49.06</td><td>44.65912</td><td>114.16</td><td>102.8042</td><td>22.24600</td><td>22.24600</td></tr>\n",
       "</tbody>\n",
       "</table>\n"
      ],
      "text/latex": [
       "A data.frame: 6 × 21\n",
       "\\begin{tabular}{r|lllllllllllllllllllll}\n",
       "  & Date & Close\\_IBM & Adj\\_Close\\_IBM & Close\\_MSFT & Adj\\_Close\\_MSFT & Close\\_GOOG & Adj\\_Close\\_GOOG & Close\\_AAPL & Adj\\_Close\\_AAPL & Close\\_AMZN & ⋯ & Close\\_META & Adj\\_Close\\_META & Close\\_NFLX & Adj\\_Close\\_NFLX & Close\\_ORCL & Adj\\_Close\\_ORCL & Close\\_SAP & Adj\\_Close\\_SAP & Close\\_TSLA & Adj\\_Close\\_TSLA\\\\\n",
       "  & <chr> & <dbl> & <dbl> & <dbl> & <dbl> & <dbl> & <dbl> & <dbl> & <dbl> & <dbl> & ⋯ & <dbl> & <dbl> & <dbl> & <dbl> & <dbl> & <dbl> & <dbl> & <dbl> & <dbl> & <dbl>\\\\\n",
       "\\hline\n",
       "\t1 & 2018-01-02 & 147.4665 & 111.8001 & 85.95 & 80.39185 & 53.2500 & 53.2500 & 43.0650 & 40.77652 & 59.4505 & ⋯ & 181.42 & 181.42 & 201.07 & 201.07 & 46.63 & 42.28244 & 112.39 & 101.2103 & 21.36867 & 21.36867\\\\\n",
       "\t2 & 2018-01-03 & 151.5201 & 114.8733 & 86.35 & 80.76598 & 54.1240 & 54.1240 & 43.0575 & 40.76942 & 60.2100 & ⋯ & 184.67 & 184.67 & 205.05 & 205.05 & 47.71 & 43.26174 & 113.31 & 102.0388 & 21.15000 & 21.15000\\\\\n",
       "\t3 & 2018-01-04 & 154.5889 & 117.1999 & 87.11 & 81.47684 & 54.3200 & 54.3200 & 43.2575 & 40.95879 & 60.4795 & ⋯ & 184.33 & 184.33 & 205.63 & 205.63 & 48.18 & 43.68794 & 115.05 & 103.6057 & 20.97467 & 20.97467\\\\\n",
       "\t4 & 2018-01-05 & 155.3442 & 117.7725 & 88.19 & 82.48701 & 55.1115 & 55.1115 & 43.7500 & 41.42511 & 61.4570 & ⋯ & 186.85 & 186.85 & 209.99 & 209.99 & 48.47 & 43.95089 & 116.33 & 104.7584 & 21.10533 & 21.10533\\\\\n",
       "\t5 & 2018-01-08 & 156.2811 & 118.4828 & 88.28 & 82.57117 & 55.3470 & 55.3470 & 43.5875 & 41.27125 & 62.3435 & ⋯ & 188.28 & 188.28 & 212.05 & 212.05 & 48.98 & 44.41334 & 114.80 & 103.3806 & 22.42733 & 22.42733\\\\\n",
       "\t6 & 2018-01-09 & 156.6252 & 118.7437 & 88.22 & 82.51504 & 55.3130 & 55.3130 & 43.5825 & 41.26653 & 62.6350 & ⋯ & 187.87 & 187.87 & 209.31 & 209.31 & 49.06 & 44.65912 & 114.16 & 102.8042 & 22.24600 & 22.24600\\\\\n",
       "\\end{tabular}\n"
      ],
      "text/markdown": [
       "\n",
       "A data.frame: 6 × 21\n",
       "\n",
       "| <!--/--> | Date &lt;chr&gt; | Close_IBM &lt;dbl&gt; | Adj_Close_IBM &lt;dbl&gt; | Close_MSFT &lt;dbl&gt; | Adj_Close_MSFT &lt;dbl&gt; | Close_GOOG &lt;dbl&gt; | Adj_Close_GOOG &lt;dbl&gt; | Close_AAPL &lt;dbl&gt; | Adj_Close_AAPL &lt;dbl&gt; | Close_AMZN &lt;dbl&gt; | ⋯ ⋯ | Close_META &lt;dbl&gt; | Adj_Close_META &lt;dbl&gt; | Close_NFLX &lt;dbl&gt; | Adj_Close_NFLX &lt;dbl&gt; | Close_ORCL &lt;dbl&gt; | Adj_Close_ORCL &lt;dbl&gt; | Close_SAP &lt;dbl&gt; | Adj_Close_SAP &lt;dbl&gt; | Close_TSLA &lt;dbl&gt; | Adj_Close_TSLA &lt;dbl&gt; |\n",
       "|---|---|---|---|---|---|---|---|---|---|---|---|---|---|---|---|---|---|---|---|---|---|\n",
       "| 1 | 2018-01-02 | 147.4665 | 111.8001 | 85.95 | 80.39185 | 53.2500 | 53.2500 | 43.0650 | 40.77652 | 59.4505 | ⋯ | 181.42 | 181.42 | 201.07 | 201.07 | 46.63 | 42.28244 | 112.39 | 101.2103 | 21.36867 | 21.36867 |\n",
       "| 2 | 2018-01-03 | 151.5201 | 114.8733 | 86.35 | 80.76598 | 54.1240 | 54.1240 | 43.0575 | 40.76942 | 60.2100 | ⋯ | 184.67 | 184.67 | 205.05 | 205.05 | 47.71 | 43.26174 | 113.31 | 102.0388 | 21.15000 | 21.15000 |\n",
       "| 3 | 2018-01-04 | 154.5889 | 117.1999 | 87.11 | 81.47684 | 54.3200 | 54.3200 | 43.2575 | 40.95879 | 60.4795 | ⋯ | 184.33 | 184.33 | 205.63 | 205.63 | 48.18 | 43.68794 | 115.05 | 103.6057 | 20.97467 | 20.97467 |\n",
       "| 4 | 2018-01-05 | 155.3442 | 117.7725 | 88.19 | 82.48701 | 55.1115 | 55.1115 | 43.7500 | 41.42511 | 61.4570 | ⋯ | 186.85 | 186.85 | 209.99 | 209.99 | 48.47 | 43.95089 | 116.33 | 104.7584 | 21.10533 | 21.10533 |\n",
       "| 5 | 2018-01-08 | 156.2811 | 118.4828 | 88.28 | 82.57117 | 55.3470 | 55.3470 | 43.5875 | 41.27125 | 62.3435 | ⋯ | 188.28 | 188.28 | 212.05 | 212.05 | 48.98 | 44.41334 | 114.80 | 103.3806 | 22.42733 | 22.42733 |\n",
       "| 6 | 2018-01-09 | 156.6252 | 118.7437 | 88.22 | 82.51504 | 55.3130 | 55.3130 | 43.5825 | 41.26653 | 62.6350 | ⋯ | 187.87 | 187.87 | 209.31 | 209.31 | 49.06 | 44.65912 | 114.16 | 102.8042 | 22.24600 | 22.24600 |\n",
       "\n"
      ],
      "text/plain": [
       "  Date       Close_IBM Adj_Close_IBM Close_MSFT Adj_Close_MSFT Close_GOOG\n",
       "1 2018-01-02 147.4665  111.8001      85.95      80.39185       53.2500   \n",
       "2 2018-01-03 151.5201  114.8733      86.35      80.76598       54.1240   \n",
       "3 2018-01-04 154.5889  117.1999      87.11      81.47684       54.3200   \n",
       "4 2018-01-05 155.3442  117.7725      88.19      82.48701       55.1115   \n",
       "5 2018-01-08 156.2811  118.4828      88.28      82.57117       55.3470   \n",
       "6 2018-01-09 156.6252  118.7437      88.22      82.51504       55.3130   \n",
       "  Adj_Close_GOOG Close_AAPL Adj_Close_AAPL Close_AMZN ⋯ Close_META\n",
       "1 53.2500        43.0650    40.77652       59.4505    ⋯ 181.42    \n",
       "2 54.1240        43.0575    40.76942       60.2100    ⋯ 184.67    \n",
       "3 54.3200        43.2575    40.95879       60.4795    ⋯ 184.33    \n",
       "4 55.1115        43.7500    41.42511       61.4570    ⋯ 186.85    \n",
       "5 55.3470        43.5875    41.27125       62.3435    ⋯ 188.28    \n",
       "6 55.3130        43.5825    41.26653       62.6350    ⋯ 187.87    \n",
       "  Adj_Close_META Close_NFLX Adj_Close_NFLX Close_ORCL Adj_Close_ORCL Close_SAP\n",
       "1 181.42         201.07     201.07         46.63      42.28244       112.39   \n",
       "2 184.67         205.05     205.05         47.71      43.26174       113.31   \n",
       "3 184.33         205.63     205.63         48.18      43.68794       115.05   \n",
       "4 186.85         209.99     209.99         48.47      43.95089       116.33   \n",
       "5 188.28         212.05     212.05         48.98      44.41334       114.80   \n",
       "6 187.87         209.31     209.31         49.06      44.65912       114.16   \n",
       "  Adj_Close_SAP Close_TSLA Adj_Close_TSLA\n",
       "1 101.2103      21.36867   21.36867      \n",
       "2 102.0388      21.15000   21.15000      \n",
       "3 103.6057      20.97467   20.97467      \n",
       "4 104.7584      21.10533   21.10533      \n",
       "5 103.3806      22.42733   22.42733      \n",
       "6 102.8042      22.24600   22.24600      "
      ]
     },
     "metadata": {},
     "output_type": "display_data"
    }
   ],
   "source": [
    "universe = c('IBM', 'MSFT', 'GOOG', 'AAPL', 'AMZN', 'META', \"NFLX\", \"ORCL\", \"SAP\", \"TSLA\")\n",
    "#/content/AAPL.csv\n",
    "# Function to select the columns Close and Adj.Close and it renames those columns to data source\n",
    "selectColumn = function(data) {\n",
    "    filename = paste0(\"/Users/guneetkohli/Desktop/Equity - R/Datasets/\", data, \".csv\")\n",
    "    df = read.csv(file=filename)\n",
    "    df = select(df, Date, Close, Adj.Close)\n",
    "    df = rename(df, !!paste(\"Close\", data, sep='_') := Close, !!paste(\"Adj_Close\", data, sep='_') := Adj.Close)\n",
    "    return(df)\n",
    "}\n",
    "\n",
    "# Read and store the dataframes in a list\n",
    "stock_data_list = lapply(universe, selectColumn)\n",
    "\n",
    "# join data based on the Date:\n",
    "# note: Reduce() is a function that successively takes two inputs of a list\n",
    "# Reduce() is like doing the following: f(f(f(1, 2), 3), 4) and the list is c(1,2,3,4)\n",
    "df = Reduce(function(df1, df2) { left_join(df1, df2, by=\"Date\") }, stock_data_list)\n",
    "\n",
    "head(df)"
   ]
  },
  {
   "cell_type": "code",
   "execution_count": 5,
   "id": "c222c566-ca0d-4837-9cc1-538abbcf9ff1",
   "metadata": {
    "colab": {
     "base_uri": "https://localhost:8080/",
     "height": 410
    },
    "id": "c222c566-ca0d-4837-9cc1-538abbcf9ff1",
    "outputId": "531224a9-f5e6-40e1-b2db-a486e7168d62",
    "tags": []
   },
   "outputs": [
    {
     "data": {
      "text/html": [
       "<table class=\"dataframe\">\n",
       "<caption>A data.frame: 6 × 21</caption>\n",
       "<thead>\n",
       "\t<tr><th></th><th scope=col>Date</th><th scope=col>Close_IBM</th><th scope=col>Adj_Close_IBM</th><th scope=col>Close_MSFT</th><th scope=col>Adj_Close_MSFT</th><th scope=col>Close_GOOG</th><th scope=col>Adj_Close_GOOG</th><th scope=col>Close_AAPL</th><th scope=col>Adj_Close_AAPL</th><th scope=col>Close_AMZN</th><th scope=col>⋯</th><th scope=col>Close_META</th><th scope=col>Adj_Close_META</th><th scope=col>Close_NFLX</th><th scope=col>Adj_Close_NFLX</th><th scope=col>Close_ORCL</th><th scope=col>Adj_Close_ORCL</th><th scope=col>Close_SAP</th><th scope=col>Adj_Close_SAP</th><th scope=col>Close_TSLA</th><th scope=col>Adj_Close_TSLA</th></tr>\n",
       "\t<tr><th></th><th scope=col>&lt;date&gt;</th><th scope=col>&lt;dbl&gt;</th><th scope=col>&lt;dbl&gt;</th><th scope=col>&lt;dbl&gt;</th><th scope=col>&lt;dbl&gt;</th><th scope=col>&lt;dbl&gt;</th><th scope=col>&lt;dbl&gt;</th><th scope=col>&lt;dbl&gt;</th><th scope=col>&lt;dbl&gt;</th><th scope=col>&lt;dbl&gt;</th><th scope=col>⋯</th><th scope=col>&lt;dbl&gt;</th><th scope=col>&lt;dbl&gt;</th><th scope=col>&lt;dbl&gt;</th><th scope=col>&lt;dbl&gt;</th><th scope=col>&lt;dbl&gt;</th><th scope=col>&lt;dbl&gt;</th><th scope=col>&lt;dbl&gt;</th><th scope=col>&lt;dbl&gt;</th><th scope=col>&lt;dbl&gt;</th><th scope=col>&lt;dbl&gt;</th></tr>\n",
       "</thead>\n",
       "<tbody>\n",
       "\t<tr><th scope=row>1</th><td>2018-01-02</td><td>147.4665</td><td>111.8001</td><td>85.95</td><td>80.39185</td><td>53.2500</td><td>53.2500</td><td>43.0650</td><td>40.77652</td><td>59.4505</td><td>⋯</td><td>181.42</td><td>181.42</td><td>201.07</td><td>201.07</td><td>46.63</td><td>42.28244</td><td>112.39</td><td>101.2103</td><td>21.36867</td><td>21.36867</td></tr>\n",
       "\t<tr><th scope=row>2</th><td>2018-01-03</td><td>151.5201</td><td>114.8733</td><td>86.35</td><td>80.76598</td><td>54.1240</td><td>54.1240</td><td>43.0575</td><td>40.76942</td><td>60.2100</td><td>⋯</td><td>184.67</td><td>184.67</td><td>205.05</td><td>205.05</td><td>47.71</td><td>43.26174</td><td>113.31</td><td>102.0388</td><td>21.15000</td><td>21.15000</td></tr>\n",
       "\t<tr><th scope=row>3</th><td>2018-01-04</td><td>154.5889</td><td>117.1999</td><td>87.11</td><td>81.47684</td><td>54.3200</td><td>54.3200</td><td>43.2575</td><td>40.95879</td><td>60.4795</td><td>⋯</td><td>184.33</td><td>184.33</td><td>205.63</td><td>205.63</td><td>48.18</td><td>43.68794</td><td>115.05</td><td>103.6057</td><td>20.97467</td><td>20.97467</td></tr>\n",
       "\t<tr><th scope=row>4</th><td>2018-01-05</td><td>155.3442</td><td>117.7725</td><td>88.19</td><td>82.48701</td><td>55.1115</td><td>55.1115</td><td>43.7500</td><td>41.42511</td><td>61.4570</td><td>⋯</td><td>186.85</td><td>186.85</td><td>209.99</td><td>209.99</td><td>48.47</td><td>43.95089</td><td>116.33</td><td>104.7584</td><td>21.10533</td><td>21.10533</td></tr>\n",
       "\t<tr><th scope=row>5</th><td>2018-01-08</td><td>156.2811</td><td>118.4828</td><td>88.28</td><td>82.57117</td><td>55.3470</td><td>55.3470</td><td>43.5875</td><td>41.27125</td><td>62.3435</td><td>⋯</td><td>188.28</td><td>188.28</td><td>212.05</td><td>212.05</td><td>48.98</td><td>44.41334</td><td>114.80</td><td>103.3806</td><td>22.42733</td><td>22.42733</td></tr>\n",
       "\t<tr><th scope=row>6</th><td>2018-01-09</td><td>156.6252</td><td>118.7437</td><td>88.22</td><td>82.51504</td><td>55.3130</td><td>55.3130</td><td>43.5825</td><td>41.26653</td><td>62.6350</td><td>⋯</td><td>187.87</td><td>187.87</td><td>209.31</td><td>209.31</td><td>49.06</td><td>44.65912</td><td>114.16</td><td>102.8042</td><td>22.24600</td><td>22.24600</td></tr>\n",
       "</tbody>\n",
       "</table>\n"
      ],
      "text/latex": [
       "A data.frame: 6 × 21\n",
       "\\begin{tabular}{r|lllllllllllllllllllll}\n",
       "  & Date & Close\\_IBM & Adj\\_Close\\_IBM & Close\\_MSFT & Adj\\_Close\\_MSFT & Close\\_GOOG & Adj\\_Close\\_GOOG & Close\\_AAPL & Adj\\_Close\\_AAPL & Close\\_AMZN & ⋯ & Close\\_META & Adj\\_Close\\_META & Close\\_NFLX & Adj\\_Close\\_NFLX & Close\\_ORCL & Adj\\_Close\\_ORCL & Close\\_SAP & Adj\\_Close\\_SAP & Close\\_TSLA & Adj\\_Close\\_TSLA\\\\\n",
       "  & <date> & <dbl> & <dbl> & <dbl> & <dbl> & <dbl> & <dbl> & <dbl> & <dbl> & <dbl> & ⋯ & <dbl> & <dbl> & <dbl> & <dbl> & <dbl> & <dbl> & <dbl> & <dbl> & <dbl> & <dbl>\\\\\n",
       "\\hline\n",
       "\t1 & 2018-01-02 & 147.4665 & 111.8001 & 85.95 & 80.39185 & 53.2500 & 53.2500 & 43.0650 & 40.77652 & 59.4505 & ⋯ & 181.42 & 181.42 & 201.07 & 201.07 & 46.63 & 42.28244 & 112.39 & 101.2103 & 21.36867 & 21.36867\\\\\n",
       "\t2 & 2018-01-03 & 151.5201 & 114.8733 & 86.35 & 80.76598 & 54.1240 & 54.1240 & 43.0575 & 40.76942 & 60.2100 & ⋯ & 184.67 & 184.67 & 205.05 & 205.05 & 47.71 & 43.26174 & 113.31 & 102.0388 & 21.15000 & 21.15000\\\\\n",
       "\t3 & 2018-01-04 & 154.5889 & 117.1999 & 87.11 & 81.47684 & 54.3200 & 54.3200 & 43.2575 & 40.95879 & 60.4795 & ⋯ & 184.33 & 184.33 & 205.63 & 205.63 & 48.18 & 43.68794 & 115.05 & 103.6057 & 20.97467 & 20.97467\\\\\n",
       "\t4 & 2018-01-05 & 155.3442 & 117.7725 & 88.19 & 82.48701 & 55.1115 & 55.1115 & 43.7500 & 41.42511 & 61.4570 & ⋯ & 186.85 & 186.85 & 209.99 & 209.99 & 48.47 & 43.95089 & 116.33 & 104.7584 & 21.10533 & 21.10533\\\\\n",
       "\t5 & 2018-01-08 & 156.2811 & 118.4828 & 88.28 & 82.57117 & 55.3470 & 55.3470 & 43.5875 & 41.27125 & 62.3435 & ⋯ & 188.28 & 188.28 & 212.05 & 212.05 & 48.98 & 44.41334 & 114.80 & 103.3806 & 22.42733 & 22.42733\\\\\n",
       "\t6 & 2018-01-09 & 156.6252 & 118.7437 & 88.22 & 82.51504 & 55.3130 & 55.3130 & 43.5825 & 41.26653 & 62.6350 & ⋯ & 187.87 & 187.87 & 209.31 & 209.31 & 49.06 & 44.65912 & 114.16 & 102.8042 & 22.24600 & 22.24600\\\\\n",
       "\\end{tabular}\n"
      ],
      "text/markdown": [
       "\n",
       "A data.frame: 6 × 21\n",
       "\n",
       "| <!--/--> | Date &lt;date&gt; | Close_IBM &lt;dbl&gt; | Adj_Close_IBM &lt;dbl&gt; | Close_MSFT &lt;dbl&gt; | Adj_Close_MSFT &lt;dbl&gt; | Close_GOOG &lt;dbl&gt; | Adj_Close_GOOG &lt;dbl&gt; | Close_AAPL &lt;dbl&gt; | Adj_Close_AAPL &lt;dbl&gt; | Close_AMZN &lt;dbl&gt; | ⋯ ⋯ | Close_META &lt;dbl&gt; | Adj_Close_META &lt;dbl&gt; | Close_NFLX &lt;dbl&gt; | Adj_Close_NFLX &lt;dbl&gt; | Close_ORCL &lt;dbl&gt; | Adj_Close_ORCL &lt;dbl&gt; | Close_SAP &lt;dbl&gt; | Adj_Close_SAP &lt;dbl&gt; | Close_TSLA &lt;dbl&gt; | Adj_Close_TSLA &lt;dbl&gt; |\n",
       "|---|---|---|---|---|---|---|---|---|---|---|---|---|---|---|---|---|---|---|---|---|---|\n",
       "| 1 | 2018-01-02 | 147.4665 | 111.8001 | 85.95 | 80.39185 | 53.2500 | 53.2500 | 43.0650 | 40.77652 | 59.4505 | ⋯ | 181.42 | 181.42 | 201.07 | 201.07 | 46.63 | 42.28244 | 112.39 | 101.2103 | 21.36867 | 21.36867 |\n",
       "| 2 | 2018-01-03 | 151.5201 | 114.8733 | 86.35 | 80.76598 | 54.1240 | 54.1240 | 43.0575 | 40.76942 | 60.2100 | ⋯ | 184.67 | 184.67 | 205.05 | 205.05 | 47.71 | 43.26174 | 113.31 | 102.0388 | 21.15000 | 21.15000 |\n",
       "| 3 | 2018-01-04 | 154.5889 | 117.1999 | 87.11 | 81.47684 | 54.3200 | 54.3200 | 43.2575 | 40.95879 | 60.4795 | ⋯ | 184.33 | 184.33 | 205.63 | 205.63 | 48.18 | 43.68794 | 115.05 | 103.6057 | 20.97467 | 20.97467 |\n",
       "| 4 | 2018-01-05 | 155.3442 | 117.7725 | 88.19 | 82.48701 | 55.1115 | 55.1115 | 43.7500 | 41.42511 | 61.4570 | ⋯ | 186.85 | 186.85 | 209.99 | 209.99 | 48.47 | 43.95089 | 116.33 | 104.7584 | 21.10533 | 21.10533 |\n",
       "| 5 | 2018-01-08 | 156.2811 | 118.4828 | 88.28 | 82.57117 | 55.3470 | 55.3470 | 43.5875 | 41.27125 | 62.3435 | ⋯ | 188.28 | 188.28 | 212.05 | 212.05 | 48.98 | 44.41334 | 114.80 | 103.3806 | 22.42733 | 22.42733 |\n",
       "| 6 | 2018-01-09 | 156.6252 | 118.7437 | 88.22 | 82.51504 | 55.3130 | 55.3130 | 43.5825 | 41.26653 | 62.6350 | ⋯ | 187.87 | 187.87 | 209.31 | 209.31 | 49.06 | 44.65912 | 114.16 | 102.8042 | 22.24600 | 22.24600 |\n",
       "\n"
      ],
      "text/plain": [
       "  Date       Close_IBM Adj_Close_IBM Close_MSFT Adj_Close_MSFT Close_GOOG\n",
       "1 2018-01-02 147.4665  111.8001      85.95      80.39185       53.2500   \n",
       "2 2018-01-03 151.5201  114.8733      86.35      80.76598       54.1240   \n",
       "3 2018-01-04 154.5889  117.1999      87.11      81.47684       54.3200   \n",
       "4 2018-01-05 155.3442  117.7725      88.19      82.48701       55.1115   \n",
       "5 2018-01-08 156.2811  118.4828      88.28      82.57117       55.3470   \n",
       "6 2018-01-09 156.6252  118.7437      88.22      82.51504       55.3130   \n",
       "  Adj_Close_GOOG Close_AAPL Adj_Close_AAPL Close_AMZN ⋯ Close_META\n",
       "1 53.2500        43.0650    40.77652       59.4505    ⋯ 181.42    \n",
       "2 54.1240        43.0575    40.76942       60.2100    ⋯ 184.67    \n",
       "3 54.3200        43.2575    40.95879       60.4795    ⋯ 184.33    \n",
       "4 55.1115        43.7500    41.42511       61.4570    ⋯ 186.85    \n",
       "5 55.3470        43.5875    41.27125       62.3435    ⋯ 188.28    \n",
       "6 55.3130        43.5825    41.26653       62.6350    ⋯ 187.87    \n",
       "  Adj_Close_META Close_NFLX Adj_Close_NFLX Close_ORCL Adj_Close_ORCL Close_SAP\n",
       "1 181.42         201.07     201.07         46.63      42.28244       112.39   \n",
       "2 184.67         205.05     205.05         47.71      43.26174       113.31   \n",
       "3 184.33         205.63     205.63         48.18      43.68794       115.05   \n",
       "4 186.85         209.99     209.99         48.47      43.95089       116.33   \n",
       "5 188.28         212.05     212.05         48.98      44.41334       114.80   \n",
       "6 187.87         209.31     209.31         49.06      44.65912       114.16   \n",
       "  Adj_Close_SAP Close_TSLA Adj_Close_TSLA\n",
       "1 101.2103      21.36867   21.36867      \n",
       "2 102.0388      21.15000   21.15000      \n",
       "3 103.6057      20.97467   20.97467      \n",
       "4 104.7584      21.10533   21.10533      \n",
       "5 103.3806      22.42733   22.42733      \n",
       "6 102.8042      22.24600   22.24600      "
      ]
     },
     "metadata": {},
     "output_type": "display_data"
    }
   ],
   "source": [
    "# making sure that the datasets are ordered by date\n",
    "sortByDate = function(df) {\n",
    "    df$Date = as.Date(df$Date, format=\"%Y-%m-%d\")\n",
    "    return(df[order(df$Date), ])\n",
    "}\n",
    "\n",
    "df = sortByDate(df)\n",
    "head(df)"
   ]
  },
  {
   "cell_type": "markdown",
   "id": "ff9bf645-1024-4819-8176-870ed0f56a6e",
   "metadata": {
    "id": "ff9bf645-1024-4819-8176-870ed0f56a6e"
   },
   "source": [
    "## 1: \n",
    "On Jan 02 2018, you split the 5M dollars  -> five 1M dollars, and use them to buy 5 stocks from the 10 stocks. For example, IBM close price was 154.25 dollars. \n",
    "With 1M dollars, you can buy max 6482 shares with cost 999848.5 dollars with 151.5 dollars cash left. You decided to spend $1m on each of\n",
    "['IBM', 'MSFT', 'GOOG', 'AAPL', 'AMZN'] respectively and keep the rest cash into a zero-interest cash account. On Jan 02 2018,\n",
    "your mark to market value (MTM) is 5M Dollars if combining all stocks value and cash. Your holdings of stocks and cach account is your\n",
    "portfolio"
   ]
  },
  {
   "cell_type": "code",
   "execution_count": 1,
   "id": "aab6a05d-416a-441f-b719-e94b368ed14d",
   "metadata": {
    "colab": {
     "base_uri": "https://localhost:8080/",
     "height": 167
    },
    "id": "aab6a05d-416a-441f-b719-e94b368ed14d",
    "outputId": "f21cc8af-30bf-44dd-9900-a53441c9a699",
    "tags": []
   },
   "outputs": [
    {
     "ename": "ERROR",
     "evalue": "Error in df$Date: object of type 'closure' is not subsettable\n",
     "output_type": "error",
     "traceback": [
      "Error in df$Date: object of type 'closure' is not subsettable\nTraceback:\n"
     ]
    },
    {
     "ename": "ERROR",
     "evalue": "Error in eval(expr, envir, enclos): object 'purchase_data' not found\n",
     "output_type": "error",
     "traceback": [
      "Error in eval(expr, envir, enclos): object 'purchase_data' not found\nTraceback:\n"
     ]
    }
   ],
   "source": [
    "# the following are my Magic variables for testing purpose. Feel free to change\n",
    "# this variables to try different settings on different stocks or dates.\n",
    "INITIAL = 5000000\n",
    "STOCKS = c('IBM', 'MSFT', 'GOOG', 'AAPL', 'AMZN')\n",
    "DATE = \"2018-01-02\"\n",
    "\n",
    "# Get the data for the selected stocks on the purchase date\n",
    "purchase_data = df[df$Date == DATE, ]; purchase_data"
   ]
  },
  {
   "cell_type": "markdown",
   "id": "99a0b108-818a-4c60-8fcb-3a737c9d269d",
   "metadata": {
    "jp-MarkdownHeadingCollapsed": true
   },
   "source": [
    ">  #### Calculating and displaying the maximum shares, cost, and remaining cash for purchasing each stock with $1M on the specified date (Jan 02, 2018). It also calculates and displays the total Mark to Market (MTM) value combining all stocks and cash on that date."
   ]
  },
  {
   "cell_type": "code",
   "execution_count": 7,
   "id": "612ac388-2e2f-47c7-9a9c-2c8143bdcb40",
   "metadata": {
    "colab": {
     "base_uri": "https://localhost:8080/",
     "height": 398
    },
    "id": "612ac388-2e2f-47c7-9a9c-2c8143bdcb40",
    "outputId": "0cb7f13f-eaa4-48a6-8bd3-b805fc75b8c3",
    "tags": []
   },
   "outputs": [
    {
     "name": "stdout",
     "output_type": "stream",
     "text": [
      "MTM: 5000000 \tDate - 2018-01-02 \n",
      "  Stock Shares Cash_Left    Value\n",
      "1   IBM   6781  29.41260 999970.6\n",
      "2  MSFT  11634  57.73490 999942.3\n",
      "3  GOOG  18779  18.25000 999981.8\n",
      "4  AAPL  23220  30.72322 999969.3\n",
      "5  AMZN  16820  42.59000 999957.4\n",
      "\n"
     ]
    },
    {
     "data": {
      "text/html": [
       "<table class=\"dataframe\">\n",
       "<caption>A data.frame: 5 × 4</caption>\n",
       "<thead>\n",
       "\t<tr><th scope=col>Stock</th><th scope=col>Shares</th><th scope=col>Cash_Left</th><th scope=col>Value</th></tr>\n",
       "\t<tr><th scope=col>&lt;chr&gt;</th><th scope=col>&lt;dbl&gt;</th><th scope=col>&lt;dbl&gt;</th><th scope=col>&lt;dbl&gt;</th></tr>\n",
       "</thead>\n",
       "<tbody>\n",
       "\t<tr><td>IBM </td><td> 6781</td><td>29.41260</td><td>999970.6</td></tr>\n",
       "\t<tr><td>MSFT</td><td>11634</td><td>57.73490</td><td>999942.3</td></tr>\n",
       "\t<tr><td>GOOG</td><td>18779</td><td>18.25000</td><td>999981.8</td></tr>\n",
       "\t<tr><td>AAPL</td><td>23220</td><td>30.72322</td><td>999969.3</td></tr>\n",
       "\t<tr><td>AMZN</td><td>16820</td><td>42.59000</td><td>999957.4</td></tr>\n",
       "</tbody>\n",
       "</table>\n"
      ],
      "text/latex": [
       "A data.frame: 5 × 4\n",
       "\\begin{tabular}{llll}\n",
       " Stock & Shares & Cash\\_Left & Value\\\\\n",
       " <chr> & <dbl> & <dbl> & <dbl>\\\\\n",
       "\\hline\n",
       "\t IBM  &  6781 & 29.41260 & 999970.6\\\\\n",
       "\t MSFT & 11634 & 57.73490 & 999942.3\\\\\n",
       "\t GOOG & 18779 & 18.25000 & 999981.8\\\\\n",
       "\t AAPL & 23220 & 30.72322 & 999969.3\\\\\n",
       "\t AMZN & 16820 & 42.59000 & 999957.4\\\\\n",
       "\\end{tabular}\n"
      ],
      "text/markdown": [
       "\n",
       "A data.frame: 5 × 4\n",
       "\n",
       "| Stock &lt;chr&gt; | Shares &lt;dbl&gt; | Cash_Left &lt;dbl&gt; | Value &lt;dbl&gt; |\n",
       "|---|---|---|---|\n",
       "| IBM  |  6781 | 29.41260 | 999970.6 |\n",
       "| MSFT | 11634 | 57.73490 | 999942.3 |\n",
       "| GOOG | 18779 | 18.25000 | 999981.8 |\n",
       "| AAPL | 23220 | 30.72322 | 999969.3 |\n",
       "| AMZN | 16820 | 42.59000 | 999957.4 |\n",
       "\n"
      ],
      "text/plain": [
       "  Stock Shares Cash_Left Value   \n",
       "1 IBM    6781  29.41260  999970.6\n",
       "2 MSFT  11634  57.73490  999942.3\n",
       "3 GOOG  18779  18.25000  999981.8\n",
       "4 AAPL  23220  30.72322  999969.3\n",
       "5 AMZN  16820  42.59000  999957.4"
      ]
     },
     "metadata": {},
     "output_type": "display_data"
    }
   ],
   "source": [
    "portfolioMTM = function(stocks = STOCKS,\n",
    "                       initial = INITIAL,\n",
    "                       date = DATE)\n",
    "{\n",
    "    # Get the data for the selected stocks on the purchase date\n",
    "    purchase_data = df[df$Date == date, ]\n",
    "\n",
    "    invest_per_stock = initial / 5\n",
    "\n",
    "    portfolio = data.frame(\n",
    "        Stock = character(0),\n",
    "        Shares = numeric(0),\n",
    "        Cash_Left = numeric(0),\n",
    "        Value = numeric(0)\n",
    "    )\n",
    "\n",
    "    for (brand in stocks) {\n",
    "        close_price = purchase_data[[paste(\"Close\", brand, sep=\"_\")]]\n",
    "        shares_bought = floor(invest_per_stock / close_price)\n",
    "        cash_left = invest_per_stock - (shares_bought * close_price)\n",
    "\n",
    "        portfolio = rbind(\n",
    "        portfolio,\n",
    "        data.frame(\n",
    "              Stock = brand,\n",
    "              Shares = shares_bought,\n",
    "              Cash_Left = cash_left,\n",
    "              Value = shares_bought * close_price\n",
    "            )\n",
    "        )\n",
    "    }\n",
    "\n",
    "    MTM = sum(portfolio$Cash_Left) + sum(portfolio$Value)\n",
    "    # note: I should add the following info to the next two lines to the dataset. Will do this later if I have time\n",
    "    cat(\"MTM:\", MTM, \"\\tDate -\", as.character(date) ,\"\\n\")\n",
    "    print(portfolio); cat(\"\\n\")\n",
    "    return(portfolio)\n",
    "}\n",
    "\n",
    "portfolioMTM()"
   ]
  },
  {
   "cell_type": "markdown",
   "id": "e1a8fe5d-5491-4345-8faf-baca63b7cde8",
   "metadata": {
    "id": "e1a8fe5d-5491-4345-8faf-baca63b7cde8"
   },
   "source": [
    "## 2"
   ]
  },
  {
   "cell_type": "markdown",
   "id": "2274196f-6ec0-4745-abf6-acf5ee7e2419",
   "metadata": {},
   "source": [
    "Trading strategy is \"5 days rebalancing of buying low\". \n",
    "Here is how it works. You keep your portfolio unchanged until 5 days later on Jan 09 2018. Now you want to re-check the market and adjust your portfolio. You will compute the \"Adj Close\" price\n",
    "changes from Jan 02 to Jan 09, and find the 5 stocks whose \"Adj Close\" prices dropped the most in terms of percentage. You sell all\n",
    "current holdings on Jan 09 \"Close\" prices to convert your portfolio to all cash. Then immediately split your cash, including your cash\n",
    "account, to 5 equal parts to buy the 5 stocks that dropped the most from Jan 02 to Jan 09 on 'Adj Close' prices. You always buy the\n",
    "max shares of stock on the \"Close\" price and keep the rest cash in cash account. Now the portfolio should be different from 5 days\n",
    "ago. This operation is called \"rebalancing"
   ]
  },
  {
   "cell_type": "markdown",
   "id": "93d38edf-67b9-4d85-a616-7becb26d3244",
   "metadata": {
    "id": "93d38edf-67b9-4d85-a616-7becb26d3244",
    "tags": []
   },
   "source": [
    "### Function"
   ]
  },
  {
   "cell_type": "code",
   "execution_count": 8,
   "id": "f61bef19-a80e-40c9-9dbe-7e4db52e220b",
   "metadata": {
    "colab": {
     "base_uri": "https://localhost:8080/",
     "height": 167
    },
    "id": "f61bef19-a80e-40c9-9dbe-7e4db52e220b",
    "outputId": "3a0da924-728d-4aea-8b6c-b7e77b78991d",
    "tags": []
   },
   "outputs": [
    {
     "data": {
      "text/html": [
       "<table class=\"dataframe\">\n",
       "<caption>A data.frame: 1 × 21</caption>\n",
       "<thead>\n",
       "\t<tr><th></th><th scope=col>Date</th><th scope=col>Close_IBM</th><th scope=col>Adj_Close_IBM</th><th scope=col>Close_MSFT</th><th scope=col>Adj_Close_MSFT</th><th scope=col>Close_GOOG</th><th scope=col>Adj_Close_GOOG</th><th scope=col>Close_AAPL</th><th scope=col>Adj_Close_AAPL</th><th scope=col>Close_AMZN</th><th scope=col>⋯</th><th scope=col>Close_META</th><th scope=col>Adj_Close_META</th><th scope=col>Close_NFLX</th><th scope=col>Adj_Close_NFLX</th><th scope=col>Close_ORCL</th><th scope=col>Adj_Close_ORCL</th><th scope=col>Close_SAP</th><th scope=col>Adj_Close_SAP</th><th scope=col>Close_TSLA</th><th scope=col>Adj_Close_TSLA</th></tr>\n",
       "\t<tr><th></th><th scope=col>&lt;date&gt;</th><th scope=col>&lt;dbl&gt;</th><th scope=col>&lt;dbl&gt;</th><th scope=col>&lt;dbl&gt;</th><th scope=col>&lt;dbl&gt;</th><th scope=col>&lt;dbl&gt;</th><th scope=col>&lt;dbl&gt;</th><th scope=col>&lt;dbl&gt;</th><th scope=col>&lt;dbl&gt;</th><th scope=col>&lt;dbl&gt;</th><th scope=col>⋯</th><th scope=col>&lt;dbl&gt;</th><th scope=col>&lt;dbl&gt;</th><th scope=col>&lt;dbl&gt;</th><th scope=col>&lt;dbl&gt;</th><th scope=col>&lt;dbl&gt;</th><th scope=col>&lt;dbl&gt;</th><th scope=col>&lt;dbl&gt;</th><th scope=col>&lt;dbl&gt;</th><th scope=col>&lt;dbl&gt;</th><th scope=col>&lt;dbl&gt;</th></tr>\n",
       "</thead>\n",
       "<tbody>\n",
       "\t<tr><th scope=row>1</th><td>2018-01-02</td><td>147.4665</td><td>111.8001</td><td>85.95</td><td>80.39185</td><td>53.25</td><td>53.25</td><td>43.065</td><td>40.77652</td><td>59.4505</td><td>⋯</td><td>181.42</td><td>181.42</td><td>201.07</td><td>201.07</td><td>46.63</td><td>42.28244</td><td>112.39</td><td>101.2103</td><td>21.36867</td><td>21.36867</td></tr>\n",
       "</tbody>\n",
       "</table>\n"
      ],
      "text/latex": [
       "A data.frame: 1 × 21\n",
       "\\begin{tabular}{r|lllllllllllllllllllll}\n",
       "  & Date & Close\\_IBM & Adj\\_Close\\_IBM & Close\\_MSFT & Adj\\_Close\\_MSFT & Close\\_GOOG & Adj\\_Close\\_GOOG & Close\\_AAPL & Adj\\_Close\\_AAPL & Close\\_AMZN & ⋯ & Close\\_META & Adj\\_Close\\_META & Close\\_NFLX & Adj\\_Close\\_NFLX & Close\\_ORCL & Adj\\_Close\\_ORCL & Close\\_SAP & Adj\\_Close\\_SAP & Close\\_TSLA & Adj\\_Close\\_TSLA\\\\\n",
       "  & <date> & <dbl> & <dbl> & <dbl> & <dbl> & <dbl> & <dbl> & <dbl> & <dbl> & <dbl> & ⋯ & <dbl> & <dbl> & <dbl> & <dbl> & <dbl> & <dbl> & <dbl> & <dbl> & <dbl> & <dbl>\\\\\n",
       "\\hline\n",
       "\t1 & 2018-01-02 & 147.4665 & 111.8001 & 85.95 & 80.39185 & 53.25 & 53.25 & 43.065 & 40.77652 & 59.4505 & ⋯ & 181.42 & 181.42 & 201.07 & 201.07 & 46.63 & 42.28244 & 112.39 & 101.2103 & 21.36867 & 21.36867\\\\\n",
       "\\end{tabular}\n"
      ],
      "text/markdown": [
       "\n",
       "A data.frame: 1 × 21\n",
       "\n",
       "| <!--/--> | Date &lt;date&gt; | Close_IBM &lt;dbl&gt; | Adj_Close_IBM &lt;dbl&gt; | Close_MSFT &lt;dbl&gt; | Adj_Close_MSFT &lt;dbl&gt; | Close_GOOG &lt;dbl&gt; | Adj_Close_GOOG &lt;dbl&gt; | Close_AAPL &lt;dbl&gt; | Adj_Close_AAPL &lt;dbl&gt; | Close_AMZN &lt;dbl&gt; | ⋯ ⋯ | Close_META &lt;dbl&gt; | Adj_Close_META &lt;dbl&gt; | Close_NFLX &lt;dbl&gt; | Adj_Close_NFLX &lt;dbl&gt; | Close_ORCL &lt;dbl&gt; | Adj_Close_ORCL &lt;dbl&gt; | Close_SAP &lt;dbl&gt; | Adj_Close_SAP &lt;dbl&gt; | Close_TSLA &lt;dbl&gt; | Adj_Close_TSLA &lt;dbl&gt; |\n",
       "|---|---|---|---|---|---|---|---|---|---|---|---|---|---|---|---|---|---|---|---|---|---|\n",
       "| 1 | 2018-01-02 | 147.4665 | 111.8001 | 85.95 | 80.39185 | 53.25 | 53.25 | 43.065 | 40.77652 | 59.4505 | ⋯ | 181.42 | 181.42 | 201.07 | 201.07 | 46.63 | 42.28244 | 112.39 | 101.2103 | 21.36867 | 21.36867 |\n",
       "\n"
      ],
      "text/plain": [
       "  Date       Close_IBM Adj_Close_IBM Close_MSFT Adj_Close_MSFT Close_GOOG\n",
       "1 2018-01-02 147.4665  111.8001      85.95      80.39185       53.25     \n",
       "  Adj_Close_GOOG Close_AAPL Adj_Close_AAPL Close_AMZN ⋯ Close_META\n",
       "1 53.25          43.065     40.77652       59.4505    ⋯ 181.42    \n",
       "  Adj_Close_META Close_NFLX Adj_Close_NFLX Close_ORCL Adj_Close_ORCL Close_SAP\n",
       "1 181.42         201.07     201.07         46.63      42.28244       112.39   \n",
       "  Adj_Close_SAP Close_TSLA Adj_Close_TSLA\n",
       "1 101.2103      21.36867   21.36867      "
      ]
     },
     "metadata": {},
     "output_type": "display_data"
    }
   ],
   "source": [
    "# the following are my Magic variables for testing purpose. Feel free to change\n",
    "# this variables to try different settings on different stocks or dates.\n",
    "INITIAL = 5000000\n",
    "STOCKS = c('IBM', 'MSFT', 'GOOG', 'AAPL', 'AMZN')\n",
    "DATE = \"2018-01-02\"\n",
    "\n",
    "# Get the data for the selected stocks on the purchase date\n",
    "purchase_data = df[df$Date == DATE, ]; purchase_data"
   ]
  },
  {
   "cell_type": "code",
   "execution_count": 9,
   "id": "2c55bd82-9c65-4654-8d55-ca59491f6f64",
   "metadata": {
    "colab": {
     "base_uri": "https://localhost:8080/",
     "height": 34
    },
    "id": "2c55bd82-9c65-4654-8d55-ca59491f6f64",
    "outputId": "055201f8-8c44-4a7e-e180-f09aa77badf3",
    "tags": []
   },
   "outputs": [
    {
     "data": {
      "text/html": [
       "<style>\n",
       ".list-inline {list-style: none; margin:0; padding: 0}\n",
       ".list-inline>li {display: inline-block}\n",
       ".list-inline>li:not(:last-child)::after {content: \"\\00b7\"; padding: 0 .5ex}\n",
       "</style>\n",
       "<ol class=list-inline><li><time datetime=\"2018-01-02\">2018-01-02</time></li><li><time datetime=\"2018-01-03\">2018-01-03</time></li><li><time datetime=\"2018-01-04\">2018-01-04</time></li><li><time datetime=\"2018-01-05\">2018-01-05</time></li><li><time datetime=\"2018-01-06\">2018-01-06</time></li><li><time datetime=\"2018-01-07\">2018-01-07</time></li><li><time datetime=\"2018-01-08\">2018-01-08</time></li><li><time datetime=\"2018-01-09\">2018-01-09</time></li></ol>\n"
      ],
      "text/latex": [
       "\\begin{enumerate*}\n",
       "\\item 2018-01-02\n",
       "\\item 2018-01-03\n",
       "\\item 2018-01-04\n",
       "\\item 2018-01-05\n",
       "\\item 2018-01-06\n",
       "\\item 2018-01-07\n",
       "\\item 2018-01-08\n",
       "\\item 2018-01-09\n",
       "\\end{enumerate*}\n"
      ],
      "text/markdown": [
       "1. 2018-01-02\n",
       "2. 2018-01-03\n",
       "3. 2018-01-04\n",
       "4. 2018-01-05\n",
       "5. 2018-01-06\n",
       "6. 2018-01-07\n",
       "7. 2018-01-08\n",
       "8. 2018-01-09\n",
       "\n",
       "\n"
      ],
      "text/plain": [
       "[1] \"2018-01-02\" \"2018-01-03\" \"2018-01-04\" \"2018-01-05\" \"2018-01-06\"\n",
       "[6] \"2018-01-07\" \"2018-01-08\" \"2018-01-09\""
      ]
     },
     "metadata": {},
     "output_type": "display_data"
    }
   ],
   "source": [
    "# Define the function\n",
    "next_5_days = function(input_date) {\n",
    "  input_date = as.Date(input_date, format=\"%Y-%m-%d\")\n",
    "  return(seq(from = input_date, by = \"days\", length.out = 8))\n",
    "}\n",
    "\n",
    "# Test the function\n",
    "next_5_days(\"2018-01-02\")"
   ]
  },
  {
   "cell_type": "code",
   "execution_count": 10,
   "id": "273ef893-e39b-4a10-91d2-60e27085c54c",
   "metadata": {
    "colab": {
     "base_uri": "https://localhost:8080/",
     "height": 167
    },
    "id": "273ef893-e39b-4a10-91d2-60e27085c54c",
    "outputId": "ad7c561d-2beb-4862-ce1f-205ef83457f0",
    "tags": []
   },
   "outputs": [
    {
     "data": {
      "text/html": [
       "<table class=\"dataframe\">\n",
       "<caption>A data.frame: 1 × 21</caption>\n",
       "<thead>\n",
       "\t<tr><th></th><th scope=col>Date</th><th scope=col>Close_IBM</th><th scope=col>Adj_Close_IBM</th><th scope=col>Close_MSFT</th><th scope=col>Adj_Close_MSFT</th><th scope=col>Close_GOOG</th><th scope=col>Adj_Close_GOOG</th><th scope=col>Close_AAPL</th><th scope=col>Adj_Close_AAPL</th><th scope=col>Close_AMZN</th><th scope=col>⋯</th><th scope=col>Close_META</th><th scope=col>Adj_Close_META</th><th scope=col>Close_NFLX</th><th scope=col>Adj_Close_NFLX</th><th scope=col>Close_ORCL</th><th scope=col>Adj_Close_ORCL</th><th scope=col>Close_SAP</th><th scope=col>Adj_Close_SAP</th><th scope=col>Close_TSLA</th><th scope=col>Adj_Close_TSLA</th></tr>\n",
       "\t<tr><th></th><th scope=col>&lt;date&gt;</th><th scope=col>&lt;dbl&gt;</th><th scope=col>&lt;dbl&gt;</th><th scope=col>&lt;dbl&gt;</th><th scope=col>&lt;dbl&gt;</th><th scope=col>&lt;dbl&gt;</th><th scope=col>&lt;dbl&gt;</th><th scope=col>&lt;dbl&gt;</th><th scope=col>&lt;dbl&gt;</th><th scope=col>&lt;dbl&gt;</th><th scope=col>⋯</th><th scope=col>&lt;dbl&gt;</th><th scope=col>&lt;dbl&gt;</th><th scope=col>&lt;dbl&gt;</th><th scope=col>&lt;dbl&gt;</th><th scope=col>&lt;dbl&gt;</th><th scope=col>&lt;dbl&gt;</th><th scope=col>&lt;dbl&gt;</th><th scope=col>&lt;dbl&gt;</th><th scope=col>&lt;dbl&gt;</th><th scope=col>&lt;dbl&gt;</th></tr>\n",
       "</thead>\n",
       "<tbody>\n",
       "\t<tr><th scope=row>1</th><td>2018-01-02</td><td>147.4665</td><td>111.8001</td><td>85.95</td><td>80.39185</td><td>53.25</td><td>53.25</td><td>43.065</td><td>40.77652</td><td>59.4505</td><td>⋯</td><td>181.42</td><td>181.42</td><td>201.07</td><td>201.07</td><td>46.63</td><td>42.28244</td><td>112.39</td><td>101.2103</td><td>21.36867</td><td>21.36867</td></tr>\n",
       "</tbody>\n",
       "</table>\n"
      ],
      "text/latex": [
       "A data.frame: 1 × 21\n",
       "\\begin{tabular}{r|lllllllllllllllllllll}\n",
       "  & Date & Close\\_IBM & Adj\\_Close\\_IBM & Close\\_MSFT & Adj\\_Close\\_MSFT & Close\\_GOOG & Adj\\_Close\\_GOOG & Close\\_AAPL & Adj\\_Close\\_AAPL & Close\\_AMZN & ⋯ & Close\\_META & Adj\\_Close\\_META & Close\\_NFLX & Adj\\_Close\\_NFLX & Close\\_ORCL & Adj\\_Close\\_ORCL & Close\\_SAP & Adj\\_Close\\_SAP & Close\\_TSLA & Adj\\_Close\\_TSLA\\\\\n",
       "  & <date> & <dbl> & <dbl> & <dbl> & <dbl> & <dbl> & <dbl> & <dbl> & <dbl> & <dbl> & ⋯ & <dbl> & <dbl> & <dbl> & <dbl> & <dbl> & <dbl> & <dbl> & <dbl> & <dbl> & <dbl>\\\\\n",
       "\\hline\n",
       "\t1 & 2018-01-02 & 147.4665 & 111.8001 & 85.95 & 80.39185 & 53.25 & 53.25 & 43.065 & 40.77652 & 59.4505 & ⋯ & 181.42 & 181.42 & 201.07 & 201.07 & 46.63 & 42.28244 & 112.39 & 101.2103 & 21.36867 & 21.36867\\\\\n",
       "\\end{tabular}\n"
      ],
      "text/markdown": [
       "\n",
       "A data.frame: 1 × 21\n",
       "\n",
       "| <!--/--> | Date &lt;date&gt; | Close_IBM &lt;dbl&gt; | Adj_Close_IBM &lt;dbl&gt; | Close_MSFT &lt;dbl&gt; | Adj_Close_MSFT &lt;dbl&gt; | Close_GOOG &lt;dbl&gt; | Adj_Close_GOOG &lt;dbl&gt; | Close_AAPL &lt;dbl&gt; | Adj_Close_AAPL &lt;dbl&gt; | Close_AMZN &lt;dbl&gt; | ⋯ ⋯ | Close_META &lt;dbl&gt; | Adj_Close_META &lt;dbl&gt; | Close_NFLX &lt;dbl&gt; | Adj_Close_NFLX &lt;dbl&gt; | Close_ORCL &lt;dbl&gt; | Adj_Close_ORCL &lt;dbl&gt; | Close_SAP &lt;dbl&gt; | Adj_Close_SAP &lt;dbl&gt; | Close_TSLA &lt;dbl&gt; | Adj_Close_TSLA &lt;dbl&gt; |\n",
       "|---|---|---|---|---|---|---|---|---|---|---|---|---|---|---|---|---|---|---|---|---|---|\n",
       "| 1 | 2018-01-02 | 147.4665 | 111.8001 | 85.95 | 80.39185 | 53.25 | 53.25 | 43.065 | 40.77652 | 59.4505 | ⋯ | 181.42 | 181.42 | 201.07 | 201.07 | 46.63 | 42.28244 | 112.39 | 101.2103 | 21.36867 | 21.36867 |\n",
       "\n"
      ],
      "text/plain": [
       "  Date       Close_IBM Adj_Close_IBM Close_MSFT Adj_Close_MSFT Close_GOOG\n",
       "1 2018-01-02 147.4665  111.8001      85.95      80.39185       53.25     \n",
       "  Adj_Close_GOOG Close_AAPL Adj_Close_AAPL Close_AMZN ⋯ Close_META\n",
       "1 53.25          43.065     40.77652       59.4505    ⋯ 181.42    \n",
       "  Adj_Close_META Close_NFLX Adj_Close_NFLX Close_ORCL Adj_Close_ORCL Close_SAP\n",
       "1 181.42         201.07     201.07         46.63      42.28244       112.39   \n",
       "  Adj_Close_SAP Close_TSLA Adj_Close_TSLA\n",
       "1 101.2103      21.36867   21.36867      "
      ]
     },
     "metadata": {},
     "output_type": "display_data"
    }
   ],
   "source": [
    "purchase_data"
   ]
  },
  {
   "cell_type": "code",
   "execution_count": 11,
   "id": "1651b429-0b5d-4f83-ba1e-e23e5e40bc68",
   "metadata": {
    "colab": {
     "base_uri": "https://localhost:8080/",
     "height": 987
    },
    "id": "1651b429-0b5d-4f83-ba1e-e23e5e40bc68",
    "outputId": "6c3a4767-f9a5-48ce-ddda-24ab393b2c21",
    "tags": []
   },
   "outputs": [
    {
     "name": "stdout",
     "output_type": "stream",
     "text": [
      "MTM: 5000000 \tDate - 2018-01-02 \n",
      "  Stock Shares Cash_Left    Value\n",
      "1   IBM   6781  29.41260 999970.6\n",
      "2  MSFT  11634  57.73490 999942.3\n",
      "3  GOOG  18779  18.25000 999981.8\n",
      "4  AAPL  23220  30.72322 999969.3\n",
      "5  AMZN  16820  42.59000 999957.4\n",
      "\n",
      "Close_IBM \n",
      "stock_Shares 6781 \n",
      "sell_CLose 156.6252 \n",
      "profit_cash 1062076 \n",
      "\n",
      "Close_MSFT \n",
      "stock_Shares 11634 \n",
      "sell_CLose 88.22 \n",
      "profit_cash 1026351 \n",
      "\n",
      "Close_GOOG \n",
      "stock_Shares 18779 \n",
      "sell_CLose 55.313 \n",
      "profit_cash 1038723 \n",
      "\n",
      "Close_AAPL \n",
      "stock_Shares 23220 \n",
      "sell_CLose 43.5825 \n",
      "profit_cash 1011986 \n",
      "\n",
      "Close_AMZN \n",
      "stock_Shares 16820 \n",
      "sell_CLose 62.635 \n",
      "profit_cash 1053521 \n",
      "\n",
      "MTM: 5192835 \tDate - 2018-01-09 \n",
      "  Stock Shares Cash_Left   Value\n",
      "1   IBM   6630 141.65734 1038425\n",
      "2  ORCL  21169  15.86389 1038551\n",
      "3  AMZN  16581  16.12322 1038551\n",
      "4  TSLA  46685  12.51506 1038555\n",
      "5  NFLX   4961 180.12498 1038387\n",
      "\n"
     ]
    },
    {
     "data": {
      "text/html": [
       "<table class=\"dataframe\">\n",
       "<caption>A data.frame: 5 × 4</caption>\n",
       "<thead>\n",
       "\t<tr><th scope=col>Stock</th><th scope=col>Shares</th><th scope=col>Cash_Left</th><th scope=col>Value</th></tr>\n",
       "\t<tr><th scope=col>&lt;chr&gt;</th><th scope=col>&lt;dbl&gt;</th><th scope=col>&lt;dbl&gt;</th><th scope=col>&lt;dbl&gt;</th></tr>\n",
       "</thead>\n",
       "<tbody>\n",
       "\t<tr><td>IBM </td><td> 6630</td><td>141.65734</td><td>1038425</td></tr>\n",
       "\t<tr><td>ORCL</td><td>21169</td><td> 15.86389</td><td>1038551</td></tr>\n",
       "\t<tr><td>AMZN</td><td>16581</td><td> 16.12322</td><td>1038551</td></tr>\n",
       "\t<tr><td>TSLA</td><td>46685</td><td> 12.51506</td><td>1038555</td></tr>\n",
       "\t<tr><td>NFLX</td><td> 4961</td><td>180.12498</td><td>1038387</td></tr>\n",
       "</tbody>\n",
       "</table>\n"
      ],
      "text/latex": [
       "A data.frame: 5 × 4\n",
       "\\begin{tabular}{llll}\n",
       " Stock & Shares & Cash\\_Left & Value\\\\\n",
       " <chr> & <dbl> & <dbl> & <dbl>\\\\\n",
       "\\hline\n",
       "\t IBM  &  6630 & 141.65734 & 1038425\\\\\n",
       "\t ORCL & 21169 &  15.86389 & 1038551\\\\\n",
       "\t AMZN & 16581 &  16.12322 & 1038551\\\\\n",
       "\t TSLA & 46685 &  12.51506 & 1038555\\\\\n",
       "\t NFLX &  4961 & 180.12498 & 1038387\\\\\n",
       "\\end{tabular}\n"
      ],
      "text/markdown": [
       "\n",
       "A data.frame: 5 × 4\n",
       "\n",
       "| Stock &lt;chr&gt; | Shares &lt;dbl&gt; | Cash_Left &lt;dbl&gt; | Value &lt;dbl&gt; |\n",
       "|---|---|---|---|\n",
       "| IBM  |  6630 | 141.65734 | 1038425 |\n",
       "| ORCL | 21169 |  15.86389 | 1038551 |\n",
       "| AMZN | 16581 |  16.12322 | 1038551 |\n",
       "| TSLA | 46685 |  12.51506 | 1038555 |\n",
       "| NFLX |  4961 | 180.12498 | 1038387 |\n",
       "\n"
      ],
      "text/plain": [
       "  Stock Shares Cash_Left Value  \n",
       "1 IBM    6630  141.65734 1038425\n",
       "2 ORCL  21169   15.86389 1038551\n",
       "3 AMZN  16581   16.12322 1038551\n",
       "4 TSLA  46685   12.51506 1038555\n",
       "5 NFLX   4961  180.12498 1038387"
      ]
     },
     "metadata": {},
     "output_type": "display_data"
    }
   ],
   "source": [
    "# Note: add more parameters for the creation of the day1Portfolio = portfolioMTM(DATE=date)\n",
    "rebalancingMTM = function(date=DATE)\n",
    "{\n",
    "    # Enter a date to return the dates of 5 days later of the entered date\n",
    "    DATE_5 = next_5_days(date)\n",
    "    purchase_data = df[df$Date %in% DATE_5, ]\n",
    "\n",
    "    # column names of adj close of every stock\n",
    "    adj_close_colname = grep(\"Adj_Close\", names(df), value=TRUE)\n",
    "\n",
    "    start = purchase_data[1,] # data from the initial date\n",
    "    end = purchase_data[nrow(purchase_data), ] # date from 5 business days later from the initial date\n",
    "\n",
    "    # the differences between the adj close of the initial date and the adj close of the 5th business day\n",
    "    changes_adj_close = (start[, adj_close_colname] - end[, adj_close_colname]) / start[, adj_close_colname] * 100\n",
    "\n",
    "    # storing the column names of the stocks with the lowest change in adj close\n",
    "    low_stock = c()\n",
    "    for (i in 1:5)\n",
    "    {\n",
    "        # returning the column name of the lowest change in adj close\n",
    "        colNames = names(which.min(changes_adj_close))\n",
    "        low_stock = c(low_stock, colNames) # storing the column names\n",
    "\n",
    "        # erase the column with the lowest change in adj close to have a new min in the next iteration\n",
    "        changes_adj_close[,colNames] = NULL\n",
    "\n",
    "    }\n",
    "\n",
    "    # storing the stocks MTM from the initial date\n",
    "    day1Portfolio = portfolioMTM(date=date) # Note: maybe I should create variables for the rebalancing()\n",
    "\n",
    "    # keeping only the Close_STOCK columns\n",
    "    purchase_data_Close = purchase_data[, !colnames(purchase_data) %in% adj_close_colname][nrow(purchase_data),]\n",
    "\n",
    "    new_INITIAL = 0\n",
    "\n",
    "    # Selling the stock from our first profolio from day one based on the Close price of the stock on the 5th day\n",
    "    for (stock in day1Portfolio$Stock) {\n",
    "        cat(paste(\"Close\", stock, sep='_'), '\\n')\n",
    "\n",
    "        stock_Shares = day1Portfolio[day1Portfolio$Stock == stock, \"Shares\"]\n",
    "        cat(\"stock_Shares\", stock_Shares, \"\\n\")\n",
    "\n",
    "        sell_CLose = purchase_data_Close[, paste(\"Close\", stock, sep='_')]\n",
    "        cat(\"sell_CLose\", sell_CLose, \"\\n\")\n",
    "\n",
    "        profit_cash = stock_Shares * sell_CLose\n",
    "        cat(\"profit_cash\", profit_cash, \"\\n\\n\")\n",
    "\n",
    "        new_INITIAL = new_INITIAL + profit_cash\n",
    "\n",
    "    }\n",
    "\n",
    "    modified_vec = gsub(\"Adj_Close_\", \"\", low_stock)\n",
    "\n",
    "    # new INITIAL for our new porfolio of the 5th day\n",
    "    new_INITIAL = sum(day1Portfolio$Cash_Left) + new_INITIAL; new_INITIAL\n",
    "    return(portfolioMTM(stocks=modified_vec, date=end$Date, initial=new_INITIAL))\n",
    "\n",
    "}\n",
    "\n",
    "rebalancingMTM()"
   ]
  },
  {
   "cell_type": "markdown",
   "id": "cfaf5e2f-1b70-4d5d-b869-7c29cb0235f5",
   "metadata": {
    "id": "cfaf5e2f-1b70-4d5d-b869-7c29cb0235f5"
   },
   "source": [
    "## 3"
   ]
  },
  {
   "cell_type": "markdown",
   "id": "04f584da-0704-4281-9ca7-14293c4a97f4",
   "metadata": {},
   "source": [
    "Corporations generally issue stock dividends on some days. The total dividend you get on such a day is the stock dividend times\n",
    "your shares if you have shares of this stock on the dividend day. If you buy shares on the dividend day, these bought shares are not\n",
    "qualified to get dividend. If you sell shares on the dividend day, the sold shares are qualified to get dividend. For example, on\n",
    "2/8/2018, IBM issued $1.5 dividend per share. In your cash account, you will automatically ge"
   ]
  },
  {
   "cell_type": "code",
   "execution_count": 12,
   "id": "edbef126-9371-4746-9a27-44657593d680",
   "metadata": {
    "id": "edbef126-9371-4746-9a27-44657593d680",
    "tags": []
   },
   "outputs": [],
   "source": [
    "PURCHASE_DATE = '2018-02-05'\n",
    "SOLD_DATE = '2018-02-08'\n",
    "SOLD_STOCK = 'IBM'\n",
    "\n",
    "DIVIDEN_DATE = '2018-02-08'\n",
    "DIVIDEN = 1.5"
   ]
  },
  {
   "cell_type": "code",
   "execution_count": 13,
   "id": "4cca4ffd-bb03-42cb-9363-992c030da542",
   "metadata": {
    "id": "4cca4ffd-bb03-42cb-9363-992c030da542",
    "tags": []
   },
   "outputs": [],
   "source": [
    "# update the values of stocks because the shares value changes every day\n",
    "updateValue = function(portfolioMTM_new, date)\n",
    "{\n",
    "    data = df[df$Date %in% date, ]\n",
    "\n",
    "    for (brand in portfolioMTM_new$Stock)\n",
    "    {\n",
    "        shares = portfolioMTM_new$Shares[portfolioMTM_new$Stock == brand]\n",
    "        close_price = data[[paste(\"Close\", brand, sep=\"_\")]]\n",
    "        portfolioMTM_new$Value[portfolioMTM_new$Stock == brand] = shares * close_price\n",
    "    }\n",
    "\n",
    "    return(portfolioMTM_new)\n",
    "\n",
    "}"
   ]
  },
  {
   "cell_type": "code",
   "execution_count": 14,
   "id": "8b0b2bc9-9464-41e4-b6d7-5eed276b1437",
   "metadata": {
    "colab": {
     "base_uri": "https://localhost:8080/",
     "height": 737
    },
    "id": "8b0b2bc9-9464-41e4-b6d7-5eed276b1437",
    "outputId": "b786c035-412d-415f-b8c8-fa593adbd228",
    "tags": []
   },
   "outputs": [
    {
     "name": "stdout",
     "output_type": "stream",
     "text": [
      "Purchased Porfolio\n",
      "MTM: 5000000 \tDate - 2018-02-05 \n",
      "  Stock Shares Cash_Left    Value\n",
      "1   IBM   6857  97.35288 999902.6\n",
      "2  MSFT  11363  56.00000 999944.0\n",
      "3  GOOG  18942  51.80106 999948.2\n",
      "4  AAPL  25560  28.87444 999971.1\n",
      "5  AMZN  14388  34.00000 999966.0\n",
      "\n",
      "Added dividen amount: 10285.5 \n",
      "MTM: 4855539 \tDate - 2018-02-08 \n",
      "  Stock Shares   Cash_Left    Value\n",
      "1   IBM   6857 10382.85288 967518.8\n",
      "2  MSFT  11363    56.00000 965968.7\n",
      "3  GOOG  18942    51.80106 948539.6\n",
      "4  AAPL  25560    28.87444 991408.4\n",
      "5  AMZN  14388    34.00000 971549.7\n",
      "\n",
      "After selling the stock!\n",
      "MTM: 4855539 \tDate - 2018-02-08 \n",
      "  Stock Shares    Cash_Left    Value\n",
      "1   IBM      0 977901.61696      0.0\n",
      "2  MSFT  11363     56.00000 965968.7\n",
      "3  GOOG  18942     51.80106 948539.6\n",
      "4  AAPL  25560     28.87444 991408.4\n",
      "5  AMZN  14388     34.00000 971549.7\n",
      "\n"
     ]
    },
    {
     "data": {
      "text/html": [
       "<table class=\"dataframe\">\n",
       "<caption>A data.frame: 5 × 4</caption>\n",
       "<thead>\n",
       "\t<tr><th scope=col>Stock</th><th scope=col>Shares</th><th scope=col>Cash_Left</th><th scope=col>Value</th></tr>\n",
       "\t<tr><th scope=col>&lt;chr&gt;</th><th scope=col>&lt;dbl&gt;</th><th scope=col>&lt;dbl&gt;</th><th scope=col>&lt;dbl&gt;</th></tr>\n",
       "</thead>\n",
       "<tbody>\n",
       "\t<tr><td>IBM </td><td>    0</td><td>977901.61696</td><td>     0.0</td></tr>\n",
       "\t<tr><td>MSFT</td><td>11363</td><td>    56.00000</td><td>965968.7</td></tr>\n",
       "\t<tr><td>GOOG</td><td>18942</td><td>    51.80106</td><td>948539.6</td></tr>\n",
       "\t<tr><td>AAPL</td><td>25560</td><td>    28.87444</td><td>991408.4</td></tr>\n",
       "\t<tr><td>AMZN</td><td>14388</td><td>    34.00000</td><td>971549.7</td></tr>\n",
       "</tbody>\n",
       "</table>\n"
      ],
      "text/latex": [
       "A data.frame: 5 × 4\n",
       "\\begin{tabular}{llll}\n",
       " Stock & Shares & Cash\\_Left & Value\\\\\n",
       " <chr> & <dbl> & <dbl> & <dbl>\\\\\n",
       "\\hline\n",
       "\t IBM  &     0 & 977901.61696 &      0.0\\\\\n",
       "\t MSFT & 11363 &     56.00000 & 965968.7\\\\\n",
       "\t GOOG & 18942 &     51.80106 & 948539.6\\\\\n",
       "\t AAPL & 25560 &     28.87444 & 991408.4\\\\\n",
       "\t AMZN & 14388 &     34.00000 & 971549.7\\\\\n",
       "\\end{tabular}\n"
      ],
      "text/markdown": [
       "\n",
       "A data.frame: 5 × 4\n",
       "\n",
       "| Stock &lt;chr&gt; | Shares &lt;dbl&gt; | Cash_Left &lt;dbl&gt; | Value &lt;dbl&gt; |\n",
       "|---|---|---|---|\n",
       "| IBM  |     0 | 977901.61696 |      0.0 |\n",
       "| MSFT | 11363 |     56.00000 | 965968.7 |\n",
       "| GOOG | 18942 |     51.80106 | 948539.6 |\n",
       "| AAPL | 25560 |     28.87444 | 991408.4 |\n",
       "| AMZN | 14388 |     34.00000 | 971549.7 |\n",
       "\n"
      ],
      "text/plain": [
       "  Stock Shares Cash_Left    Value   \n",
       "1 IBM       0  977901.61696      0.0\n",
       "2 MSFT  11363      56.00000 965968.7\n",
       "3 GOOG  18942      51.80106 948539.6\n",
       "4 AAPL  25560      28.87444 991408.4\n",
       "5 AMZN  14388      34.00000 971549.7"
      ]
     },
     "metadata": {},
     "output_type": "display_data"
    }
   ],
   "source": [
    "sellStock = function(sold_date = SOLD_DATE,\n",
    "                    sold_stock = SOLD_STOCK,\n",
    "                    purchase_date = PURCHASE_DATE,\n",
    "                    dividen_date = DIVIDEN_DATE,\n",
    "                    dividen = DIVIDEN)\n",
    "{\n",
    "    if (purchase_date > sold_date)\n",
    "    {\n",
    "        return(\"Error! purchase_date > sold_date\")\n",
    "    }\n",
    "\n",
    "    sold_data = df[df$Date %in% sold_date, ]\n",
    "    col_close = paste(\"Close_\", sold_stock, sep=\"\")\n",
    "    stock_close = df[df$Date == sold_date, ][[col_close]]\n",
    "\n",
    "    cat(\"Purchased Porfolio\\n\")\n",
    "    portfolioMTM_old = portfolioMTM(date=purchase_date)\n",
    "    portfolioMTM_new = portfolioMTM_old\n",
    "\n",
    "    purchase_date = as.Date(purchase_date)\n",
    "    sold_date = as.Date(sold_date)\n",
    "    dividend_date = as.Date(dividen_date)\n",
    "\n",
    "    if (purchase_date < dividen_date & dividen_date <= sold_date)\n",
    "    {\n",
    "        portfolioMTM_new = updateValue(portfolioMTM_new, dividen_date)\n",
    "\n",
    "        cash = portfolioMTM_new$Cash_Left[portfolioMTM_new$Stock == sold_stock]\n",
    "        shares = portfolioMTM_new$Shares[portfolioMTM_new$Stock == sold_stock]\n",
    "        portfolioMTM_new$Cash_Left[portfolioMTM_new$Stock == sold_stock] = cash + (dividen * shares)\n",
    "\n",
    "        MTM = sum(portfolioMTM_new$Cash_Left) + sum(portfolioMTM_new$Value)\n",
    "        cat(\"Added dividen amount:\", (dividen * shares), \"\\n\")\n",
    "        cat(\"MTM:\", MTM, \"\\tDate -\", as.character(dividen_date) ,\"\\n\")\n",
    "        print(portfolioMTM_new); cat(\"\\n\")\n",
    "\n",
    "    } else\n",
    "    {\n",
    "        MTM = sum(portfolioMTM_new$Cash_Left) + sum(portfolioMTM_new$Value)\n",
    "        cat(\"No dividen added\", \"\\n\")\n",
    "        cat(\"MTM:\", MTM, \"\\tDate -\", as.character(purchase_date) ,\"\\n\")\n",
    "        print(portfolioMTM_new); cat(\"\\n\")\n",
    "    }\n",
    "\n",
    "    portfolioMTM_new = updateValue(portfolioMTM_new, sold_date)\n",
    "\n",
    "    # Modify the specific cells in the copy\n",
    "    cash = portfolioMTM_new$Cash_Left[portfolioMTM_new$Stock == sold_stock]\n",
    "    shares = portfolioMTM_new$Shares[portfolioMTM_new$Stock == sold_stock]\n",
    "\n",
    "    portfolioMTM_new$Cash_Left[portfolioMTM_new$Stock == sold_stock] = cash + (shares * stock_close)\n",
    "\n",
    "    portfolioMTM_new$Shares[portfolioMTM_new$Stock == sold_stock] = 0\n",
    "    portfolioMTM_new$Value[portfolioMTM_new$Stock == sold_stock] = 0\n",
    "\n",
    "    cat(\"After selling the stock!\\n\")\n",
    "    MTM = sum(portfolioMTM_new$Cash_Left) + sum(portfolioMTM_new$Value)\n",
    "    cat(\"MTM:\", MTM, \"\\tDate -\", as.character(sold_date) ,\"\\n\")\n",
    "    print(portfolioMTM_new); cat(\"\\n\")\n",
    "\n",
    "    return(portfolioMTM_new)\n",
    "}\n",
    "\n",
    "sellStock()"
   ]
  },
  {
   "cell_type": "code",
   "execution_count": 15,
   "id": "a411de98-6477-43ea-9abc-a0c8c11c0d7d",
   "metadata": {
    "colab": {
     "base_uri": "https://localhost:8080/",
     "height": 737
    },
    "id": "a411de98-6477-43ea-9abc-a0c8c11c0d7d",
    "outputId": "8b31a8fb-6d96-497f-90e3-c611ff5e1b4b"
   },
   "outputs": [
    {
     "name": "stdout",
     "output_type": "stream",
     "text": [
      "Purchased Porfolio\n",
      "MTM: 5000000 \tDate - 2018-02-05 \n",
      "  Stock Shares Cash_Left    Value\n",
      "1   IBM   6857  97.35288 999902.6\n",
      "2  MSFT  11363  56.00000 999944.0\n",
      "3  GOOG  18942  51.80106 999948.2\n",
      "4  AAPL  25560  28.87444 999971.1\n",
      "5  AMZN  14388  34.00000 999966.0\n",
      "\n",
      "Added dividen amount: 10285.5 \n",
      "MTM: 4855539 \tDate - 2018-02-08 \n",
      "  Stock Shares   Cash_Left    Value\n",
      "1   IBM   6857 10382.85288 967518.8\n",
      "2  MSFT  11363    56.00000 965968.7\n",
      "3  GOOG  18942    51.80106 948539.6\n",
      "4  AAPL  25560    28.87444 991408.4\n",
      "5  AMZN  14388    34.00000 971549.7\n",
      "\n",
      "After selling the stock!\n",
      "MTM: 5049096 \tDate - 2018-02-12 \n",
      "  Stock Shares     Cash_Left     Value\n",
      "1   IBM      0 1002877.83490       0.0\n",
      "2  MSFT  11363      56.00000 1012784.2\n",
      "3  GOOG  18942      51.80106  996292.4\n",
      "4  AAPL  25560      28.87444 1039717.0\n",
      "5  AMZN  14388      34.00000  997253.9\n",
      "\n"
     ]
    },
    {
     "data": {
      "text/html": [
       "<table class=\"dataframe\">\n",
       "<caption>A data.frame: 5 × 4</caption>\n",
       "<thead>\n",
       "\t<tr><th scope=col>Stock</th><th scope=col>Shares</th><th scope=col>Cash_Left</th><th scope=col>Value</th></tr>\n",
       "\t<tr><th scope=col>&lt;chr&gt;</th><th scope=col>&lt;dbl&gt;</th><th scope=col>&lt;dbl&gt;</th><th scope=col>&lt;dbl&gt;</th></tr>\n",
       "</thead>\n",
       "<tbody>\n",
       "\t<tr><td>IBM </td><td>    0</td><td>1002877.83490</td><td>      0.0</td></tr>\n",
       "\t<tr><td>MSFT</td><td>11363</td><td>     56.00000</td><td>1012784.2</td></tr>\n",
       "\t<tr><td>GOOG</td><td>18942</td><td>     51.80106</td><td> 996292.4</td></tr>\n",
       "\t<tr><td>AAPL</td><td>25560</td><td>     28.87444</td><td>1039717.0</td></tr>\n",
       "\t<tr><td>AMZN</td><td>14388</td><td>     34.00000</td><td> 997253.9</td></tr>\n",
       "</tbody>\n",
       "</table>\n"
      ],
      "text/latex": [
       "A data.frame: 5 × 4\n",
       "\\begin{tabular}{llll}\n",
       " Stock & Shares & Cash\\_Left & Value\\\\\n",
       " <chr> & <dbl> & <dbl> & <dbl>\\\\\n",
       "\\hline\n",
       "\t IBM  &     0 & 1002877.83490 &       0.0\\\\\n",
       "\t MSFT & 11363 &      56.00000 & 1012784.2\\\\\n",
       "\t GOOG & 18942 &      51.80106 &  996292.4\\\\\n",
       "\t AAPL & 25560 &      28.87444 & 1039717.0\\\\\n",
       "\t AMZN & 14388 &      34.00000 &  997253.9\\\\\n",
       "\\end{tabular}\n"
      ],
      "text/markdown": [
       "\n",
       "A data.frame: 5 × 4\n",
       "\n",
       "| Stock &lt;chr&gt; | Shares &lt;dbl&gt; | Cash_Left &lt;dbl&gt; | Value &lt;dbl&gt; |\n",
       "|---|---|---|---|\n",
       "| IBM  |     0 | 1002877.83490 |       0.0 |\n",
       "| MSFT | 11363 |      56.00000 | 1012784.2 |\n",
       "| GOOG | 18942 |      51.80106 |  996292.4 |\n",
       "| AAPL | 25560 |      28.87444 | 1039717.0 |\n",
       "| AMZN | 14388 |      34.00000 |  997253.9 |\n",
       "\n"
      ],
      "text/plain": [
       "  Stock Shares Cash_Left     Value    \n",
       "1 IBM       0  1002877.83490       0.0\n",
       "2 MSFT  11363       56.00000 1012784.2\n",
       "3 GOOG  18942       51.80106  996292.4\n",
       "4 AAPL  25560       28.87444 1039717.0\n",
       "5 AMZN  14388       34.00000  997253.9"
      ]
     },
     "metadata": {},
     "output_type": "display_data"
    }
   ],
   "source": [
    "# Sceneario 1\n",
    "# buying shares before dividen date\n",
    "# selling after dividen date\n",
    "\n",
    "sellStock(purchase_date=\"2018-02-05\",\n",
    "         dividen_date=\"2018-02-08\",\n",
    "         sold_date=\"2018-02-12\")"
   ]
  },
  {
   "cell_type": "code",
   "execution_count": 16,
   "id": "04a7636b-57f4-46dd-b583-96805d5f287d",
   "metadata": {
    "colab": {
     "base_uri": "https://localhost:8080/",
     "height": 737
    },
    "id": "04a7636b-57f4-46dd-b583-96805d5f287d",
    "outputId": "09649846-f58e-4de4-94ac-3d12228f30a9"
   },
   "outputs": [
    {
     "name": "stdout",
     "output_type": "stream",
     "text": [
      "Purchased Porfolio\n",
      "MTM: 5000000 \tDate - 2018-02-05 \n",
      "  Stock Shares Cash_Left    Value\n",
      "1   IBM   6857  97.35288 999902.6\n",
      "2  MSFT  11363  56.00000 999944.0\n",
      "3  GOOG  18942  51.80106 999948.2\n",
      "4  AAPL  25560  28.87444 999971.1\n",
      "5  AMZN  14388  34.00000 999966.0\n",
      "\n",
      "Added dividen amount: 10285.5 \n",
      "MTM: 4855539 \tDate - 2018-02-08 \n",
      "  Stock Shares   Cash_Left    Value\n",
      "1   IBM   6857 10382.85288 967518.8\n",
      "2  MSFT  11363    56.00000 965968.7\n",
      "3  GOOG  18942    51.80106 948539.6\n",
      "4  AAPL  25560    28.87444 991408.4\n",
      "5  AMZN  14388    34.00000 971549.7\n",
      "\n",
      "After selling the stock!\n",
      "MTM: 4855539 \tDate - 2018-02-08 \n",
      "  Stock Shares    Cash_Left    Value\n",
      "1   IBM      0 977901.61696      0.0\n",
      "2  MSFT  11363     56.00000 965968.7\n",
      "3  GOOG  18942     51.80106 948539.6\n",
      "4  AAPL  25560     28.87444 991408.4\n",
      "5  AMZN  14388     34.00000 971549.7\n",
      "\n"
     ]
    },
    {
     "data": {
      "text/html": [
       "<table class=\"dataframe\">\n",
       "<caption>A data.frame: 5 × 4</caption>\n",
       "<thead>\n",
       "\t<tr><th scope=col>Stock</th><th scope=col>Shares</th><th scope=col>Cash_Left</th><th scope=col>Value</th></tr>\n",
       "\t<tr><th scope=col>&lt;chr&gt;</th><th scope=col>&lt;dbl&gt;</th><th scope=col>&lt;dbl&gt;</th><th scope=col>&lt;dbl&gt;</th></tr>\n",
       "</thead>\n",
       "<tbody>\n",
       "\t<tr><td>IBM </td><td>    0</td><td>977901.61696</td><td>     0.0</td></tr>\n",
       "\t<tr><td>MSFT</td><td>11363</td><td>    56.00000</td><td>965968.7</td></tr>\n",
       "\t<tr><td>GOOG</td><td>18942</td><td>    51.80106</td><td>948539.6</td></tr>\n",
       "\t<tr><td>AAPL</td><td>25560</td><td>    28.87444</td><td>991408.4</td></tr>\n",
       "\t<tr><td>AMZN</td><td>14388</td><td>    34.00000</td><td>971549.7</td></tr>\n",
       "</tbody>\n",
       "</table>\n"
      ],
      "text/latex": [
       "A data.frame: 5 × 4\n",
       "\\begin{tabular}{llll}\n",
       " Stock & Shares & Cash\\_Left & Value\\\\\n",
       " <chr> & <dbl> & <dbl> & <dbl>\\\\\n",
       "\\hline\n",
       "\t IBM  &     0 & 977901.61696 &      0.0\\\\\n",
       "\t MSFT & 11363 &     56.00000 & 965968.7\\\\\n",
       "\t GOOG & 18942 &     51.80106 & 948539.6\\\\\n",
       "\t AAPL & 25560 &     28.87444 & 991408.4\\\\\n",
       "\t AMZN & 14388 &     34.00000 & 971549.7\\\\\n",
       "\\end{tabular}\n"
      ],
      "text/markdown": [
       "\n",
       "A data.frame: 5 × 4\n",
       "\n",
       "| Stock &lt;chr&gt; | Shares &lt;dbl&gt; | Cash_Left &lt;dbl&gt; | Value &lt;dbl&gt; |\n",
       "|---|---|---|---|\n",
       "| IBM  |     0 | 977901.61696 |      0.0 |\n",
       "| MSFT | 11363 |     56.00000 | 965968.7 |\n",
       "| GOOG | 18942 |     51.80106 | 948539.6 |\n",
       "| AAPL | 25560 |     28.87444 | 991408.4 |\n",
       "| AMZN | 14388 |     34.00000 | 971549.7 |\n",
       "\n"
      ],
      "text/plain": [
       "  Stock Shares Cash_Left    Value   \n",
       "1 IBM       0  977901.61696      0.0\n",
       "2 MSFT  11363      56.00000 965968.7\n",
       "3 GOOG  18942      51.80106 948539.6\n",
       "4 AAPL  25560      28.87444 991408.4\n",
       "5 AMZN  14388      34.00000 971549.7"
      ]
     },
     "metadata": {},
     "output_type": "display_data"
    }
   ],
   "source": [
    "# Sceneario 2\n",
    "# buying shares before dividen date\n",
    "# selling on dividen date\n",
    "\n",
    "sellStock(purchase_date=\"2018-02-05\",\n",
    "         dividen_date=\"2018-02-08\",\n",
    "         sold_date=\"2018-02-08\")"
   ]
  },
  {
   "cell_type": "code",
   "execution_count": 17,
   "id": "59cd08a5-8916-42bb-8a1a-fc0a39179180",
   "metadata": {
    "colab": {
     "base_uri": "https://localhost:8080/",
     "height": 737
    },
    "id": "59cd08a5-8916-42bb-8a1a-fc0a39179180",
    "outputId": "0760410b-e7fb-4945-b373-829a4b6ce060",
    "tags": []
   },
   "outputs": [
    {
     "name": "stdout",
     "output_type": "stream",
     "text": [
      "Purchased Porfolio\n",
      "MTM: 5000000 \tDate - 2018-02-05 \n",
      "  Stock Shares Cash_Left    Value\n",
      "1   IBM   6857  97.35288 999902.6\n",
      "2  MSFT  11363  56.00000 999944.0\n",
      "3  GOOG  18942  51.80106 999948.2\n",
      "4  AAPL  25560  28.87444 999971.1\n",
      "5  AMZN  14388  34.00000 999966.0\n",
      "\n",
      "No dividen added \n",
      "MTM: 5000000 \tDate - 2018-02-05 \n",
      "  Stock Shares Cash_Left    Value\n",
      "1   IBM   6857  97.35288 999902.6\n",
      "2  MSFT  11363  56.00000 999944.0\n",
      "3  GOOG  18942  51.80106 999948.2\n",
      "4  AAPL  25560  28.87444 999971.1\n",
      "5  AMZN  14388  34.00000 999966.0\n",
      "\n",
      "After selling the stock!\n",
      "MTM: 5058865 \tDate - 2018-02-07 \n",
      "  Stock Shares     Cash_Left     Value\n",
      "1   IBM      0 1008653.28029       0.0\n",
      "2  MSFT  11363      56.00000 1018238.4\n",
      "3  GOOG  18942      51.80106  993110.1\n",
      "4  AAPL  25560      28.87444 1019460.5\n",
      "5  AMZN  14388      34.00000 1019231.5\n",
      "\n"
     ]
    },
    {
     "data": {
      "text/html": [
       "<table class=\"dataframe\">\n",
       "<caption>A data.frame: 5 × 4</caption>\n",
       "<thead>\n",
       "\t<tr><th scope=col>Stock</th><th scope=col>Shares</th><th scope=col>Cash_Left</th><th scope=col>Value</th></tr>\n",
       "\t<tr><th scope=col>&lt;chr&gt;</th><th scope=col>&lt;dbl&gt;</th><th scope=col>&lt;dbl&gt;</th><th scope=col>&lt;dbl&gt;</th></tr>\n",
       "</thead>\n",
       "<tbody>\n",
       "\t<tr><td>IBM </td><td>    0</td><td>1008653.28029</td><td>      0.0</td></tr>\n",
       "\t<tr><td>MSFT</td><td>11363</td><td>     56.00000</td><td>1018238.4</td></tr>\n",
       "\t<tr><td>GOOG</td><td>18942</td><td>     51.80106</td><td> 993110.1</td></tr>\n",
       "\t<tr><td>AAPL</td><td>25560</td><td>     28.87444</td><td>1019460.5</td></tr>\n",
       "\t<tr><td>AMZN</td><td>14388</td><td>     34.00000</td><td>1019231.5</td></tr>\n",
       "</tbody>\n",
       "</table>\n"
      ],
      "text/latex": [
       "A data.frame: 5 × 4\n",
       "\\begin{tabular}{llll}\n",
       " Stock & Shares & Cash\\_Left & Value\\\\\n",
       " <chr> & <dbl> & <dbl> & <dbl>\\\\\n",
       "\\hline\n",
       "\t IBM  &     0 & 1008653.28029 &       0.0\\\\\n",
       "\t MSFT & 11363 &      56.00000 & 1018238.4\\\\\n",
       "\t GOOG & 18942 &      51.80106 &  993110.1\\\\\n",
       "\t AAPL & 25560 &      28.87444 & 1019460.5\\\\\n",
       "\t AMZN & 14388 &      34.00000 & 1019231.5\\\\\n",
       "\\end{tabular}\n"
      ],
      "text/markdown": [
       "\n",
       "A data.frame: 5 × 4\n",
       "\n",
       "| Stock &lt;chr&gt; | Shares &lt;dbl&gt; | Cash_Left &lt;dbl&gt; | Value &lt;dbl&gt; |\n",
       "|---|---|---|---|\n",
       "| IBM  |     0 | 1008653.28029 |       0.0 |\n",
       "| MSFT | 11363 |      56.00000 | 1018238.4 |\n",
       "| GOOG | 18942 |      51.80106 |  993110.1 |\n",
       "| AAPL | 25560 |      28.87444 | 1019460.5 |\n",
       "| AMZN | 14388 |      34.00000 | 1019231.5 |\n",
       "\n"
      ],
      "text/plain": [
       "  Stock Shares Cash_Left     Value    \n",
       "1 IBM       0  1008653.28029       0.0\n",
       "2 MSFT  11363       56.00000 1018238.4\n",
       "3 GOOG  18942       51.80106  993110.1\n",
       "4 AAPL  25560       28.87444 1019460.5\n",
       "5 AMZN  14388       34.00000 1019231.5"
      ]
     },
     "metadata": {},
     "output_type": "display_data"
    }
   ],
   "source": [
    "# Sceneario 3\n",
    "# buying shares before dividen date\n",
    "# selling before dividen date\n",
    "\n",
    "sellStock(purchase_date=\"2018-02-05\",\n",
    "         dividen_date=\"2018-02-08\",\n",
    "         sold_date=\"2018-02-07\")"
   ]
  },
  {
   "cell_type": "code",
   "execution_count": 18,
   "id": "69955d33-4d0d-4deb-9e3e-c8f7d89e3a45",
   "metadata": {
    "colab": {
     "base_uri": "https://localhost:8080/",
     "height": 737
    },
    "id": "69955d33-4d0d-4deb-9e3e-c8f7d89e3a45",
    "outputId": "fa4bbaee-0761-44d2-9bcf-6a4006c183fb",
    "tags": []
   },
   "outputs": [
    {
     "name": "stdout",
     "output_type": "stream",
     "text": [
      "Purchased Porfolio\n",
      "MTM: 5000000 \tDate - 2018-02-08 \n",
      "  Stock Shares Cash_Left    Value\n",
      "1   IBM   7087  28.36794 999971.6\n",
      "2  MSFT  11763  27.34647 999972.7\n",
      "3  GOOG  19969  32.35600 999967.6\n",
      "4  AAPL  25781  19.51406 999980.5\n",
      "5  AMZN  14809  22.24538 999977.8\n",
      "\n",
      "No dividen added \n",
      "MTM: 5000000 \tDate - 2018-02-08 \n",
      "  Stock Shares Cash_Left    Value\n",
      "1   IBM   7087  28.36794 999971.6\n",
      "2  MSFT  11763  27.34647 999972.7\n",
      "3  GOOG  19969  32.35600 999967.6\n",
      "4  AAPL  25781  19.51406 999980.5\n",
      "5  AMZN  14809  22.24538 999977.8\n",
      "\n",
      "After selling the stock!\n",
      "MTM: 5199802 \tDate - 2018-02-12 \n",
      "  Stock Shares     Cash_Left   Value\n",
      "1   IBM      0 1025813.97937       0\n",
      "2  MSFT  11763      27.34647 1048436\n",
      "3  GOOG  19969      32.35600 1050309\n",
      "4  AAPL  25781      19.51406 1048707\n",
      "5  AMZN  14809      22.24538 1026434\n",
      "\n"
     ]
    },
    {
     "data": {
      "text/html": [
       "<table class=\"dataframe\">\n",
       "<caption>A data.frame: 5 × 4</caption>\n",
       "<thead>\n",
       "\t<tr><th scope=col>Stock</th><th scope=col>Shares</th><th scope=col>Cash_Left</th><th scope=col>Value</th></tr>\n",
       "\t<tr><th scope=col>&lt;chr&gt;</th><th scope=col>&lt;dbl&gt;</th><th scope=col>&lt;dbl&gt;</th><th scope=col>&lt;dbl&gt;</th></tr>\n",
       "</thead>\n",
       "<tbody>\n",
       "\t<tr><td>IBM </td><td>    0</td><td>1025813.97937</td><td>      0</td></tr>\n",
       "\t<tr><td>MSFT</td><td>11763</td><td>     27.34647</td><td>1048436</td></tr>\n",
       "\t<tr><td>GOOG</td><td>19969</td><td>     32.35600</td><td>1050309</td></tr>\n",
       "\t<tr><td>AAPL</td><td>25781</td><td>     19.51406</td><td>1048707</td></tr>\n",
       "\t<tr><td>AMZN</td><td>14809</td><td>     22.24538</td><td>1026434</td></tr>\n",
       "</tbody>\n",
       "</table>\n"
      ],
      "text/latex": [
       "A data.frame: 5 × 4\n",
       "\\begin{tabular}{llll}\n",
       " Stock & Shares & Cash\\_Left & Value\\\\\n",
       " <chr> & <dbl> & <dbl> & <dbl>\\\\\n",
       "\\hline\n",
       "\t IBM  &     0 & 1025813.97937 &       0\\\\\n",
       "\t MSFT & 11763 &      27.34647 & 1048436\\\\\n",
       "\t GOOG & 19969 &      32.35600 & 1050309\\\\\n",
       "\t AAPL & 25781 &      19.51406 & 1048707\\\\\n",
       "\t AMZN & 14809 &      22.24538 & 1026434\\\\\n",
       "\\end{tabular}\n"
      ],
      "text/markdown": [
       "\n",
       "A data.frame: 5 × 4\n",
       "\n",
       "| Stock &lt;chr&gt; | Shares &lt;dbl&gt; | Cash_Left &lt;dbl&gt; | Value &lt;dbl&gt; |\n",
       "|---|---|---|---|\n",
       "| IBM  |     0 | 1025813.97937 |       0 |\n",
       "| MSFT | 11763 |      27.34647 | 1048436 |\n",
       "| GOOG | 19969 |      32.35600 | 1050309 |\n",
       "| AAPL | 25781 |      19.51406 | 1048707 |\n",
       "| AMZN | 14809 |      22.24538 | 1026434 |\n",
       "\n"
      ],
      "text/plain": [
       "  Stock Shares Cash_Left     Value  \n",
       "1 IBM       0  1025813.97937       0\n",
       "2 MSFT  11763       27.34647 1048436\n",
       "3 GOOG  19969       32.35600 1050309\n",
       "4 AAPL  25781       19.51406 1048707\n",
       "5 AMZN  14809       22.24538 1026434"
      ]
     },
     "metadata": {},
     "output_type": "display_data"
    }
   ],
   "source": [
    "# Sceneario 4\n",
    "# buying shares in dividen date\n",
    "# selling after dividen date\n",
    "\n",
    "sellStock(purchase_date=\"2018-02-08\",\n",
    "         dividen_date=\"2018-02-08\",\n",
    "         sold_date=\"2018-02-12\")"
   ]
  },
  {
   "cell_type": "code",
   "execution_count": 19,
   "id": "e20e7b7d-129c-401f-bd95-c3d02d8caca9",
   "metadata": {
    "colab": {
     "base_uri": "https://localhost:8080/",
     "height": 737
    },
    "id": "e20e7b7d-129c-401f-bd95-c3d02d8caca9",
    "outputId": "8e234fa1-83d3-4fe7-832f-2cd64ac956d8",
    "tags": []
   },
   "outputs": [
    {
     "name": "stdout",
     "output_type": "stream",
     "text": [
      "Purchased Porfolio\n",
      "MTM: 5000000 \tDate - 2018-02-09 \n",
      "  Stock Shares Cash_Left    Value\n",
      "1   IBM   6996  26.75399 999973.2\n",
      "2  MSFT  11340  38.80000 999961.2\n",
      "3  GOOG  19271  47.08100 999952.9\n",
      "4  AAPL  25573  31.74193 999968.3\n",
      "5  AMZN  14929  55.53521 999944.5\n",
      "\n",
      "No dividen added \n",
      "MTM: 5000000 \tDate - 2018-02-09 \n",
      "  Stock Shares Cash_Left    Value\n",
      "1   IBM   6996  26.75399 999973.2\n",
      "2  MSFT  11340  38.80000 999961.2\n",
      "3  GOOG  19271  47.08100 999952.9\n",
      "4  AAPL  25573  31.74193 999968.3\n",
      "5  AMZN  14929  55.53521 999944.5\n",
      "\n",
      "After selling the stock!\n",
      "MTM: 5112142 \tDate - 2018-02-12 \n",
      "  Stock Shares     Cash_Left   Value\n",
      "1   IBM      0 1012640.85552       0\n",
      "2  MSFT  11340      38.80000 1010734\n",
      "3  GOOG  19271      47.08100 1013597\n",
      "4  AAPL  25573      31.74193 1040246\n",
      "5  AMZN  14929      55.53521 1034751\n",
      "\n"
     ]
    },
    {
     "data": {
      "text/html": [
       "<table class=\"dataframe\">\n",
       "<caption>A data.frame: 5 × 4</caption>\n",
       "<thead>\n",
       "\t<tr><th scope=col>Stock</th><th scope=col>Shares</th><th scope=col>Cash_Left</th><th scope=col>Value</th></tr>\n",
       "\t<tr><th scope=col>&lt;chr&gt;</th><th scope=col>&lt;dbl&gt;</th><th scope=col>&lt;dbl&gt;</th><th scope=col>&lt;dbl&gt;</th></tr>\n",
       "</thead>\n",
       "<tbody>\n",
       "\t<tr><td>IBM </td><td>    0</td><td>1012640.85552</td><td>      0</td></tr>\n",
       "\t<tr><td>MSFT</td><td>11340</td><td>     38.80000</td><td>1010734</td></tr>\n",
       "\t<tr><td>GOOG</td><td>19271</td><td>     47.08100</td><td>1013597</td></tr>\n",
       "\t<tr><td>AAPL</td><td>25573</td><td>     31.74193</td><td>1040246</td></tr>\n",
       "\t<tr><td>AMZN</td><td>14929</td><td>     55.53521</td><td>1034751</td></tr>\n",
       "</tbody>\n",
       "</table>\n"
      ],
      "text/latex": [
       "A data.frame: 5 × 4\n",
       "\\begin{tabular}{llll}\n",
       " Stock & Shares & Cash\\_Left & Value\\\\\n",
       " <chr> & <dbl> & <dbl> & <dbl>\\\\\n",
       "\\hline\n",
       "\t IBM  &     0 & 1012640.85552 &       0\\\\\n",
       "\t MSFT & 11340 &      38.80000 & 1010734\\\\\n",
       "\t GOOG & 19271 &      47.08100 & 1013597\\\\\n",
       "\t AAPL & 25573 &      31.74193 & 1040246\\\\\n",
       "\t AMZN & 14929 &      55.53521 & 1034751\\\\\n",
       "\\end{tabular}\n"
      ],
      "text/markdown": [
       "\n",
       "A data.frame: 5 × 4\n",
       "\n",
       "| Stock &lt;chr&gt; | Shares &lt;dbl&gt; | Cash_Left &lt;dbl&gt; | Value &lt;dbl&gt; |\n",
       "|---|---|---|---|\n",
       "| IBM  |     0 | 1012640.85552 |       0 |\n",
       "| MSFT | 11340 |      38.80000 | 1010734 |\n",
       "| GOOG | 19271 |      47.08100 | 1013597 |\n",
       "| AAPL | 25573 |      31.74193 | 1040246 |\n",
       "| AMZN | 14929 |      55.53521 | 1034751 |\n",
       "\n"
      ],
      "text/plain": [
       "  Stock Shares Cash_Left     Value  \n",
       "1 IBM       0  1012640.85552       0\n",
       "2 MSFT  11340       38.80000 1010734\n",
       "3 GOOG  19271       47.08100 1013597\n",
       "4 AAPL  25573       31.74193 1040246\n",
       "5 AMZN  14929       55.53521 1034751"
      ]
     },
     "metadata": {},
     "output_type": "display_data"
    }
   ],
   "source": [
    "# Sceneario 5\n",
    "# buying shares after dividen date\n",
    "# selling after dividen date\n",
    "\n",
    "sellStock(purchase_date=\"2018-02-09\",\n",
    "         dividen_date=\"2018-02-08\",\n",
    "         sold_date=\"2018-02-12\")"
   ]
  },
  {
   "cell_type": "markdown",
   "id": "daa7fa19-d372-4b57-ad5b-08df16ffa563",
   "metadata": {
    "id": "daa7fa19-d372-4b57-ad5b-08df16ffa563"
   },
   "source": [
    "### 4"
   ]
  },
  {
   "cell_type": "markdown",
   "id": "7082b81a-7391-4b97-9388-46c6174b0573",
   "metadata": {
    "id": "899bf456-f75b-48d2-9dc9-ba649fdbfba0"
   },
   "source": [
    "5 business days later on Jan 17 (Jan 15 was a holiday), you re-check the market and adjust your portfolio again. You will have a\n",
    "new portfolio on Jan 17"
   ]
  },
  {
   "cell_type": "code",
   "execution_count": 20,
   "id": "42e58aab-489b-4275-b4de-f1f139724d90",
   "metadata": {
    "colab": {
     "base_uri": "https://localhost:8080/",
     "height": 34
    },
    "id": "42e58aab-489b-4275-b4de-f1f139724d90",
    "outputId": "b127fa85-9299-4acd-a9e1-7bc320d22b92",
    "tags": []
   },
   "outputs": [
    {
     "data": {
      "text/html": [
       "<style>\n",
       ".list-inline {list-style: none; margin:0; padding: 0}\n",
       ".list-inline>li {display: inline-block}\n",
       ".list-inline>li:not(:last-child)::after {content: \"\\00b7\"; padding: 0 .5ex}\n",
       "</style>\n",
       "<ol class=list-inline><li><time datetime=\"2018-12-28\">2018-12-28</time></li><li><time datetime=\"2018-12-29\">2018-12-29</time></li><li><time datetime=\"2018-12-30\">2018-12-30</time></li><li><time datetime=\"2018-12-31\">2018-12-31</time></li><li><time datetime=\"2019-01-01\">2019-01-01</time></li><li><time datetime=\"2019-01-02\">2019-01-02</time></li><li><time datetime=\"2019-01-03\">2019-01-03</time></li><li><time datetime=\"2019-01-04\">2019-01-04</time></li></ol>\n"
      ],
      "text/latex": [
       "\\begin{enumerate*}\n",
       "\\item 2018-12-28\n",
       "\\item 2018-12-29\n",
       "\\item 2018-12-30\n",
       "\\item 2018-12-31\n",
       "\\item 2019-01-01\n",
       "\\item 2019-01-02\n",
       "\\item 2019-01-03\n",
       "\\item 2019-01-04\n",
       "\\end{enumerate*}\n"
      ],
      "text/markdown": [
       "1. 2018-12-28\n",
       "2. 2018-12-29\n",
       "3. 2018-12-30\n",
       "4. 2018-12-31\n",
       "5. 2019-01-01\n",
       "6. 2019-01-02\n",
       "7. 2019-01-03\n",
       "8. 2019-01-04\n",
       "\n",
       "\n"
      ],
      "text/plain": [
       "[1] \"2018-12-28\" \"2018-12-29\" \"2018-12-30\" \"2018-12-31\" \"2019-01-01\"\n",
       "[6] \"2019-01-02\" \"2019-01-03\" \"2019-01-04\""
      ]
     },
     "metadata": {},
     "output_type": "display_data"
    }
   ],
   "source": [
    "\n",
    "# old version of th formula that generates 5 business dates\n",
    "next_5_days = function(input_date) {\n",
    "  input_date = as.Date(input_date, format=\"%Y-%m-%d\")\n",
    "  return(seq(from = input_date, by = \"days\", length.out = 8))\n",
    "}\n",
    "\n",
    "next_5_days(\"2018-12-28\")"
   ]
  },
  {
   "cell_type": "code",
   "execution_count": 21,
   "id": "38538c41-8e3c-4c2a-8696-e1fa925fe020",
   "metadata": {
    "colab": {
     "base_uri": "https://localhost:8080/",
     "height": 34
    },
    "id": "38538c41-8e3c-4c2a-8696-e1fa925fe020",
    "outputId": "0c31e7f9-1878-4f76-f292-ae7cec624e92",
    "tags": []
   },
   "outputs": [
    {
     "data": {
      "text/html": [
       "<style>\n",
       ".list-inline {list-style: none; margin:0; padding: 0}\n",
       ".list-inline>li {display: inline-block}\n",
       ".list-inline>li:not(:last-child)::after {content: \"\\00b7\"; padding: 0 .5ex}\n",
       "</style>\n",
       "<ol class=list-inline><li><time datetime=\"2018-12-15\">2018-12-15</time></li><li><time datetime=\"2018-12-16\">2018-12-16</time></li><li><time datetime=\"2018-12-17\">2018-12-17</time></li><li><time datetime=\"2018-12-18\">2018-12-18</time></li><li><time datetime=\"2018-12-19\">2018-12-19</time></li><li><time datetime=\"2018-12-20\">2018-12-20</time></li><li><time datetime=\"2018-12-21\">2018-12-21</time></li><li><time datetime=\"2018-12-22\">2018-12-22</time></li><li><time datetime=\"2018-12-23\">2018-12-23</time></li><li><time datetime=\"2018-12-24\">2018-12-24</time></li></ol>\n"
      ],
      "text/latex": [
       "\\begin{enumerate*}\n",
       "\\item 2018-12-15\n",
       "\\item 2018-12-16\n",
       "\\item 2018-12-17\n",
       "\\item 2018-12-18\n",
       "\\item 2018-12-19\n",
       "\\item 2018-12-20\n",
       "\\item 2018-12-21\n",
       "\\item 2018-12-22\n",
       "\\item 2018-12-23\n",
       "\\item 2018-12-24\n",
       "\\end{enumerate*}\n"
      ],
      "text/markdown": [
       "1. 2018-12-15\n",
       "2. 2018-12-16\n",
       "3. 2018-12-17\n",
       "4. 2018-12-18\n",
       "5. 2018-12-19\n",
       "6. 2018-12-20\n",
       "7. 2018-12-21\n",
       "8. 2018-12-22\n",
       "9. 2018-12-23\n",
       "10. 2018-12-24\n",
       "\n",
       "\n"
      ],
      "text/plain": [
       " [1] \"2018-12-15\" \"2018-12-16\" \"2018-12-17\" \"2018-12-18\" \"2018-12-19\"\n",
       " [6] \"2018-12-20\" \"2018-12-21\" \"2018-12-22\" \"2018-12-23\" \"2018-12-24\""
      ]
     },
     "metadata": {},
     "output_type": "display_data"
    }
   ],
   "source": [
    "# Generates the dates of the next 5 buisness dates\n",
    "next_5_days = function(input_date) {\n",
    "    input_date = as.Date(input_date, format=\"%Y-%m-%d\")\n",
    "\n",
    "    # Start with the initial 5 days\n",
    "    dates = seq(from = input_date, by = \"days\", length.out = 6)\n",
    "\n",
    "    # last date:\n",
    "    last_date = tail(df$Date, n=1)\n",
    "\n",
    "    # While the intersection of the dates and the dataframe's Date column\n",
    "    # has less than 5 dates, this new version keeps adding days\n",
    "    while(length(intersect(dates, df$Date)) <= 5) {\n",
    "        dates = seq(from = input_date, by = \"days\", length.out = length(dates) + 1)\n",
    "        if (dates[length(dates)] >= last_date) {return(dates)}\n",
    "    }\n",
    "\n",
    "    return(dates)\n",
    "}\n",
    "\n",
    "next_5_days(\"2018-12-15\")"
   ]
  },
  {
   "cell_type": "code",
   "execution_count": null,
   "id": "1ffad970-4638-43e1-9843-b85e7bc17db9",
   "metadata": {
    "id": "1ffad970-4638-43e1-9843-b85e7bc17db9"
   },
   "outputs": [],
   "source": []
  },
  {
   "cell_type": "code",
   "execution_count": 22,
   "id": "18d9d026-9882-4b0c-bd49-09dfcebdd79b",
   "metadata": {
    "id": "18d9d026-9882-4b0c-bd49-09dfcebdd79b",
    "tags": []
   },
   "outputs": [],
   "source": [
    "# Note: add more parameters for the creation of the day1Portfolio = portfolioMTM(DATE=date)\n",
    "# updated this formula so that it takes a previous portfolio as a parameter\n",
    "rebalancingMTM_Q4 = function(date=DATE, day1Portfolio)\n",
    "{\n",
    "    # Enter a date to return the dates of 5 days later of the entered date\n",
    "    DATE_5 = next_5_days(date)\n",
    "    purchase_data = df[df$Date %in% DATE_5, ]\n",
    "\n",
    "    # column names of adj close of every stock\n",
    "    adj_close_colname = grep(\"Adj_Close\", names(df), value=TRUE)\n",
    "\n",
    "    start = purchase_data[1,] # data from the initial date\n",
    "    end = purchase_data[nrow(purchase_data), ] # date from 5 business days later from the initial date\n",
    "\n",
    "    # the differences between the adj close of the initial date and the adj close of the 5th business day\n",
    "    changes_adj_close = (start[, adj_close_colname] - end[, adj_close_colname]) / start[, adj_close_colname] * 100\n",
    "\n",
    "    # storing the column names of the stocks with the lowest change in adj close\n",
    "    low_stock = c()\n",
    "    for (i in 1:5)\n",
    "    {\n",
    "        # returning the column name of the lowest change in adj close\n",
    "        colNames = names(which.min(changes_adj_close))\n",
    "        low_stock = c(low_stock, colNames) # storing the column names\n",
    "\n",
    "        # erase the column with the lowest change in adj close to have a new min in the next iteration\n",
    "        changes_adj_close[,colNames] = NULL\n",
    "\n",
    "    }\n",
    "\n",
    "    # storing the stocks MTM from the initial date\n",
    "    # day1Portfolio = portfolioMTM(date=date) # Note: maybe I should create variables for the rebalancing()\n",
    "\n",
    "    # keeping only the Close_STOCK columns\n",
    "    purchase_data_Close = purchase_data[, !colnames(purchase_data) %in% adj_close_colname][nrow(purchase_data),]\n",
    "\n",
    "    new_INITIAL = 0\n",
    "\n",
    "    # Selling the stock from our first profolio from day one based on the Close price of the stock on the 5th day\n",
    "    for (stock in day1Portfolio$Stock) {\n",
    "        cat(paste(\"Close\", stock, sep='_'), '\\n')\n",
    "\n",
    "        stock_Shares = day1Portfolio[day1Portfolio$Stock == stock, \"Shares\"]\n",
    "        cat(\"stock_Shares\", stock_Shares, \"\\n\")\n",
    "\n",
    "        sell_CLose = purchase_data_Close[, paste(\"Close\", stock, sep='_')]\n",
    "        cat(\"sell_CLose\", sell_CLose, \"\\n\")\n",
    "\n",
    "        profit_cash = stock_Shares * sell_CLose\n",
    "        cat(\"profit_cash\", profit_cash, \"\\n\\n\")\n",
    "\n",
    "        new_INITIAL = new_INITIAL + profit_cash\n",
    "\n",
    "    }\n",
    "\n",
    "    modified_vec = gsub(\"Adj_Close_\", \"\", low_stock)\n",
    "\n",
    "    # new INITIAL for our new porfolio of the 5th day\n",
    "    new_INITIAL = sum(day1Portfolio$Cash_Left) + new_INITIAL; new_INITIAL\n",
    "    return(portfolioMTM(stocks=modified_vec, date=end$Date, initial=new_INITIAL))\n",
    "\n",
    "}"
   ]
  },
  {
   "cell_type": "code",
   "execution_count": 23,
   "id": "f65fd9ee-17d5-4660-97df-094f67a4c986",
   "metadata": {
    "colab": {
     "base_uri": "https://localhost:8080/",
     "height": 1000
    },
    "id": "f65fd9ee-17d5-4660-97df-094f67a4c986",
    "outputId": "05b4a950-85c7-4d23-97a8-06a689a3b62c",
    "tags": []
   },
   "outputs": [
    {
     "name": "stdout",
     "output_type": "stream",
     "text": [
      "MTM: 5000000 \tDate - 2018-01-02 \n",
      "  Stock Shares Cash_Left    Value\n",
      "1   IBM   6781  29.41260 999970.6\n",
      "2  MSFT  11634  57.73490 999942.3\n",
      "3  GOOG  18779  18.25000 999981.8\n",
      "4  AAPL  23220  30.72322 999969.3\n",
      "5  AMZN  16820  42.59000 999957.4\n",
      "\n",
      "Close_IBM \n",
      "stock_Shares 6781 \n",
      "sell_CLose 156.6252 \n",
      "profit_cash 1062076 \n",
      "\n",
      "Close_MSFT \n",
      "stock_Shares 11634 \n",
      "sell_CLose 88.22 \n",
      "profit_cash 1026351 \n",
      "\n",
      "Close_GOOG \n",
      "stock_Shares 18779 \n",
      "sell_CLose 55.313 \n",
      "profit_cash 1038723 \n",
      "\n",
      "Close_AAPL \n",
      "stock_Shares 23220 \n",
      "sell_CLose 43.5825 \n",
      "profit_cash 1011986 \n",
      "\n",
      "Close_AMZN \n",
      "stock_Shares 16820 \n",
      "sell_CLose 62.635 \n",
      "profit_cash 1053521 \n",
      "\n",
      "MTM: 5192835 \tDate - 2018-01-09 \n",
      "  Stock Shares Cash_Left   Value\n",
      "1   IBM   6630 141.65734 1038425\n",
      "2  ORCL  21169  15.86389 1038551\n",
      "3  AMZN  16581  16.12322 1038551\n",
      "4  TSLA  46685  12.51506 1038555\n",
      "5  NFLX   4961 180.12498 1038387\n",
      "\n",
      "Close_IBM \n",
      "stock_Shares 6630 \n",
      "sell_CLose 161.2333 \n",
      "profit_cash 1068977 \n",
      "\n",
      "Close_ORCL \n",
      "stock_Shares 21169 \n",
      "sell_CLose 50.27 \n",
      "profit_cash 1064166 \n",
      "\n",
      "Close_AMZN \n",
      "stock_Shares 16581 \n",
      "sell_CLose 64.75 \n",
      "profit_cash 1073620 \n",
      "\n",
      "Close_TSLA \n",
      "stock_Shares 46685 \n",
      "sell_CLose 23.144 \n",
      "profit_cash 1080478 \n",
      "\n",
      "Close_NFLX \n",
      "stock_Shares 4961 \n",
      "sell_CLose 217.5 \n",
      "profit_cash 1079018 \n",
      "\n",
      "MTM: 5366623 \tDate - 2018-01-17 \n",
      "  Stock Shares Cash_Left   Value\n",
      "1  TSLA  46375  21.72191 1073303\n",
      "2  NFLX   4934 179.67553 1073145\n",
      "3  AMZN  16576  28.67553 1073296\n",
      "4   IBM   6656 155.99048 1073169\n",
      "5  AAPL  23971  23.10259 1073302\n",
      "\n"
     ]
    },
    {
     "data": {
      "text/html": [
       "<table class=\"dataframe\">\n",
       "<caption>A data.frame: 5 × 4</caption>\n",
       "<thead>\n",
       "\t<tr><th scope=col>Stock</th><th scope=col>Shares</th><th scope=col>Cash_Left</th><th scope=col>Value</th></tr>\n",
       "\t<tr><th scope=col>&lt;chr&gt;</th><th scope=col>&lt;dbl&gt;</th><th scope=col>&lt;dbl&gt;</th><th scope=col>&lt;dbl&gt;</th></tr>\n",
       "</thead>\n",
       "<tbody>\n",
       "\t<tr><td>TSLA</td><td>46375</td><td> 21.72191</td><td>1073303</td></tr>\n",
       "\t<tr><td>NFLX</td><td> 4934</td><td>179.67553</td><td>1073145</td></tr>\n",
       "\t<tr><td>AMZN</td><td>16576</td><td> 28.67553</td><td>1073296</td></tr>\n",
       "\t<tr><td>IBM </td><td> 6656</td><td>155.99048</td><td>1073169</td></tr>\n",
       "\t<tr><td>AAPL</td><td>23971</td><td> 23.10259</td><td>1073302</td></tr>\n",
       "</tbody>\n",
       "</table>\n"
      ],
      "text/latex": [
       "A data.frame: 5 × 4\n",
       "\\begin{tabular}{llll}\n",
       " Stock & Shares & Cash\\_Left & Value\\\\\n",
       " <chr> & <dbl> & <dbl> & <dbl>\\\\\n",
       "\\hline\n",
       "\t TSLA & 46375 &  21.72191 & 1073303\\\\\n",
       "\t NFLX &  4934 & 179.67553 & 1073145\\\\\n",
       "\t AMZN & 16576 &  28.67553 & 1073296\\\\\n",
       "\t IBM  &  6656 & 155.99048 & 1073169\\\\\n",
       "\t AAPL & 23971 &  23.10259 & 1073302\\\\\n",
       "\\end{tabular}\n"
      ],
      "text/markdown": [
       "\n",
       "A data.frame: 5 × 4\n",
       "\n",
       "| Stock &lt;chr&gt; | Shares &lt;dbl&gt; | Cash_Left &lt;dbl&gt; | Value &lt;dbl&gt; |\n",
       "|---|---|---|---|\n",
       "| TSLA | 46375 |  21.72191 | 1073303 |\n",
       "| NFLX |  4934 | 179.67553 | 1073145 |\n",
       "| AMZN | 16576 |  28.67553 | 1073296 |\n",
       "| IBM  |  6656 | 155.99048 | 1073169 |\n",
       "| AAPL | 23971 |  23.10259 | 1073302 |\n",
       "\n"
      ],
      "text/plain": [
       "  Stock Shares Cash_Left Value  \n",
       "1 TSLA  46375   21.72191 1073303\n",
       "2 NFLX   4934  179.67553 1073145\n",
       "3 AMZN  16576   28.67553 1073296\n",
       "4 IBM    6656  155.99048 1073169\n",
       "5 AAPL  23971   23.10259 1073302"
      ]
     },
     "metadata": {},
     "output_type": "display_data"
    }
   ],
   "source": [
    "current_portfolio = rebalancingMTM(date=\"2018-01-02\")\n",
    "rebalancingMTM_Q4(date=\"2018-01-09\", day1Portfolio=current_portfolio)"
   ]
  },
  {
   "cell_type": "markdown",
   "id": "8659d037-0be7-43af-a82a-01deac5d01c1",
   "metadata": {
    "id": "8659d037-0be7-43af-a82a-01deac5d01c1"
   },
   "source": [
    "### 5"
   ]
  },
  {
   "cell_type": "markdown",
   "id": "abfdcbd4-bf17-441a-a202-8c79db1f826c",
   "metadata": {
    "id": "6958ad35-7594-45cd-8689-651a44d52b9c"
   },
   "source": [
    "If you run this strategy every 5 days all the way to Dec 31 2018, you will have a daily MTM. You expect the MTM on Dec 31 2018\n",
    "should be higher than $5m because you always buy the stocks that dropped the most, i.e., you always buy low"
   ]
  },
  {
   "cell_type": "code",
   "execution_count": 24,
   "id": "49e488f2-0e8a-447c-b855-075ff9a03f9e",
   "metadata": {
    "colab": {
     "base_uri": "https://localhost:8080/",
     "height": 167
    },
    "id": "49e488f2-0e8a-447c-b855-075ff9a03f9e",
    "outputId": "4e057024-2e98-41b8-c2be-d115ad68dcb2",
    "tags": []
   },
   "outputs": [
    {
     "data": {
      "text/html": [
       "<table class=\"dataframe\">\n",
       "<caption>A data.frame: 1 × 21</caption>\n",
       "<thead>\n",
       "\t<tr><th></th><th scope=col>Date</th><th scope=col>Close_IBM</th><th scope=col>Adj_Close_IBM</th><th scope=col>Close_MSFT</th><th scope=col>Adj_Close_MSFT</th><th scope=col>Close_GOOG</th><th scope=col>Adj_Close_GOOG</th><th scope=col>Close_AAPL</th><th scope=col>Adj_Close_AAPL</th><th scope=col>Close_AMZN</th><th scope=col>⋯</th><th scope=col>Close_META</th><th scope=col>Adj_Close_META</th><th scope=col>Close_NFLX</th><th scope=col>Adj_Close_NFLX</th><th scope=col>Close_ORCL</th><th scope=col>Adj_Close_ORCL</th><th scope=col>Close_SAP</th><th scope=col>Adj_Close_SAP</th><th scope=col>Close_TSLA</th><th scope=col>Adj_Close_TSLA</th></tr>\n",
       "\t<tr><th></th><th scope=col>&lt;date&gt;</th><th scope=col>&lt;dbl&gt;</th><th scope=col>&lt;dbl&gt;</th><th scope=col>&lt;dbl&gt;</th><th scope=col>&lt;dbl&gt;</th><th scope=col>&lt;dbl&gt;</th><th scope=col>&lt;dbl&gt;</th><th scope=col>&lt;dbl&gt;</th><th scope=col>&lt;dbl&gt;</th><th scope=col>&lt;dbl&gt;</th><th scope=col>⋯</th><th scope=col>&lt;dbl&gt;</th><th scope=col>&lt;dbl&gt;</th><th scope=col>&lt;dbl&gt;</th><th scope=col>&lt;dbl&gt;</th><th scope=col>&lt;dbl&gt;</th><th scope=col>&lt;dbl&gt;</th><th scope=col>&lt;dbl&gt;</th><th scope=col>&lt;dbl&gt;</th><th scope=col>&lt;dbl&gt;</th><th scope=col>&lt;dbl&gt;</th></tr>\n",
       "</thead>\n",
       "<tbody>\n",
       "\t<tr><th scope=row>1</th><td>2018-01-02</td><td>147.4665</td><td>111.8001</td><td>85.95</td><td>80.39185</td><td>53.25</td><td>53.25</td><td>43.065</td><td>40.77652</td><td>59.4505</td><td>⋯</td><td>181.42</td><td>181.42</td><td>201.07</td><td>201.07</td><td>46.63</td><td>42.28244</td><td>112.39</td><td>101.2103</td><td>21.36867</td><td>21.36867</td></tr>\n",
       "</tbody>\n",
       "</table>\n"
      ],
      "text/latex": [
       "A data.frame: 1 × 21\n",
       "\\begin{tabular}{r|lllllllllllllllllllll}\n",
       "  & Date & Close\\_IBM & Adj\\_Close\\_IBM & Close\\_MSFT & Adj\\_Close\\_MSFT & Close\\_GOOG & Adj\\_Close\\_GOOG & Close\\_AAPL & Adj\\_Close\\_AAPL & Close\\_AMZN & ⋯ & Close\\_META & Adj\\_Close\\_META & Close\\_NFLX & Adj\\_Close\\_NFLX & Close\\_ORCL & Adj\\_Close\\_ORCL & Close\\_SAP & Adj\\_Close\\_SAP & Close\\_TSLA & Adj\\_Close\\_TSLA\\\\\n",
       "  & <date> & <dbl> & <dbl> & <dbl> & <dbl> & <dbl> & <dbl> & <dbl> & <dbl> & <dbl> & ⋯ & <dbl> & <dbl> & <dbl> & <dbl> & <dbl> & <dbl> & <dbl> & <dbl> & <dbl> & <dbl>\\\\\n",
       "\\hline\n",
       "\t1 & 2018-01-02 & 147.4665 & 111.8001 & 85.95 & 80.39185 & 53.25 & 53.25 & 43.065 & 40.77652 & 59.4505 & ⋯ & 181.42 & 181.42 & 201.07 & 201.07 & 46.63 & 42.28244 & 112.39 & 101.2103 & 21.36867 & 21.36867\\\\\n",
       "\\end{tabular}\n"
      ],
      "text/markdown": [
       "\n",
       "A data.frame: 1 × 21\n",
       "\n",
       "| <!--/--> | Date &lt;date&gt; | Close_IBM &lt;dbl&gt; | Adj_Close_IBM &lt;dbl&gt; | Close_MSFT &lt;dbl&gt; | Adj_Close_MSFT &lt;dbl&gt; | Close_GOOG &lt;dbl&gt; | Adj_Close_GOOG &lt;dbl&gt; | Close_AAPL &lt;dbl&gt; | Adj_Close_AAPL &lt;dbl&gt; | Close_AMZN &lt;dbl&gt; | ⋯ ⋯ | Close_META &lt;dbl&gt; | Adj_Close_META &lt;dbl&gt; | Close_NFLX &lt;dbl&gt; | Adj_Close_NFLX &lt;dbl&gt; | Close_ORCL &lt;dbl&gt; | Adj_Close_ORCL &lt;dbl&gt; | Close_SAP &lt;dbl&gt; | Adj_Close_SAP &lt;dbl&gt; | Close_TSLA &lt;dbl&gt; | Adj_Close_TSLA &lt;dbl&gt; |\n",
       "|---|---|---|---|---|---|---|---|---|---|---|---|---|---|---|---|---|---|---|---|---|---|\n",
       "| 1 | 2018-01-02 | 147.4665 | 111.8001 | 85.95 | 80.39185 | 53.25 | 53.25 | 43.065 | 40.77652 | 59.4505 | ⋯ | 181.42 | 181.42 | 201.07 | 201.07 | 46.63 | 42.28244 | 112.39 | 101.2103 | 21.36867 | 21.36867 |\n",
       "\n"
      ],
      "text/plain": [
       "  Date       Close_IBM Adj_Close_IBM Close_MSFT Adj_Close_MSFT Close_GOOG\n",
       "1 2018-01-02 147.4665  111.8001      85.95      80.39185       53.25     \n",
       "  Adj_Close_GOOG Close_AAPL Adj_Close_AAPL Close_AMZN ⋯ Close_META\n",
       "1 53.25          43.065     40.77652       59.4505    ⋯ 181.42    \n",
       "  Adj_Close_META Close_NFLX Adj_Close_NFLX Close_ORCL Adj_Close_ORCL Close_SAP\n",
       "1 181.42         201.07     201.07         46.63      42.28244       112.39   \n",
       "  Adj_Close_SAP Close_TSLA Adj_Close_TSLA\n",
       "1 101.2103      21.36867   21.36867      "
      ]
     },
     "metadata": {},
     "output_type": "display_data"
    }
   ],
   "source": [
    "INITIAL = 5000000\n",
    "STOCKS = c('IBM', 'MSFT', 'GOOG', 'AAPL', 'AMZN')\n",
    "DATE = \"2018-01-02\"\n",
    "IDX = 1 # this is \"2018-01-02\"\n",
    "PORTFOLIO = data.frame(\n",
    "        Stock = character(0),\n",
    "        Shares = numeric(0),\n",
    "        Cash_Left = numeric(0),\n",
    "        Value = numeric(0)\n",
    "    )\n",
    "\n",
    "# Get the data for the selected stocks on the purchase date\n",
    "purchase_data = df[df$Date == DATE, ]; purchase_data"
   ]
  },
  {
   "cell_type": "code",
   "execution_count": 25,
   "id": "7411a94f-8795-44ed-b292-6fff5575a17a",
   "metadata": {
    "colab": {
     "base_uri": "https://localhost:8080/",
     "height": 253
    },
    "id": "7411a94f-8795-44ed-b292-6fff5575a17a",
    "outputId": "2b405f0b-7601-4766-d349-d5fe0492f9a6",
    "tags": []
   },
   "outputs": [
    {
     "data": {
      "text/html": [
       "<dl>\n",
       "\t<dt>[[1]]</dt>\n",
       "\t\t<dd>5000000</dd>\n",
       "\t<dt>$Stock</dt>\n",
       "\t\t<dd><style>\n",
       ".list-inline {list-style: none; margin:0; padding: 0}\n",
       ".list-inline>li {display: inline-block}\n",
       ".list-inline>li:not(:last-child)::after {content: \"\\00b7\"; padding: 0 .5ex}\n",
       "</style>\n",
       "<ol class=list-inline><li>'IBM'</li><li>'MSFT'</li><li>'GOOG'</li><li>'AAPL'</li><li>'AMZN'</li></ol>\n",
       "</dd>\n",
       "\t<dt>$Shares</dt>\n",
       "\t\t<dd><style>\n",
       ".list-inline {list-style: none; margin:0; padding: 0}\n",
       ".list-inline>li {display: inline-block}\n",
       ".list-inline>li:not(:last-child)::after {content: \"\\00b7\"; padding: 0 .5ex}\n",
       "</style>\n",
       "<ol class=list-inline><li>6781</li><li>11634</li><li>18779</li><li>23220</li><li>16820</li></ol>\n",
       "</dd>\n",
       "\t<dt>$Cash_Left</dt>\n",
       "\t\t<dd><style>\n",
       ".list-inline {list-style: none; margin:0; padding: 0}\n",
       ".list-inline>li {display: inline-block}\n",
       ".list-inline>li:not(:last-child)::after {content: \"\\00b7\"; padding: 0 .5ex}\n",
       "</style>\n",
       "<ol class=list-inline><li>29.4126030000625</li><li>57.7349020000547</li><li>18.25</li><li>30.7232200000435</li><li>42.5900000000838</li></ol>\n",
       "</dd>\n",
       "\t<dt>$Value</dt>\n",
       "\t\t<dd><style>\n",
       ".list-inline {list-style: none; margin:0; padding: 0}\n",
       ".list-inline>li {display: inline-block}\n",
       ".list-inline>li:not(:last-child)::after {content: \"\\00b7\"; padding: 0 .5ex}\n",
       "</style>\n",
       "<ol class=list-inline><li>999970.587397</li><li>999942.265098</li><li>999981.75</li><li>999969.27678</li><li>999957.41</li></ol>\n",
       "</dd>\n",
       "\t<dt>[[6]]</dt>\n",
       "\t\t<dd>'2018-01-02'</dd>\n",
       "</dl>\n"
      ],
      "text/latex": [
       "\\begin{description}\n",
       "\\item[{[[1]]}] 5000000\n",
       "\\item[\\$Stock] \\begin{enumerate*}\n",
       "\\item 'IBM'\n",
       "\\item 'MSFT'\n",
       "\\item 'GOOG'\n",
       "\\item 'AAPL'\n",
       "\\item 'AMZN'\n",
       "\\end{enumerate*}\n",
       "\n",
       "\\item[\\$Shares] \\begin{enumerate*}\n",
       "\\item 6781\n",
       "\\item 11634\n",
       "\\item 18779\n",
       "\\item 23220\n",
       "\\item 16820\n",
       "\\end{enumerate*}\n",
       "\n",
       "\\item[\\$Cash\\_Left] \\begin{enumerate*}\n",
       "\\item 29.4126030000625\n",
       "\\item 57.7349020000547\n",
       "\\item 18.25\n",
       "\\item 30.7232200000435\n",
       "\\item 42.5900000000838\n",
       "\\end{enumerate*}\n",
       "\n",
       "\\item[\\$Value] \\begin{enumerate*}\n",
       "\\item 999970.587397\n",
       "\\item 999942.265098\n",
       "\\item 999981.75\n",
       "\\item 999969.27678\n",
       "\\item 999957.41\n",
       "\\end{enumerate*}\n",
       "\n",
       "\\item[{[[6]]}] '2018-01-02'\n",
       "\\end{description}\n"
      ],
      "text/markdown": [
       "[[1]]\n",
       ":   5000000\n",
       "$Stock\n",
       ":   1. 'IBM'\n",
       "2. 'MSFT'\n",
       "3. 'GOOG'\n",
       "4. 'AAPL'\n",
       "5. 'AMZN'\n",
       "\n",
       "\n",
       "\n",
       "$Shares\n",
       ":   1. 6781\n",
       "2. 11634\n",
       "3. 18779\n",
       "4. 23220\n",
       "5. 16820\n",
       "\n",
       "\n",
       "\n",
       "$Cash_Left\n",
       ":   1. 29.4126030000625\n",
       "2. 57.7349020000547\n",
       "3. 18.25\n",
       "4. 30.7232200000435\n",
       "5. 42.5900000000838\n",
       "\n",
       "\n",
       "\n",
       "$Value\n",
       ":   1. 999970.587397\n",
       "2. 999942.265098\n",
       "3. 999981.75\n",
       "4. 999969.27678\n",
       "5. 999957.41\n",
       "\n",
       "\n",
       "\n",
       "[[6]]\n",
       ":   '2018-01-02'\n",
       "\n",
       "\n"
      ],
      "text/plain": [
       "[[1]]\n",
       "[1] 5000000\n",
       "\n",
       "$Stock\n",
       "[1] \"IBM\"  \"MSFT\" \"GOOG\" \"AAPL\" \"AMZN\"\n",
       "\n",
       "$Shares\n",
       "[1]  6781 11634 18779 23220 16820\n",
       "\n",
       "$Cash_Left\n",
       "[1] 29.41260 57.73490 18.25000 30.72322 42.59000\n",
       "\n",
       "$Value\n",
       "[1] 999970.6 999942.3 999981.8 999969.3 999957.4\n",
       "\n",
       "[[6]]\n",
       "[1] \"2018-01-02\"\n"
      ]
     },
     "metadata": {},
     "output_type": "display_data"
    }
   ],
   "source": [
    "portfolioMTM = function(stocks = STOCKS,\n",
    "                       initial = INITIAL,\n",
    "                       idx = IDX,\n",
    "                       shares_bought = 0,\n",
    "                       cash_left = 0,\n",
    "                       Value = 0)\n",
    "{\n",
    "    # Get the data for the selected stocks on the purchase date\n",
    "    purchase_data = df[idx, ]\n",
    "\n",
    "    invest_per_stock = initial / 5\n",
    "\n",
    "    portfolio = data.frame(\n",
    "        Stock = character(0),\n",
    "        Shares = numeric(0),\n",
    "        Cash_Left = numeric(0),\n",
    "        Value = numeric(0)\n",
    "    )\n",
    "\n",
    "    if (shares_bought[1] == 0)\n",
    "    {\n",
    "\n",
    "\n",
    "        for (brand in stocks) {\n",
    "            close_price = purchase_data[[paste(\"Close\", brand, sep=\"_\")]]\n",
    "            shares_bought = floor(invest_per_stock / close_price)\n",
    "            cash_left = invest_per_stock - (shares_bought * close_price)\n",
    "\n",
    "            portfolio = rbind(\n",
    "            portfolio,\n",
    "            data.frame(\n",
    "                  Stock = brand,\n",
    "                  Shares = shares_bought,\n",
    "                  Cash_Left = cash_left,\n",
    "                  Value = shares_bought * close_price\n",
    "                )\n",
    "            )\n",
    "        }\n",
    "\n",
    "    } else {\n",
    "        for (i in 1:length(stocks)) {\n",
    "            close_price = purchase_data[[paste(\"Close\", stocks[i], sep=\"_\")]]\n",
    "\n",
    "            portfolio = rbind(\n",
    "            portfolio,\n",
    "            data.frame(\n",
    "                  Stock = stocks[i],\n",
    "                  Shares = shares_bought[i],\n",
    "                  Cash_Left = cash_left[i],\n",
    "                  Value = shares_bought[i] * close_price\n",
    "                )\n",
    "            )\n",
    "        }\n",
    "\n",
    "    }\n",
    "\n",
    "\n",
    "    MTM = sum(portfolio$Cash_Left) + sum(portfolio$Value)\n",
    "    return(c(MTM, portfolio, as.character(df[idx, ]$Date)))\n",
    "}\n",
    "\n",
    "tmp = portfolioMTM(); tmp"
   ]
  },
  {
   "cell_type": "code",
   "execution_count": 26,
   "id": "ab42e200-c360-48b4-b749-43668e3dafa9",
   "metadata": {
    "colab": {
     "base_uri": "https://localhost:8080/",
     "height": 34
    },
    "id": "ab42e200-c360-48b4-b749-43668e3dafa9",
    "outputId": "1f0f6d98-d9d3-4058-e74f-dbed499786c0",
    "tags": []
   },
   "outputs": [
    {
     "data": {
      "text/html": [
       "<style>\n",
       ".list-inline {list-style: none; margin:0; padding: 0}\n",
       ".list-inline>li {display: inline-block}\n",
       ".list-inline>li:not(:last-child)::after {content: \"\\00b7\"; padding: 0 .5ex}\n",
       "</style>\n",
       "<ol class=list-inline><li>'5192835.125283'</li><li>'AAPL'</li><li>'SAP'</li><li>'MSFT'</li><li>'META'</li><li>'GOOG'</li></ol>\n"
      ],
      "text/latex": [
       "\\begin{enumerate*}\n",
       "\\item '5192835.125283'\n",
       "\\item 'AAPL'\n",
       "\\item 'SAP'\n",
       "\\item 'MSFT'\n",
       "\\item 'META'\n",
       "\\item 'GOOG'\n",
       "\\end{enumerate*}\n"
      ],
      "text/markdown": [
       "1. '5192835.125283'\n",
       "2. 'AAPL'\n",
       "3. 'SAP'\n",
       "4. 'MSFT'\n",
       "5. 'META'\n",
       "6. 'GOOG'\n",
       "\n",
       "\n"
      ],
      "text/plain": [
       "[1] \"5192835.125283\" \"AAPL\"           \"SAP\"            \"MSFT\"          \n",
       "[5] \"META\"           \"GOOG\"          "
      ]
     },
     "metadata": {},
     "output_type": "display_data"
    }
   ],
   "source": [
    "# Note: add more parameters for the creation of the day1Portfolio = portfolioMTM(DATE=date)\n",
    "rebalancingMTM = function(indx=1, initial=5000000, low=TRUE)\n",
    "{\n",
    "    purchase_data = df[indx:(indx+5), ]\n",
    "\n",
    "    # column names of adj close of every stock\n",
    "    adj_close_colname = grep(\"Adj_Close\", names(df), value=TRUE)\n",
    "\n",
    "    start = purchase_data[1,] # data from the initial date\n",
    "    end = purchase_data[nrow(purchase_data), ] # date from 5 business days later from the initial date\n",
    "\n",
    "    # the differences between the adj close of the initial date and the adj close of the 5th business day\n",
    "    changes_adj_close = (end[, adj_close_colname] - start[, adj_close_colname]) / start[, adj_close_colname] * 100\n",
    "\n",
    "    # storing the column names of the stocks with the lowest change in adj close\n",
    "    low_stock = c()\n",
    "    for (i in 1:5)\n",
    "    {\n",
    "        # returning the column name of the lowest change in adj close\n",
    "        if (low) {\n",
    "            colNames = names(which.min(changes_adj_close))\n",
    "        } else {colNames = names(which.max(changes_adj_close))}\n",
    "\n",
    "        low_stock = c(low_stock, colNames) # storing the column names\n",
    "\n",
    "        # erase the column with the lowest change in adj close to have a new min in the next iteration\n",
    "        changes_adj_close[,colNames] = NULL\n",
    "\n",
    "    }\n",
    "\n",
    "    # storing the stocks MTM from the initial date\n",
    "    day1Portfolio = portfolioMTM(idx=indx, initial=initial) # Note: maybe I should create variables for the rebalancing()\n",
    "\n",
    "    # keeping only the Close_STOCK columns\n",
    "    purchase_data_Close = purchase_data[, !colnames(purchase_data) %in% adj_close_colname][nrow(purchase_data),]\n",
    "\n",
    "    new_INITIAL = 0\n",
    "\n",
    "    # Selling the stock from our first profolio from day one based on the Close price of the stock on the 5th day\n",
    "    for (i in 1:length(day1Portfolio$Stock)) {\n",
    "\n",
    "        stock_Shares = day1Portfolio$Shares[i]\n",
    "\n",
    "        sell_CLose = purchase_data_Close[, paste(\"Close\", day1Portfolio$Stock[i], sep='_')]\n",
    "\n",
    "        profit_cash = stock_Shares * sell_CLose\n",
    "\n",
    "        new_INITIAL = new_INITIAL + profit_cash\n",
    "\n",
    "    }\n",
    "\n",
    "    modified_vec = gsub(\"Adj_Close_\", \"\", low_stock)\n",
    "\n",
    "    # new INITIAL for our new porfolio of the 5th day\n",
    "    new_INITIAL = sum(day1Portfolio$Cash_Left) + new_INITIAL;\n",
    "    return(c(new_INITIAL, modified_vec))\n",
    "\n",
    "}\n",
    "\n",
    "test_tmp = rebalancingMTM(); test_tmp"
   ]
  },
  {
   "cell_type": "code",
   "execution_count": 27,
   "id": "4881726e-40fe-40be-9b52-cba7bd29cc42",
   "metadata": {
    "id": "4881726e-40fe-40be-9b52-cba7bd29cc42",
    "tags": []
   },
   "outputs": [],
   "source": [
    "INITIAL = 5000000\n",
    "STOCKS = c('IBM', 'MSFT', 'GOOG', 'AAPL', 'AMZN')\n",
    "DATE = \"2018-01-02\"\n",
    "IDX = 1 # this is \"2018-01-02\"\n",
    "SHARES_BOUGHT = 0\n",
    "CASH_LEFT = 0\n",
    "VALUE = 0\n",
    "PORTFOLIO = data.frame(\n",
    "        Stock = character(0),\n",
    "        Shares = numeric(0),\n",
    "        Cash_Left = numeric(0),\n",
    "        Value = numeric(0)\n",
    "    )"
   ]
  },
  {
   "cell_type": "code",
   "execution_count": 29,
   "id": "2954906d-6064-4857-a53f-999d553f93c2",
   "metadata": {
    "colab": {
     "base_uri": "https://localhost:8080/",
     "height": 143
    },
    "id": "2954906d-6064-4857-a53f-999d553f93c2",
    "outputId": "87bb2e0d-4dce-40af-c819-20f70800e856",
    "tags": []
   },
   "outputs": [],
   "source": [
    "MTMs <- c()\n",
    "seq_dates <- c()\n",
    "\n",
    "for (indx in 1:nrow(df[df$Date <= as.Date(\"2018-12-31\"), ]))\n",
    "{\n",
    "    tmp = portfolioMTM(idx = indx, initial=INITIAL, stocks=STOCKS, shares_bought = SHARES_BOUGHT, cash_left = CASH_LEFT, Value = VALUE)\n",
    "\n",
    "    if (indx %in% seq_dates)\n",
    "    {\n",
    "        tmp2 = rebalancingMTM(indx - 5, initial=MTMs[indx - 5])\n",
    "        INITIAL = as.numeric(tmp2[1])\n",
    "        STOCKS = tmp2[2:length(tmp2)]\n",
    "\n",
    "        tmp = portfolioMTM(idx = indx, initial=INITIAL, stocks=STOCKS)\n",
    "    }\n",
    "\n",
    "    MTMs = c(MTMs, as.numeric(tmp[[1]]))\n",
    "    dates = c(dates, tmp[[6]])\n",
    "\n",
    "    INITIAL = as.numeric(tmp[[1]])\n",
    "    SHARES_BOUGHT = tmp$Shares\n",
    "    CASH_LEFT = tmp$Cash_Left\n",
    "    VALUE = tmp$Value\n",
    "}"
   ]
  },
  {
   "cell_type": "code",
   "execution_count": 30,
   "id": "4da49ad8-9cdd-4101-8c44-970ff55be615",
   "metadata": {
    "colab": {
     "base_uri": "https://localhost:8080/",
     "height": 133
    },
    "id": "4da49ad8-9cdd-4101-8c44-970ff55be615",
    "outputId": "6c0c9a93-968d-4da2-ffdb-00a78455ef3f",
    "tags": []
   },
   "outputs": [
    {
     "data": {
      "text/html": [
       "<table class=\"dataframe\">\n",
       "<caption>A data.frame: 6 × 2</caption>\n",
       "<thead>\n",
       "\t<tr><th></th><th scope=col>Date</th><th scope=col>MTM</th></tr>\n",
       "\t<tr><th></th><th scope=col>&lt;date&gt;</th><th scope=col>&lt;dbl&gt;</th></tr>\n",
       "</thead>\n",
       "<tbody>\n",
       "\t<tr><th scope=row>1</th><td>2018-01-02</td><td>5000000</td></tr>\n",
       "\t<tr><th scope=row>2</th><td>2018-01-03</td><td>5061154</td></tr>\n",
       "\t<tr><th scope=row>3</th><td>2018-01-04</td><td>5103664</td></tr>\n",
       "\t<tr><th scope=row>4</th><td>2018-01-05</td><td>5164091</td></tr>\n",
       "\t<tr><th scope=row>5</th><td>2018-01-08</td><td>5187051</td></tr>\n",
       "\t<tr><th scope=row>6</th><td>2018-01-09</td><td>5192835</td></tr>\n",
       "</tbody>\n",
       "</table>\n"
      ],
      "text/latex": [
       "A data.frame: 6 × 2\n",
       "\\begin{tabular}{r|ll}\n",
       "  & Date & MTM\\\\\n",
       "  & <date> & <dbl>\\\\\n",
       "\\hline\n",
       "\t1 & 2018-01-02 & 5000000\\\\\n",
       "\t2 & 2018-01-03 & 5061154\\\\\n",
       "\t3 & 2018-01-04 & 5103664\\\\\n",
       "\t4 & 2018-01-05 & 5164091\\\\\n",
       "\t5 & 2018-01-08 & 5187051\\\\\n",
       "\t6 & 2018-01-09 & 5192835\\\\\n",
       "\\end{tabular}\n"
      ],
      "text/markdown": [
       "\n",
       "A data.frame: 6 × 2\n",
       "\n",
       "| <!--/--> | Date &lt;date&gt; | MTM &lt;dbl&gt; |\n",
       "|---|---|---|\n",
       "| 1 | 2018-01-02 | 5000000 |\n",
       "| 2 | 2018-01-03 | 5061154 |\n",
       "| 3 | 2018-01-04 | 5103664 |\n",
       "| 4 | 2018-01-05 | 5164091 |\n",
       "| 5 | 2018-01-08 | 5187051 |\n",
       "| 6 | 2018-01-09 | 5192835 |\n",
       "\n"
      ],
      "text/plain": [
       "  Date       MTM    \n",
       "1 2018-01-02 5000000\n",
       "2 2018-01-03 5061154\n",
       "3 2018-01-04 5103664\n",
       "4 2018-01-05 5164091\n",
       "5 2018-01-08 5187051\n",
       "6 2018-01-09 5192835"
      ]
     },
     "metadata": {},
     "output_type": "display_data"
    }
   ],
   "source": [
    "MTM_df <- data.frame(Date = as.Date(dates), MTM = MTMs)\n",
    "head(MTM_df)"
   ]
  },
  {
   "cell_type": "code",
   "execution_count": 31,
   "id": "12ad0e9a-2286-4daf-a6e9-7055fedfd05b",
   "metadata": {
    "colab": {
     "base_uri": "https://localhost:8080/",
     "height": 133
    },
    "id": "12ad0e9a-2286-4daf-a6e9-7055fedfd05b",
    "outputId": "b061d88c-b316-4991-bbff-307cd1ef6a33",
    "tags": []
   },
   "outputs": [
    {
     "data": {
      "text/html": [
       "<table class=\"dataframe\">\n",
       "<caption>A data.frame: 6 × 2</caption>\n",
       "<thead>\n",
       "\t<tr><th></th><th scope=col>Date</th><th scope=col>MTM</th></tr>\n",
       "\t<tr><th></th><th scope=col>&lt;date&gt;</th><th scope=col>&lt;dbl&gt;</th></tr>\n",
       "</thead>\n",
       "<tbody>\n",
       "\t<tr><th scope=row>246</th><td>2018-12-21</td><td>4815350</td></tr>\n",
       "\t<tr><th scope=row>247</th><td>2018-12-24</td><td>4691881</td></tr>\n",
       "\t<tr><th scope=row>248</th><td>2018-12-26</td><td>5017612</td></tr>\n",
       "\t<tr><th scope=row>249</th><td>2018-12-27</td><td>5030760</td></tr>\n",
       "\t<tr><th scope=row>250</th><td>2018-12-28</td><td>5024562</td></tr>\n",
       "\t<tr><th scope=row>251</th><td>2018-12-31</td><td>5069967</td></tr>\n",
       "</tbody>\n",
       "</table>\n"
      ],
      "text/latex": [
       "A data.frame: 6 × 2\n",
       "\\begin{tabular}{r|ll}\n",
       "  & Date & MTM\\\\\n",
       "  & <date> & <dbl>\\\\\n",
       "\\hline\n",
       "\t246 & 2018-12-21 & 4815350\\\\\n",
       "\t247 & 2018-12-24 & 4691881\\\\\n",
       "\t248 & 2018-12-26 & 5017612\\\\\n",
       "\t249 & 2018-12-27 & 5030760\\\\\n",
       "\t250 & 2018-12-28 & 5024562\\\\\n",
       "\t251 & 2018-12-31 & 5069967\\\\\n",
       "\\end{tabular}\n"
      ],
      "text/markdown": [
       "\n",
       "A data.frame: 6 × 2\n",
       "\n",
       "| <!--/--> | Date &lt;date&gt; | MTM &lt;dbl&gt; |\n",
       "|---|---|---|\n",
       "| 246 | 2018-12-21 | 4815350 |\n",
       "| 247 | 2018-12-24 | 4691881 |\n",
       "| 248 | 2018-12-26 | 5017612 |\n",
       "| 249 | 2018-12-27 | 5030760 |\n",
       "| 250 | 2018-12-28 | 5024562 |\n",
       "| 251 | 2018-12-31 | 5069967 |\n",
       "\n"
      ],
      "text/plain": [
       "    Date       MTM    \n",
       "246 2018-12-21 4815350\n",
       "247 2018-12-24 4691881\n",
       "248 2018-12-26 5017612\n",
       "249 2018-12-27 5030760\n",
       "250 2018-12-28 5024562\n",
       "251 2018-12-31 5069967"
      ]
     },
     "metadata": {},
     "output_type": "display_data"
    }
   ],
   "source": [
    "tail(MTM_df)"
   ]
  },
  {
   "cell_type": "markdown",
   "id": "fa440635-4f16-4804-a3cf-988f91e4a432",
   "metadata": {
    "id": "fa440635-4f16-4804-a3cf-988f91e4a432"
   },
   "source": [
    "### 6"
   ]
  },
  {
   "cell_type": "markdown",
   "id": "3197b52a-f33e-4c86-b643-a13b8e18504b",
   "metadata": {},
   "source": [
    "Another strategy is \"5 days rebalancing of buying high\". You always buy the 5 stocks whose \"Adj Close\" prices surge the most in\n",
    "terms of percentage because you believe the trend will continue. Run the new strategy and see how the MTM will change."
   ]
  },
  {
   "cell_type": "code",
   "execution_count": 32,
   "id": "7d96c2f3-9bb0-40fb-9935-05eff7b4b061",
   "metadata": {
    "id": "7d96c2f3-9bb0-40fb-9935-05eff7b4b061",
    "tags": []
   },
   "outputs": [],
   "source": [
    "INITIAL = 5000000\n",
    "STOCKS = c('IBM', 'MSFT', 'GOOG', 'AAPL', 'AMZN')\n",
    "DATE = \"2018-01-02\"\n",
    "IDX = 1 # this is \"2018-01-02\"\n",
    "SHARES_BOUGHT = 0\n",
    "CASH_LEFT = 0\n",
    "VALUE = 0\n",
    "PORTFOLIO = data.frame(\n",
    "        Stock = character(0),\n",
    "        Shares = numeric(0),\n",
    "        Cash_Left = numeric(0),\n",
    "        Value = numeric(0)\n",
    "    )"
   ]
  },
  {
   "cell_type": "code",
   "execution_count": 33,
   "id": "9aac3229-4010-4d7f-ac26-915dbbfb7bb9",
   "metadata": {
    "colab": {
     "base_uri": "https://localhost:8080/",
     "height": 143
    },
    "id": "9aac3229-4010-4d7f-ac26-915dbbfb7bb9",
    "outputId": "56d6dd0b-5236-4dfd-a228-d3cd1ca0fa0c",
    "tags": []
   },
   "outputs": [],
   "source": [
    "MTMs_high <- c()\n",
    "\n",
    "for (indx in 1:nrow(df[df$Date <= as.Date(\"2018-12-31\"), ]))\n",
    "{\n",
    "    tmp = portfolioMTM(idx = indx, initial=INITIAL, stocks=STOCKS, shares_bought = SHARES_BOUGHT, cash_left = CASH_LEFT, Value = VALUE)\n",
    "\n",
    "    if (indx %in% seq_dates)\n",
    "    {\n",
    "        tmp2 = rebalancingMTM(indx - 5, initial=MTMs[indx - 5], low=FALSE)\n",
    "        INITIAL = as.numeric(tmp2[1])\n",
    "        STOCKS = tmp2[2:length(tmp2)]\n",
    "\n",
    "        tmp = portfolioMTM(idx = indx, initial=INITIAL, stocks=STOCKS)\n",
    "    }\n",
    "\n",
    "    MTMs_high = c(MTMs_high, as.numeric(tmp[[1]]))\n",
    "\n",
    "    INITIAL = as.numeric(tmp[[1]])\n",
    "    SHARES_BOUGHT = tmp$Shares\n",
    "    CASH_LEFT = tmp$Cash_Left\n",
    "    VALUE = tmp$Value\n",
    "}"
   ]
  },
  {
   "cell_type": "code",
   "execution_count": 34,
   "id": "f6c66a99-4cb0-4bd1-a8c8-708b865e019f",
   "metadata": {
    "colab": {
     "base_uri": "https://localhost:8080/",
     "height": 133
    },
    "id": "f6c66a99-4cb0-4bd1-a8c8-708b865e019f",
    "outputId": "4cdaec8f-1784-4529-b857-60c89718f923",
    "tags": []
   },
   "outputs": [
    {
     "data": {
      "text/html": [
       "<table class=\"dataframe\">\n",
       "<caption>A data.frame: 6 × 3</caption>\n",
       "<thead>\n",
       "\t<tr><th></th><th scope=col>Date</th><th scope=col>MTM</th><th scope=col>MTM_high</th></tr>\n",
       "\t<tr><th></th><th scope=col>&lt;date&gt;</th><th scope=col>&lt;dbl&gt;</th><th scope=col>&lt;dbl&gt;</th></tr>\n",
       "</thead>\n",
       "<tbody>\n",
       "\t<tr><th scope=row>1</th><td>2018-01-02</td><td>5000000</td><td>5000000</td></tr>\n",
       "\t<tr><th scope=row>2</th><td>2018-01-03</td><td>5061154</td><td>5061154</td></tr>\n",
       "\t<tr><th scope=row>3</th><td>2018-01-04</td><td>5103664</td><td>5103664</td></tr>\n",
       "\t<tr><th scope=row>4</th><td>2018-01-05</td><td>5164091</td><td>5164091</td></tr>\n",
       "\t<tr><th scope=row>5</th><td>2018-01-08</td><td>5187051</td><td>5187051</td></tr>\n",
       "\t<tr><th scope=row>6</th><td>2018-01-09</td><td>5192835</td><td>5192835</td></tr>\n",
       "</tbody>\n",
       "</table>\n"
      ],
      "text/latex": [
       "A data.frame: 6 × 3\n",
       "\\begin{tabular}{r|lll}\n",
       "  & Date & MTM & MTM\\_high\\\\\n",
       "  & <date> & <dbl> & <dbl>\\\\\n",
       "\\hline\n",
       "\t1 & 2018-01-02 & 5000000 & 5000000\\\\\n",
       "\t2 & 2018-01-03 & 5061154 & 5061154\\\\\n",
       "\t3 & 2018-01-04 & 5103664 & 5103664\\\\\n",
       "\t4 & 2018-01-05 & 5164091 & 5164091\\\\\n",
       "\t5 & 2018-01-08 & 5187051 & 5187051\\\\\n",
       "\t6 & 2018-01-09 & 5192835 & 5192835\\\\\n",
       "\\end{tabular}\n"
      ],
      "text/markdown": [
       "\n",
       "A data.frame: 6 × 3\n",
       "\n",
       "| <!--/--> | Date &lt;date&gt; | MTM &lt;dbl&gt; | MTM_high &lt;dbl&gt; |\n",
       "|---|---|---|---|\n",
       "| 1 | 2018-01-02 | 5000000 | 5000000 |\n",
       "| 2 | 2018-01-03 | 5061154 | 5061154 |\n",
       "| 3 | 2018-01-04 | 5103664 | 5103664 |\n",
       "| 4 | 2018-01-05 | 5164091 | 5164091 |\n",
       "| 5 | 2018-01-08 | 5187051 | 5187051 |\n",
       "| 6 | 2018-01-09 | 5192835 | 5192835 |\n",
       "\n"
      ],
      "text/plain": [
       "  Date       MTM     MTM_high\n",
       "1 2018-01-02 5000000 5000000 \n",
       "2 2018-01-03 5061154 5061154 \n",
       "3 2018-01-04 5103664 5103664 \n",
       "4 2018-01-05 5164091 5164091 \n",
       "5 2018-01-08 5187051 5187051 \n",
       "6 2018-01-09 5192835 5192835 "
      ]
     },
     "metadata": {},
     "output_type": "display_data"
    }
   ],
   "source": [
    "MTM_df$MTM_high = MTMs_high\n",
    "head(MTM_df)"
   ]
  },
  {
   "cell_type": "code",
   "execution_count": 35,
   "id": "0becce95-9627-4b7e-808c-c4948890c032",
   "metadata": {
    "colab": {
     "base_uri": "https://localhost:8080/",
     "height": 133
    },
    "id": "0becce95-9627-4b7e-808c-c4948890c032",
    "outputId": "48e279f5-7772-4f05-e8f3-2447d2dfc6e6",
    "tags": []
   },
   "outputs": [
    {
     "data": {
      "text/html": [
       "<table class=\"dataframe\">\n",
       "<caption>A data.frame: 6 × 3</caption>\n",
       "<thead>\n",
       "\t<tr><th></th><th scope=col>Date</th><th scope=col>MTM</th><th scope=col>MTM_high</th></tr>\n",
       "\t<tr><th></th><th scope=col>&lt;date&gt;</th><th scope=col>&lt;dbl&gt;</th><th scope=col>&lt;dbl&gt;</th></tr>\n",
       "</thead>\n",
       "<tbody>\n",
       "\t<tr><th scope=row>246</th><td>2018-12-21</td><td>4815350</td><td>4815350</td></tr>\n",
       "\t<tr><th scope=row>247</th><td>2018-12-24</td><td>4691881</td><td>4691881</td></tr>\n",
       "\t<tr><th scope=row>248</th><td>2018-12-26</td><td>5017612</td><td>5017612</td></tr>\n",
       "\t<tr><th scope=row>249</th><td>2018-12-27</td><td>5030760</td><td>5030760</td></tr>\n",
       "\t<tr><th scope=row>250</th><td>2018-12-28</td><td>5024562</td><td>5024562</td></tr>\n",
       "\t<tr><th scope=row>251</th><td>2018-12-31</td><td>5069967</td><td>5069967</td></tr>\n",
       "</tbody>\n",
       "</table>\n"
      ],
      "text/latex": [
       "A data.frame: 6 × 3\n",
       "\\begin{tabular}{r|lll}\n",
       "  & Date & MTM & MTM\\_high\\\\\n",
       "  & <date> & <dbl> & <dbl>\\\\\n",
       "\\hline\n",
       "\t246 & 2018-12-21 & 4815350 & 4815350\\\\\n",
       "\t247 & 2018-12-24 & 4691881 & 4691881\\\\\n",
       "\t248 & 2018-12-26 & 5017612 & 5017612\\\\\n",
       "\t249 & 2018-12-27 & 5030760 & 5030760\\\\\n",
       "\t250 & 2018-12-28 & 5024562 & 5024562\\\\\n",
       "\t251 & 2018-12-31 & 5069967 & 5069967\\\\\n",
       "\\end{tabular}\n"
      ],
      "text/markdown": [
       "\n",
       "A data.frame: 6 × 3\n",
       "\n",
       "| <!--/--> | Date &lt;date&gt; | MTM &lt;dbl&gt; | MTM_high &lt;dbl&gt; |\n",
       "|---|---|---|---|\n",
       "| 246 | 2018-12-21 | 4815350 | 4815350 |\n",
       "| 247 | 2018-12-24 | 4691881 | 4691881 |\n",
       "| 248 | 2018-12-26 | 5017612 | 5017612 |\n",
       "| 249 | 2018-12-27 | 5030760 | 5030760 |\n",
       "| 250 | 2018-12-28 | 5024562 | 5024562 |\n",
       "| 251 | 2018-12-31 | 5069967 | 5069967 |\n",
       "\n"
      ],
      "text/plain": [
       "    Date       MTM     MTM_high\n",
       "246 2018-12-21 4815350 4815350 \n",
       "247 2018-12-24 4691881 4691881 \n",
       "248 2018-12-26 5017612 5017612 \n",
       "249 2018-12-27 5030760 5030760 \n",
       "250 2018-12-28 5024562 5024562 \n",
       "251 2018-12-31 5069967 5069967 "
      ]
     },
     "metadata": {},
     "output_type": "display_data"
    }
   ],
   "source": [
    "tail(MTM_df)"
   ]
  },
  {
   "cell_type": "markdown",
   "id": "3feb5927-77b5-4acb-9309-32ad8155413d",
   "metadata": {
    "id": "3feb5927-77b5-4acb-9309-32ad8155413d"
   },
   "source": [
    "**Note**: The MTM strategy 1 on 2018-12-31 is higher then the MTM from strategy 2"
   ]
  },
  {
   "cell_type": "code",
   "execution_count": 36,
   "id": "00d8977e-b500-49d6-9bc4-3c6c80dc51ee",
   "metadata": {
    "colab": {
     "base_uri": "https://localhost:8080/",
     "height": 34
    },
    "id": "00d8977e-b500-49d6-9bc4-3c6c80dc51ee",
    "outputId": "ff740b37-0f4e-4f25-aa7c-0ad4af0d191d",
    "tags": []
   },
   "outputs": [
    {
     "data": {
      "text/html": [
       "251"
      ],
      "text/latex": [
       "251"
      ],
      "text/markdown": [
       "251"
      ],
      "text/plain": [
       "[1] 251"
      ]
     },
     "metadata": {},
     "output_type": "display_data"
    }
   ],
   "source": [
    "equal_values = MTM_df$MTM == MTM_df$MTM_high\n",
    "sum(equal_values)"
   ]
  },
  {
   "cell_type": "code",
   "execution_count": 37,
   "id": "0ff6652c-6edd-4290-98d4-e995c667fa46",
   "metadata": {
    "colab": {
     "base_uri": "https://localhost:8080/",
     "height": 34
    },
    "id": "0ff6652c-6edd-4290-98d4-e995c667fa46",
    "outputId": "f4c98563-dcca-4fa0-f833-fa041c80cde5",
    "tags": []
   },
   "outputs": [
    {
     "data": {
      "text/html": [
       "0"
      ],
      "text/latex": [
       "0"
      ],
      "text/markdown": [
       "0"
      ],
      "text/plain": [
       "[1] 0"
      ]
     },
     "metadata": {},
     "output_type": "display_data"
    }
   ],
   "source": [
    "length(which(MTM_df$MTM != MTM_df$MTM_high))"
   ]
  },
  {
   "cell_type": "markdown",
   "id": "963d002d-449b-423b-8b77-1171d2e9375c",
   "metadata": {
    "id": "963d002d-449b-423b-8b77-1171d2e9375c"
   },
   "source": [
    "**Note**: There is a clear differnece between strategy 1 and strategy 2"
   ]
  },
  {
   "cell_type": "code",
   "execution_count": 38,
   "id": "b8b74cb5-3aa5-4b20-b4f3-53a8423c9abe",
   "metadata": {
    "colab": {
     "base_uri": "https://localhost:8080/",
     "height": 34
    },
    "id": "b8b74cb5-3aa5-4b20-b4f3-53a8423c9abe",
    "outputId": "2c5f925a-dc5c-4135-cc00-ab4d7b81ab90",
    "tags": []
   },
   "outputs": [
    {
     "data": {
      "text/html": [
       "0"
      ],
      "text/latex": [
       "0"
      ],
      "text/markdown": [
       "0"
      ],
      "text/plain": [
       "[1] 0"
      ]
     },
     "metadata": {},
     "output_type": "display_data"
    }
   ],
   "source": [
    "length(which(MTM_df$MTM > MTM_df$MTM_high))"
   ]
  },
  {
   "cell_type": "markdown",
   "id": "a12ca88d-5565-42b6-a173-7d758b297a2c",
   "metadata": {
    "id": "a12ca88d-5565-42b6-a173-7d758b297a2c"
   },
   "source": [
    "**Note**: Strategy 1 vs Strategy 2 - overall there are higher MTM values when peforming strategy 1"
   ]
  },
  {
   "cell_type": "code",
   "execution_count": 39,
   "id": "816ca6ec-f306-4b21-b5fb-a25be38fb553",
   "metadata": {
    "colab": {
     "base_uri": "https://localhost:8080/",
     "height": 34
    },
    "id": "816ca6ec-f306-4b21-b5fb-a25be38fb553",
    "outputId": "df8f4073-93fe-43b2-a8c7-6f2cb526eeac",
    "tags": []
   },
   "outputs": [
    {
     "data": {
      "text/html": [
       "0"
      ],
      "text/latex": [
       "0"
      ],
      "text/markdown": [
       "0"
      ],
      "text/plain": [
       "[1] 0"
      ]
     },
     "metadata": {},
     "output_type": "display_data"
    }
   ],
   "source": [
    "length(which(MTM_df$MTM < MTM_df$MTM_high))"
   ]
  },
  {
   "cell_type": "code",
   "execution_count": 40,
   "id": "2a57223f-8d9d-43ab-a6ba-a506a974d990",
   "metadata": {
    "colab": {
     "base_uri": "https://localhost:8080/",
     "height": 17
    },
    "id": "2a57223f-8d9d-43ab-a6ba-a506a974d990",
    "outputId": "aceb8e7b-a128-4757-f53e-50e747b4de21",
    "tags": []
   },
   "outputs": [
    {
     "data": {
      "text/html": [
       "<table class=\"dataframe\">\n",
       "<caption>A data.frame: 0 × 3</caption>\n",
       "<thead>\n",
       "\t<tr><th scope=col>Date</th><th scope=col>MTM</th><th scope=col>MTM_high</th></tr>\n",
       "\t<tr><th scope=col>&lt;date&gt;</th><th scope=col>&lt;dbl&gt;</th><th scope=col>&lt;dbl&gt;</th></tr>\n",
       "</thead>\n",
       "<tbody>\n",
       "</tbody>\n",
       "</table>\n"
      ],
      "text/latex": [
       "A data.frame: 0 × 3\n",
       "\\begin{tabular}{lll}\n",
       " Date & MTM & MTM\\_high\\\\\n",
       " <date> & <dbl> & <dbl>\\\\\n",
       "\\hline\n",
       "\\end{tabular}\n"
      ],
      "text/markdown": [
       "\n",
       "A data.frame: 0 × 3\n",
       "\n",
       "| Date &lt;date&gt; | MTM &lt;dbl&gt; | MTM_high &lt;dbl&gt; |\n",
       "|---|---|---|\n",
       "\n"
      ],
      "text/plain": [
       "     Date MTM MTM_high"
      ]
     },
     "metadata": {},
     "output_type": "display_data"
    }
   ],
   "source": [
    "# Get the indices of non-equal values\n",
    "non_equal_indices = which(MTM_df$MTM != MTM_df$MTM_high)\n",
    "head(MTM_df[non_equal_indices, ])"
   ]
  },
  {
   "cell_type": "markdown",
   "id": "d22008b3-5f2e-4b67-878f-8ef59722108b",
   "metadata": {
    "id": "d22008b3-5f2e-4b67-878f-8ef59722108b"
   },
   "source": []
  },
  {
   "cell_type": "markdown",
   "id": "9226485e-cc99-449d-86b2-45c772fa9c2e",
   "metadata": {
    "id": "9226485e-cc99-449d-86b2-45c772fa9c2e"
   },
   "source": [
    "## 7"
   ]
  },
  {
   "cell_type": "markdown",
   "id": "85b91eb5-d7ce-44a3-9787-08cf6fd4d95f",
   "metadata": {},
   "source": [
    "you will create a \"high tech index\" which is simply the daily average of the 10 stocks \"Close\" prices. Compare your MTM series with\n",
    "the \"high tech index\" and plot their curves. To plot the two curves together, you may want to convert the series to daily percentage\n",
    "change with regard to Jan 02 2018"
   ]
  },
  {
   "cell_type": "code",
   "execution_count": 41,
   "id": "c34fcbb2-6d5e-40f3-a877-0ff1ff51dee9",
   "metadata": {
    "colab": {
     "base_uri": "https://localhost:8080/",
     "height": 410
    },
    "id": "c34fcbb2-6d5e-40f3-a877-0ff1ff51dee9",
    "outputId": "13c67a9d-975c-4633-e5d8-d39742638dc6",
    "tags": []
   },
   "outputs": [
    {
     "data": {
      "text/html": [
       "<table class=\"dataframe\">\n",
       "<caption>A data.frame: 6 × 21</caption>\n",
       "<thead>\n",
       "\t<tr><th></th><th scope=col>Date</th><th scope=col>Close_IBM</th><th scope=col>Adj_Close_IBM</th><th scope=col>Close_MSFT</th><th scope=col>Adj_Close_MSFT</th><th scope=col>Close_GOOG</th><th scope=col>Adj_Close_GOOG</th><th scope=col>Close_AAPL</th><th scope=col>Adj_Close_AAPL</th><th scope=col>Close_AMZN</th><th scope=col>⋯</th><th scope=col>Close_META</th><th scope=col>Adj_Close_META</th><th scope=col>Close_NFLX</th><th scope=col>Adj_Close_NFLX</th><th scope=col>Close_ORCL</th><th scope=col>Adj_Close_ORCL</th><th scope=col>Close_SAP</th><th scope=col>Adj_Close_SAP</th><th scope=col>Close_TSLA</th><th scope=col>Adj_Close_TSLA</th></tr>\n",
       "\t<tr><th></th><th scope=col>&lt;date&gt;</th><th scope=col>&lt;dbl&gt;</th><th scope=col>&lt;dbl&gt;</th><th scope=col>&lt;dbl&gt;</th><th scope=col>&lt;dbl&gt;</th><th scope=col>&lt;dbl&gt;</th><th scope=col>&lt;dbl&gt;</th><th scope=col>&lt;dbl&gt;</th><th scope=col>&lt;dbl&gt;</th><th scope=col>&lt;dbl&gt;</th><th scope=col>⋯</th><th scope=col>&lt;dbl&gt;</th><th scope=col>&lt;dbl&gt;</th><th scope=col>&lt;dbl&gt;</th><th scope=col>&lt;dbl&gt;</th><th scope=col>&lt;dbl&gt;</th><th scope=col>&lt;dbl&gt;</th><th scope=col>&lt;dbl&gt;</th><th scope=col>&lt;dbl&gt;</th><th scope=col>&lt;dbl&gt;</th><th scope=col>&lt;dbl&gt;</th></tr>\n",
       "</thead>\n",
       "<tbody>\n",
       "\t<tr><th scope=row>1</th><td>2018-01-02</td><td>147.4665</td><td>111.8001</td><td>85.95</td><td>80.39185</td><td>53.2500</td><td>53.2500</td><td>43.0650</td><td>40.77652</td><td>59.4505</td><td>⋯</td><td>181.42</td><td>181.42</td><td>201.07</td><td>201.07</td><td>46.63</td><td>42.28244</td><td>112.39</td><td>101.2103</td><td>21.36867</td><td>21.36867</td></tr>\n",
       "\t<tr><th scope=row>2</th><td>2018-01-03</td><td>151.5201</td><td>114.8733</td><td>86.35</td><td>80.76598</td><td>54.1240</td><td>54.1240</td><td>43.0575</td><td>40.76942</td><td>60.2100</td><td>⋯</td><td>184.67</td><td>184.67</td><td>205.05</td><td>205.05</td><td>47.71</td><td>43.26174</td><td>113.31</td><td>102.0388</td><td>21.15000</td><td>21.15000</td></tr>\n",
       "\t<tr><th scope=row>3</th><td>2018-01-04</td><td>154.5889</td><td>117.1999</td><td>87.11</td><td>81.47684</td><td>54.3200</td><td>54.3200</td><td>43.2575</td><td>40.95879</td><td>60.4795</td><td>⋯</td><td>184.33</td><td>184.33</td><td>205.63</td><td>205.63</td><td>48.18</td><td>43.68794</td><td>115.05</td><td>103.6057</td><td>20.97467</td><td>20.97467</td></tr>\n",
       "\t<tr><th scope=row>4</th><td>2018-01-05</td><td>155.3442</td><td>117.7725</td><td>88.19</td><td>82.48701</td><td>55.1115</td><td>55.1115</td><td>43.7500</td><td>41.42511</td><td>61.4570</td><td>⋯</td><td>186.85</td><td>186.85</td><td>209.99</td><td>209.99</td><td>48.47</td><td>43.95089</td><td>116.33</td><td>104.7584</td><td>21.10533</td><td>21.10533</td></tr>\n",
       "\t<tr><th scope=row>5</th><td>2018-01-08</td><td>156.2811</td><td>118.4828</td><td>88.28</td><td>82.57117</td><td>55.3470</td><td>55.3470</td><td>43.5875</td><td>41.27125</td><td>62.3435</td><td>⋯</td><td>188.28</td><td>188.28</td><td>212.05</td><td>212.05</td><td>48.98</td><td>44.41334</td><td>114.80</td><td>103.3806</td><td>22.42733</td><td>22.42733</td></tr>\n",
       "\t<tr><th scope=row>6</th><td>2018-01-09</td><td>156.6252</td><td>118.7437</td><td>88.22</td><td>82.51504</td><td>55.3130</td><td>55.3130</td><td>43.5825</td><td>41.26653</td><td>62.6350</td><td>⋯</td><td>187.87</td><td>187.87</td><td>209.31</td><td>209.31</td><td>49.06</td><td>44.65912</td><td>114.16</td><td>102.8042</td><td>22.24600</td><td>22.24600</td></tr>\n",
       "</tbody>\n",
       "</table>\n"
      ],
      "text/latex": [
       "A data.frame: 6 × 21\n",
       "\\begin{tabular}{r|lllllllllllllllllllll}\n",
       "  & Date & Close\\_IBM & Adj\\_Close\\_IBM & Close\\_MSFT & Adj\\_Close\\_MSFT & Close\\_GOOG & Adj\\_Close\\_GOOG & Close\\_AAPL & Adj\\_Close\\_AAPL & Close\\_AMZN & ⋯ & Close\\_META & Adj\\_Close\\_META & Close\\_NFLX & Adj\\_Close\\_NFLX & Close\\_ORCL & Adj\\_Close\\_ORCL & Close\\_SAP & Adj\\_Close\\_SAP & Close\\_TSLA & Adj\\_Close\\_TSLA\\\\\n",
       "  & <date> & <dbl> & <dbl> & <dbl> & <dbl> & <dbl> & <dbl> & <dbl> & <dbl> & <dbl> & ⋯ & <dbl> & <dbl> & <dbl> & <dbl> & <dbl> & <dbl> & <dbl> & <dbl> & <dbl> & <dbl>\\\\\n",
       "\\hline\n",
       "\t1 & 2018-01-02 & 147.4665 & 111.8001 & 85.95 & 80.39185 & 53.2500 & 53.2500 & 43.0650 & 40.77652 & 59.4505 & ⋯ & 181.42 & 181.42 & 201.07 & 201.07 & 46.63 & 42.28244 & 112.39 & 101.2103 & 21.36867 & 21.36867\\\\\n",
       "\t2 & 2018-01-03 & 151.5201 & 114.8733 & 86.35 & 80.76598 & 54.1240 & 54.1240 & 43.0575 & 40.76942 & 60.2100 & ⋯ & 184.67 & 184.67 & 205.05 & 205.05 & 47.71 & 43.26174 & 113.31 & 102.0388 & 21.15000 & 21.15000\\\\\n",
       "\t3 & 2018-01-04 & 154.5889 & 117.1999 & 87.11 & 81.47684 & 54.3200 & 54.3200 & 43.2575 & 40.95879 & 60.4795 & ⋯ & 184.33 & 184.33 & 205.63 & 205.63 & 48.18 & 43.68794 & 115.05 & 103.6057 & 20.97467 & 20.97467\\\\\n",
       "\t4 & 2018-01-05 & 155.3442 & 117.7725 & 88.19 & 82.48701 & 55.1115 & 55.1115 & 43.7500 & 41.42511 & 61.4570 & ⋯ & 186.85 & 186.85 & 209.99 & 209.99 & 48.47 & 43.95089 & 116.33 & 104.7584 & 21.10533 & 21.10533\\\\\n",
       "\t5 & 2018-01-08 & 156.2811 & 118.4828 & 88.28 & 82.57117 & 55.3470 & 55.3470 & 43.5875 & 41.27125 & 62.3435 & ⋯ & 188.28 & 188.28 & 212.05 & 212.05 & 48.98 & 44.41334 & 114.80 & 103.3806 & 22.42733 & 22.42733\\\\\n",
       "\t6 & 2018-01-09 & 156.6252 & 118.7437 & 88.22 & 82.51504 & 55.3130 & 55.3130 & 43.5825 & 41.26653 & 62.6350 & ⋯ & 187.87 & 187.87 & 209.31 & 209.31 & 49.06 & 44.65912 & 114.16 & 102.8042 & 22.24600 & 22.24600\\\\\n",
       "\\end{tabular}\n"
      ],
      "text/markdown": [
       "\n",
       "A data.frame: 6 × 21\n",
       "\n",
       "| <!--/--> | Date &lt;date&gt; | Close_IBM &lt;dbl&gt; | Adj_Close_IBM &lt;dbl&gt; | Close_MSFT &lt;dbl&gt; | Adj_Close_MSFT &lt;dbl&gt; | Close_GOOG &lt;dbl&gt; | Adj_Close_GOOG &lt;dbl&gt; | Close_AAPL &lt;dbl&gt; | Adj_Close_AAPL &lt;dbl&gt; | Close_AMZN &lt;dbl&gt; | ⋯ ⋯ | Close_META &lt;dbl&gt; | Adj_Close_META &lt;dbl&gt; | Close_NFLX &lt;dbl&gt; | Adj_Close_NFLX &lt;dbl&gt; | Close_ORCL &lt;dbl&gt; | Adj_Close_ORCL &lt;dbl&gt; | Close_SAP &lt;dbl&gt; | Adj_Close_SAP &lt;dbl&gt; | Close_TSLA &lt;dbl&gt; | Adj_Close_TSLA &lt;dbl&gt; |\n",
       "|---|---|---|---|---|---|---|---|---|---|---|---|---|---|---|---|---|---|---|---|---|---|\n",
       "| 1 | 2018-01-02 | 147.4665 | 111.8001 | 85.95 | 80.39185 | 53.2500 | 53.2500 | 43.0650 | 40.77652 | 59.4505 | ⋯ | 181.42 | 181.42 | 201.07 | 201.07 | 46.63 | 42.28244 | 112.39 | 101.2103 | 21.36867 | 21.36867 |\n",
       "| 2 | 2018-01-03 | 151.5201 | 114.8733 | 86.35 | 80.76598 | 54.1240 | 54.1240 | 43.0575 | 40.76942 | 60.2100 | ⋯ | 184.67 | 184.67 | 205.05 | 205.05 | 47.71 | 43.26174 | 113.31 | 102.0388 | 21.15000 | 21.15000 |\n",
       "| 3 | 2018-01-04 | 154.5889 | 117.1999 | 87.11 | 81.47684 | 54.3200 | 54.3200 | 43.2575 | 40.95879 | 60.4795 | ⋯ | 184.33 | 184.33 | 205.63 | 205.63 | 48.18 | 43.68794 | 115.05 | 103.6057 | 20.97467 | 20.97467 |\n",
       "| 4 | 2018-01-05 | 155.3442 | 117.7725 | 88.19 | 82.48701 | 55.1115 | 55.1115 | 43.7500 | 41.42511 | 61.4570 | ⋯ | 186.85 | 186.85 | 209.99 | 209.99 | 48.47 | 43.95089 | 116.33 | 104.7584 | 21.10533 | 21.10533 |\n",
       "| 5 | 2018-01-08 | 156.2811 | 118.4828 | 88.28 | 82.57117 | 55.3470 | 55.3470 | 43.5875 | 41.27125 | 62.3435 | ⋯ | 188.28 | 188.28 | 212.05 | 212.05 | 48.98 | 44.41334 | 114.80 | 103.3806 | 22.42733 | 22.42733 |\n",
       "| 6 | 2018-01-09 | 156.6252 | 118.7437 | 88.22 | 82.51504 | 55.3130 | 55.3130 | 43.5825 | 41.26653 | 62.6350 | ⋯ | 187.87 | 187.87 | 209.31 | 209.31 | 49.06 | 44.65912 | 114.16 | 102.8042 | 22.24600 | 22.24600 |\n",
       "\n"
      ],
      "text/plain": [
       "  Date       Close_IBM Adj_Close_IBM Close_MSFT Adj_Close_MSFT Close_GOOG\n",
       "1 2018-01-02 147.4665  111.8001      85.95      80.39185       53.2500   \n",
       "2 2018-01-03 151.5201  114.8733      86.35      80.76598       54.1240   \n",
       "3 2018-01-04 154.5889  117.1999      87.11      81.47684       54.3200   \n",
       "4 2018-01-05 155.3442  117.7725      88.19      82.48701       55.1115   \n",
       "5 2018-01-08 156.2811  118.4828      88.28      82.57117       55.3470   \n",
       "6 2018-01-09 156.6252  118.7437      88.22      82.51504       55.3130   \n",
       "  Adj_Close_GOOG Close_AAPL Adj_Close_AAPL Close_AMZN ⋯ Close_META\n",
       "1 53.2500        43.0650    40.77652       59.4505    ⋯ 181.42    \n",
       "2 54.1240        43.0575    40.76942       60.2100    ⋯ 184.67    \n",
       "3 54.3200        43.2575    40.95879       60.4795    ⋯ 184.33    \n",
       "4 55.1115        43.7500    41.42511       61.4570    ⋯ 186.85    \n",
       "5 55.3470        43.5875    41.27125       62.3435    ⋯ 188.28    \n",
       "6 55.3130        43.5825    41.26653       62.6350    ⋯ 187.87    \n",
       "  Adj_Close_META Close_NFLX Adj_Close_NFLX Close_ORCL Adj_Close_ORCL Close_SAP\n",
       "1 181.42         201.07     201.07         46.63      42.28244       112.39   \n",
       "2 184.67         205.05     205.05         47.71      43.26174       113.31   \n",
       "3 184.33         205.63     205.63         48.18      43.68794       115.05   \n",
       "4 186.85         209.99     209.99         48.47      43.95089       116.33   \n",
       "5 188.28         212.05     212.05         48.98      44.41334       114.80   \n",
       "6 187.87         209.31     209.31         49.06      44.65912       114.16   \n",
       "  Adj_Close_SAP Close_TSLA Adj_Close_TSLA\n",
       "1 101.2103      21.36867   21.36867      \n",
       "2 102.0388      21.15000   21.15000      \n",
       "3 103.6057      20.97467   20.97467      \n",
       "4 104.7584      21.10533   21.10533      \n",
       "5 103.3806      22.42733   22.42733      \n",
       "6 102.8042      22.24600   22.24600      "
      ]
     },
     "metadata": {},
     "output_type": "display_data"
    }
   ],
   "source": [
    "head(df)"
   ]
  },
  {
   "cell_type": "code",
   "execution_count": 42,
   "id": "d34c6a3b-6dff-47f1-96ff-85b25074d31e",
   "metadata": {
    "colab": {
     "base_uri": "https://localhost:8080/",
     "height": 286
    },
    "id": "d34c6a3b-6dff-47f1-96ff-85b25074d31e",
    "outputId": "e2ec91d1-254b-45ac-ddde-ed9634ef7c2a",
    "tags": []
   },
   "outputs": [
    {
     "data": {
      "text/html": [
       "<table class=\"dataframe\">\n",
       "<caption>A data.frame: 6 × 11</caption>\n",
       "<thead>\n",
       "\t<tr><th></th><th scope=col>Date</th><th scope=col>Close_IBM</th><th scope=col>Close_MSFT</th><th scope=col>Close_GOOG</th><th scope=col>Close_AAPL</th><th scope=col>Close_AMZN</th><th scope=col>Close_META</th><th scope=col>Close_NFLX</th><th scope=col>Close_ORCL</th><th scope=col>Close_SAP</th><th scope=col>Close_TSLA</th></tr>\n",
       "\t<tr><th></th><th scope=col>&lt;date&gt;</th><th scope=col>&lt;dbl&gt;</th><th scope=col>&lt;dbl&gt;</th><th scope=col>&lt;dbl&gt;</th><th scope=col>&lt;dbl&gt;</th><th scope=col>&lt;dbl&gt;</th><th scope=col>&lt;dbl&gt;</th><th scope=col>&lt;dbl&gt;</th><th scope=col>&lt;dbl&gt;</th><th scope=col>&lt;dbl&gt;</th><th scope=col>&lt;dbl&gt;</th></tr>\n",
       "</thead>\n",
       "<tbody>\n",
       "\t<tr><th scope=row>1</th><td>2018-01-02</td><td>147.4665</td><td>85.95</td><td>53.2500</td><td>43.0650</td><td>59.4505</td><td>181.42</td><td>201.07</td><td>46.63</td><td>112.39</td><td>21.36867</td></tr>\n",
       "\t<tr><th scope=row>2</th><td>2018-01-03</td><td>151.5201</td><td>86.35</td><td>54.1240</td><td>43.0575</td><td>60.2100</td><td>184.67</td><td>205.05</td><td>47.71</td><td>113.31</td><td>21.15000</td></tr>\n",
       "\t<tr><th scope=row>3</th><td>2018-01-04</td><td>154.5889</td><td>87.11</td><td>54.3200</td><td>43.2575</td><td>60.4795</td><td>184.33</td><td>205.63</td><td>48.18</td><td>115.05</td><td>20.97467</td></tr>\n",
       "\t<tr><th scope=row>4</th><td>2018-01-05</td><td>155.3442</td><td>88.19</td><td>55.1115</td><td>43.7500</td><td>61.4570</td><td>186.85</td><td>209.99</td><td>48.47</td><td>116.33</td><td>21.10533</td></tr>\n",
       "\t<tr><th scope=row>5</th><td>2018-01-08</td><td>156.2811</td><td>88.28</td><td>55.3470</td><td>43.5875</td><td>62.3435</td><td>188.28</td><td>212.05</td><td>48.98</td><td>114.80</td><td>22.42733</td></tr>\n",
       "\t<tr><th scope=row>6</th><td>2018-01-09</td><td>156.6252</td><td>88.22</td><td>55.3130</td><td>43.5825</td><td>62.6350</td><td>187.87</td><td>209.31</td><td>49.06</td><td>114.16</td><td>22.24600</td></tr>\n",
       "</tbody>\n",
       "</table>\n"
      ],
      "text/latex": [
       "A data.frame: 6 × 11\n",
       "\\begin{tabular}{r|lllllllllll}\n",
       "  & Date & Close\\_IBM & Close\\_MSFT & Close\\_GOOG & Close\\_AAPL & Close\\_AMZN & Close\\_META & Close\\_NFLX & Close\\_ORCL & Close\\_SAP & Close\\_TSLA\\\\\n",
       "  & <date> & <dbl> & <dbl> & <dbl> & <dbl> & <dbl> & <dbl> & <dbl> & <dbl> & <dbl> & <dbl>\\\\\n",
       "\\hline\n",
       "\t1 & 2018-01-02 & 147.4665 & 85.95 & 53.2500 & 43.0650 & 59.4505 & 181.42 & 201.07 & 46.63 & 112.39 & 21.36867\\\\\n",
       "\t2 & 2018-01-03 & 151.5201 & 86.35 & 54.1240 & 43.0575 & 60.2100 & 184.67 & 205.05 & 47.71 & 113.31 & 21.15000\\\\\n",
       "\t3 & 2018-01-04 & 154.5889 & 87.11 & 54.3200 & 43.2575 & 60.4795 & 184.33 & 205.63 & 48.18 & 115.05 & 20.97467\\\\\n",
       "\t4 & 2018-01-05 & 155.3442 & 88.19 & 55.1115 & 43.7500 & 61.4570 & 186.85 & 209.99 & 48.47 & 116.33 & 21.10533\\\\\n",
       "\t5 & 2018-01-08 & 156.2811 & 88.28 & 55.3470 & 43.5875 & 62.3435 & 188.28 & 212.05 & 48.98 & 114.80 & 22.42733\\\\\n",
       "\t6 & 2018-01-09 & 156.6252 & 88.22 & 55.3130 & 43.5825 & 62.6350 & 187.87 & 209.31 & 49.06 & 114.16 & 22.24600\\\\\n",
       "\\end{tabular}\n"
      ],
      "text/markdown": [
       "\n",
       "A data.frame: 6 × 11\n",
       "\n",
       "| <!--/--> | Date &lt;date&gt; | Close_IBM &lt;dbl&gt; | Close_MSFT &lt;dbl&gt; | Close_GOOG &lt;dbl&gt; | Close_AAPL &lt;dbl&gt; | Close_AMZN &lt;dbl&gt; | Close_META &lt;dbl&gt; | Close_NFLX &lt;dbl&gt; | Close_ORCL &lt;dbl&gt; | Close_SAP &lt;dbl&gt; | Close_TSLA &lt;dbl&gt; |\n",
       "|---|---|---|---|---|---|---|---|---|---|---|---|\n",
       "| 1 | 2018-01-02 | 147.4665 | 85.95 | 53.2500 | 43.0650 | 59.4505 | 181.42 | 201.07 | 46.63 | 112.39 | 21.36867 |\n",
       "| 2 | 2018-01-03 | 151.5201 | 86.35 | 54.1240 | 43.0575 | 60.2100 | 184.67 | 205.05 | 47.71 | 113.31 | 21.15000 |\n",
       "| 3 | 2018-01-04 | 154.5889 | 87.11 | 54.3200 | 43.2575 | 60.4795 | 184.33 | 205.63 | 48.18 | 115.05 | 20.97467 |\n",
       "| 4 | 2018-01-05 | 155.3442 | 88.19 | 55.1115 | 43.7500 | 61.4570 | 186.85 | 209.99 | 48.47 | 116.33 | 21.10533 |\n",
       "| 5 | 2018-01-08 | 156.2811 | 88.28 | 55.3470 | 43.5875 | 62.3435 | 188.28 | 212.05 | 48.98 | 114.80 | 22.42733 |\n",
       "| 6 | 2018-01-09 | 156.6252 | 88.22 | 55.3130 | 43.5825 | 62.6350 | 187.87 | 209.31 | 49.06 | 114.16 | 22.24600 |\n",
       "\n"
      ],
      "text/plain": [
       "  Date       Close_IBM Close_MSFT Close_GOOG Close_AAPL Close_AMZN Close_META\n",
       "1 2018-01-02 147.4665  85.95      53.2500    43.0650    59.4505    181.42    \n",
       "2 2018-01-03 151.5201  86.35      54.1240    43.0575    60.2100    184.67    \n",
       "3 2018-01-04 154.5889  87.11      54.3200    43.2575    60.4795    184.33    \n",
       "4 2018-01-05 155.3442  88.19      55.1115    43.7500    61.4570    186.85    \n",
       "5 2018-01-08 156.2811  88.28      55.3470    43.5875    62.3435    188.28    \n",
       "6 2018-01-09 156.6252  88.22      55.3130    43.5825    62.6350    187.87    \n",
       "  Close_NFLX Close_ORCL Close_SAP Close_TSLA\n",
       "1 201.07     46.63      112.39    21.36867  \n",
       "2 205.05     47.71      113.31    21.15000  \n",
       "3 205.63     48.18      115.05    20.97467  \n",
       "4 209.99     48.47      116.33    21.10533  \n",
       "5 212.05     48.98      114.80    22.42733  \n",
       "6 209.31     49.06      114.16    22.24600  "
      ]
     },
     "metadata": {},
     "output_type": "display_data"
    }
   ],
   "source": [
    "close_columns = df[, -grep(\"Adj_\", names(df))]\n",
    "close_columns = subset(close_columns, Date <= as.Date(\"2018-12-31\"))\n",
    "head(close_columns)"
   ]
  },
  {
   "cell_type": "code",
   "execution_count": null,
   "id": "3827e7bb-5d50-49bd-b691-a7fb2b119c05",
   "metadata": {
    "id": "3827e7bb-5d50-49bd-b691-a7fb2b119c05"
   },
   "outputs": [],
   "source": []
  },
  {
   "cell_type": "code",
   "execution_count": 43,
   "id": "0720af71-7a0c-4b60-8285-1ad3188fa62d",
   "metadata": {
    "colab": {
     "base_uri": "https://localhost:8080/",
     "height": 286
    },
    "id": "0720af71-7a0c-4b60-8285-1ad3188fa62d",
    "outputId": "49eec245-1814-43ac-fe17-9d46a9602211",
    "tags": []
   },
   "outputs": [
    {
     "data": {
      "text/html": [
       "<table class=\"dataframe\">\n",
       "<caption>A data.frame: 6 × 12</caption>\n",
       "<thead>\n",
       "\t<tr><th></th><th scope=col>Date</th><th scope=col>Close_IBM</th><th scope=col>Close_MSFT</th><th scope=col>Close_GOOG</th><th scope=col>Close_AAPL</th><th scope=col>Close_AMZN</th><th scope=col>Close_META</th><th scope=col>Close_NFLX</th><th scope=col>Close_ORCL</th><th scope=col>Close_SAP</th><th scope=col>Close_TSLA</th><th scope=col>high_tech_index</th></tr>\n",
       "\t<tr><th></th><th scope=col>&lt;date&gt;</th><th scope=col>&lt;dbl&gt;</th><th scope=col>&lt;dbl&gt;</th><th scope=col>&lt;dbl&gt;</th><th scope=col>&lt;dbl&gt;</th><th scope=col>&lt;dbl&gt;</th><th scope=col>&lt;dbl&gt;</th><th scope=col>&lt;dbl&gt;</th><th scope=col>&lt;dbl&gt;</th><th scope=col>&lt;dbl&gt;</th><th scope=col>&lt;dbl&gt;</th><th scope=col>&lt;dbl&gt;</th></tr>\n",
       "</thead>\n",
       "<tbody>\n",
       "\t<tr><th scope=row>1</th><td>2018-01-02</td><td>147.4665</td><td>85.95</td><td>53.2500</td><td>43.0650</td><td>59.4505</td><td>181.42</td><td>201.07</td><td>46.63</td><td>112.39</td><td>21.36867</td><td>95.20607</td></tr>\n",
       "\t<tr><th scope=row>2</th><td>2018-01-03</td><td>151.5201</td><td>86.35</td><td>54.1240</td><td>43.0575</td><td>60.2100</td><td>184.67</td><td>205.05</td><td>47.71</td><td>113.31</td><td>21.15000</td><td>96.71516</td></tr>\n",
       "\t<tr><th scope=row>3</th><td>2018-01-04</td><td>154.5889</td><td>87.11</td><td>54.3200</td><td>43.2575</td><td>60.4795</td><td>184.33</td><td>205.63</td><td>48.18</td><td>115.05</td><td>20.97467</td><td>97.39206</td></tr>\n",
       "\t<tr><th scope=row>4</th><td>2018-01-05</td><td>155.3442</td><td>88.19</td><td>55.1115</td><td>43.7500</td><td>61.4570</td><td>186.85</td><td>209.99</td><td>48.47</td><td>116.33</td><td>21.10533</td><td>98.65980</td></tr>\n",
       "\t<tr><th scope=row>5</th><td>2018-01-08</td><td>156.2811</td><td>88.28</td><td>55.3470</td><td>43.5875</td><td>62.3435</td><td>188.28</td><td>212.05</td><td>48.98</td><td>114.80</td><td>22.42733</td><td>99.23764</td></tr>\n",
       "\t<tr><th scope=row>6</th><td>2018-01-09</td><td>156.6252</td><td>88.22</td><td>55.3130</td><td>43.5825</td><td>62.6350</td><td>187.87</td><td>209.31</td><td>49.06</td><td>114.16</td><td>22.24600</td><td>98.90217</td></tr>\n",
       "</tbody>\n",
       "</table>\n"
      ],
      "text/latex": [
       "A data.frame: 6 × 12\n",
       "\\begin{tabular}{r|llllllllllll}\n",
       "  & Date & Close\\_IBM & Close\\_MSFT & Close\\_GOOG & Close\\_AAPL & Close\\_AMZN & Close\\_META & Close\\_NFLX & Close\\_ORCL & Close\\_SAP & Close\\_TSLA & high\\_tech\\_index\\\\\n",
       "  & <date> & <dbl> & <dbl> & <dbl> & <dbl> & <dbl> & <dbl> & <dbl> & <dbl> & <dbl> & <dbl> & <dbl>\\\\\n",
       "\\hline\n",
       "\t1 & 2018-01-02 & 147.4665 & 85.95 & 53.2500 & 43.0650 & 59.4505 & 181.42 & 201.07 & 46.63 & 112.39 & 21.36867 & 95.20607\\\\\n",
       "\t2 & 2018-01-03 & 151.5201 & 86.35 & 54.1240 & 43.0575 & 60.2100 & 184.67 & 205.05 & 47.71 & 113.31 & 21.15000 & 96.71516\\\\\n",
       "\t3 & 2018-01-04 & 154.5889 & 87.11 & 54.3200 & 43.2575 & 60.4795 & 184.33 & 205.63 & 48.18 & 115.05 & 20.97467 & 97.39206\\\\\n",
       "\t4 & 2018-01-05 & 155.3442 & 88.19 & 55.1115 & 43.7500 & 61.4570 & 186.85 & 209.99 & 48.47 & 116.33 & 21.10533 & 98.65980\\\\\n",
       "\t5 & 2018-01-08 & 156.2811 & 88.28 & 55.3470 & 43.5875 & 62.3435 & 188.28 & 212.05 & 48.98 & 114.80 & 22.42733 & 99.23764\\\\\n",
       "\t6 & 2018-01-09 & 156.6252 & 88.22 & 55.3130 & 43.5825 & 62.6350 & 187.87 & 209.31 & 49.06 & 114.16 & 22.24600 & 98.90217\\\\\n",
       "\\end{tabular}\n"
      ],
      "text/markdown": [
       "\n",
       "A data.frame: 6 × 12\n",
       "\n",
       "| <!--/--> | Date &lt;date&gt; | Close_IBM &lt;dbl&gt; | Close_MSFT &lt;dbl&gt; | Close_GOOG &lt;dbl&gt; | Close_AAPL &lt;dbl&gt; | Close_AMZN &lt;dbl&gt; | Close_META &lt;dbl&gt; | Close_NFLX &lt;dbl&gt; | Close_ORCL &lt;dbl&gt; | Close_SAP &lt;dbl&gt; | Close_TSLA &lt;dbl&gt; | high_tech_index &lt;dbl&gt; |\n",
       "|---|---|---|---|---|---|---|---|---|---|---|---|---|\n",
       "| 1 | 2018-01-02 | 147.4665 | 85.95 | 53.2500 | 43.0650 | 59.4505 | 181.42 | 201.07 | 46.63 | 112.39 | 21.36867 | 95.20607 |\n",
       "| 2 | 2018-01-03 | 151.5201 | 86.35 | 54.1240 | 43.0575 | 60.2100 | 184.67 | 205.05 | 47.71 | 113.31 | 21.15000 | 96.71516 |\n",
       "| 3 | 2018-01-04 | 154.5889 | 87.11 | 54.3200 | 43.2575 | 60.4795 | 184.33 | 205.63 | 48.18 | 115.05 | 20.97467 | 97.39206 |\n",
       "| 4 | 2018-01-05 | 155.3442 | 88.19 | 55.1115 | 43.7500 | 61.4570 | 186.85 | 209.99 | 48.47 | 116.33 | 21.10533 | 98.65980 |\n",
       "| 5 | 2018-01-08 | 156.2811 | 88.28 | 55.3470 | 43.5875 | 62.3435 | 188.28 | 212.05 | 48.98 | 114.80 | 22.42733 | 99.23764 |\n",
       "| 6 | 2018-01-09 | 156.6252 | 88.22 | 55.3130 | 43.5825 | 62.6350 | 187.87 | 209.31 | 49.06 | 114.16 | 22.24600 | 98.90217 |\n",
       "\n"
      ],
      "text/plain": [
       "  Date       Close_IBM Close_MSFT Close_GOOG Close_AAPL Close_AMZN Close_META\n",
       "1 2018-01-02 147.4665  85.95      53.2500    43.0650    59.4505    181.42    \n",
       "2 2018-01-03 151.5201  86.35      54.1240    43.0575    60.2100    184.67    \n",
       "3 2018-01-04 154.5889  87.11      54.3200    43.2575    60.4795    184.33    \n",
       "4 2018-01-05 155.3442  88.19      55.1115    43.7500    61.4570    186.85    \n",
       "5 2018-01-08 156.2811  88.28      55.3470    43.5875    62.3435    188.28    \n",
       "6 2018-01-09 156.6252  88.22      55.3130    43.5825    62.6350    187.87    \n",
       "  Close_NFLX Close_ORCL Close_SAP Close_TSLA high_tech_index\n",
       "1 201.07     46.63      112.39    21.36867   95.20607       \n",
       "2 205.05     47.71      113.31    21.15000   96.71516       \n",
       "3 205.63     48.18      115.05    20.97467   97.39206       \n",
       "4 209.99     48.47      116.33    21.10533   98.65980       \n",
       "5 212.05     48.98      114.80    22.42733   99.23764       \n",
       "6 209.31     49.06      114.16    22.24600   98.90217       "
      ]
     },
     "metadata": {},
     "output_type": "display_data"
    }
   ],
   "source": [
    "close_columns$high_tech_index = rowMeans(close_columns[-1])\n",
    "head(close_columns)"
   ]
  },
  {
   "cell_type": "code",
   "execution_count": 44,
   "id": "6cb13b81-6ede-4c25-bf3e-3c1e6ca2d8ec",
   "metadata": {
    "id": "6cb13b81-6ede-4c25-bf3e-3c1e6ca2d8ec",
    "tags": []
   },
   "outputs": [],
   "source": [
    "# Calculate percentage change with respect to Jan 02, 2018 for high tech index\n",
    "high_tech_index_pct_change = ((close_columns$high_tech_index - close_columns$high_tech_index[1]) / close_columns$high_tech_index[1]) * 100\n",
    "\n",
    "close_columns$high_tech_index_pct_change = high_tech_index_pct_change"
   ]
  },
  {
   "cell_type": "code",
   "execution_count": 45,
   "id": "54361df5-3e80-4ba4-ae59-cae201f4d83e",
   "metadata": {
    "colab": {
     "base_uri": "https://localhost:8080/",
     "height": 410
    },
    "id": "54361df5-3e80-4ba4-ae59-cae201f4d83e",
    "outputId": "0d0f15d9-1d94-494a-a8f9-63b985ff7632",
    "tags": []
   },
   "outputs": [
    {
     "data": {
      "text/html": [
       "<table class=\"dataframe\">\n",
       "<caption>A data.frame: 6 × 13</caption>\n",
       "<thead>\n",
       "\t<tr><th></th><th scope=col>Date</th><th scope=col>Close_IBM</th><th scope=col>Close_MSFT</th><th scope=col>Close_GOOG</th><th scope=col>Close_AAPL</th><th scope=col>Close_AMZN</th><th scope=col>Close_META</th><th scope=col>Close_NFLX</th><th scope=col>Close_ORCL</th><th scope=col>Close_SAP</th><th scope=col>Close_TSLA</th><th scope=col>high_tech_index</th><th scope=col>high_tech_index_pct_change</th></tr>\n",
       "\t<tr><th></th><th scope=col>&lt;date&gt;</th><th scope=col>&lt;dbl&gt;</th><th scope=col>&lt;dbl&gt;</th><th scope=col>&lt;dbl&gt;</th><th scope=col>&lt;dbl&gt;</th><th scope=col>&lt;dbl&gt;</th><th scope=col>&lt;dbl&gt;</th><th scope=col>&lt;dbl&gt;</th><th scope=col>&lt;dbl&gt;</th><th scope=col>&lt;dbl&gt;</th><th scope=col>&lt;dbl&gt;</th><th scope=col>&lt;dbl&gt;</th><th scope=col>&lt;dbl&gt;</th></tr>\n",
       "</thead>\n",
       "<tbody>\n",
       "\t<tr><th scope=row>1</th><td>2018-01-02</td><td>147.4665</td><td>85.95</td><td>53.2500</td><td>43.0650</td><td>59.4505</td><td>181.42</td><td>201.07</td><td>46.63</td><td>112.39</td><td>21.36867</td><td>95.20607</td><td>0.000000</td></tr>\n",
       "\t<tr><th scope=row>2</th><td>2018-01-03</td><td>151.5201</td><td>86.35</td><td>54.1240</td><td>43.0575</td><td>60.2100</td><td>184.67</td><td>205.05</td><td>47.71</td><td>113.31</td><td>21.15000</td><td>96.71516</td><td>1.585074</td></tr>\n",
       "\t<tr><th scope=row>3</th><td>2018-01-04</td><td>154.5889</td><td>87.11</td><td>54.3200</td><td>43.2575</td><td>60.4795</td><td>184.33</td><td>205.63</td><td>48.18</td><td>115.05</td><td>20.97467</td><td>97.39206</td><td>2.296060</td></tr>\n",
       "\t<tr><th scope=row>4</th><td>2018-01-05</td><td>155.3442</td><td>88.19</td><td>55.1115</td><td>43.7500</td><td>61.4570</td><td>186.85</td><td>209.99</td><td>48.47</td><td>116.33</td><td>21.10533</td><td>98.65980</td><td>3.627637</td></tr>\n",
       "\t<tr><th scope=row>5</th><td>2018-01-08</td><td>156.2811</td><td>88.28</td><td>55.3470</td><td>43.5875</td><td>62.3435</td><td>188.28</td><td>212.05</td><td>48.98</td><td>114.80</td><td>22.42733</td><td>99.23764</td><td>4.234572</td></tr>\n",
       "\t<tr><th scope=row>6</th><td>2018-01-09</td><td>156.6252</td><td>88.22</td><td>55.3130</td><td>43.5825</td><td>62.6350</td><td>187.87</td><td>209.31</td><td>49.06</td><td>114.16</td><td>22.24600</td><td>98.90217</td><td>3.882214</td></tr>\n",
       "</tbody>\n",
       "</table>\n"
      ],
      "text/latex": [
       "A data.frame: 6 × 13\n",
       "\\begin{tabular}{r|lllllllllllll}\n",
       "  & Date & Close\\_IBM & Close\\_MSFT & Close\\_GOOG & Close\\_AAPL & Close\\_AMZN & Close\\_META & Close\\_NFLX & Close\\_ORCL & Close\\_SAP & Close\\_TSLA & high\\_tech\\_index & high\\_tech\\_index\\_pct\\_change\\\\\n",
       "  & <date> & <dbl> & <dbl> & <dbl> & <dbl> & <dbl> & <dbl> & <dbl> & <dbl> & <dbl> & <dbl> & <dbl> & <dbl>\\\\\n",
       "\\hline\n",
       "\t1 & 2018-01-02 & 147.4665 & 85.95 & 53.2500 & 43.0650 & 59.4505 & 181.42 & 201.07 & 46.63 & 112.39 & 21.36867 & 95.20607 & 0.000000\\\\\n",
       "\t2 & 2018-01-03 & 151.5201 & 86.35 & 54.1240 & 43.0575 & 60.2100 & 184.67 & 205.05 & 47.71 & 113.31 & 21.15000 & 96.71516 & 1.585074\\\\\n",
       "\t3 & 2018-01-04 & 154.5889 & 87.11 & 54.3200 & 43.2575 & 60.4795 & 184.33 & 205.63 & 48.18 & 115.05 & 20.97467 & 97.39206 & 2.296060\\\\\n",
       "\t4 & 2018-01-05 & 155.3442 & 88.19 & 55.1115 & 43.7500 & 61.4570 & 186.85 & 209.99 & 48.47 & 116.33 & 21.10533 & 98.65980 & 3.627637\\\\\n",
       "\t5 & 2018-01-08 & 156.2811 & 88.28 & 55.3470 & 43.5875 & 62.3435 & 188.28 & 212.05 & 48.98 & 114.80 & 22.42733 & 99.23764 & 4.234572\\\\\n",
       "\t6 & 2018-01-09 & 156.6252 & 88.22 & 55.3130 & 43.5825 & 62.6350 & 187.87 & 209.31 & 49.06 & 114.16 & 22.24600 & 98.90217 & 3.882214\\\\\n",
       "\\end{tabular}\n"
      ],
      "text/markdown": [
       "\n",
       "A data.frame: 6 × 13\n",
       "\n",
       "| <!--/--> | Date &lt;date&gt; | Close_IBM &lt;dbl&gt; | Close_MSFT &lt;dbl&gt; | Close_GOOG &lt;dbl&gt; | Close_AAPL &lt;dbl&gt; | Close_AMZN &lt;dbl&gt; | Close_META &lt;dbl&gt; | Close_NFLX &lt;dbl&gt; | Close_ORCL &lt;dbl&gt; | Close_SAP &lt;dbl&gt; | Close_TSLA &lt;dbl&gt; | high_tech_index &lt;dbl&gt; | high_tech_index_pct_change &lt;dbl&gt; |\n",
       "|---|---|---|---|---|---|---|---|---|---|---|---|---|---|\n",
       "| 1 | 2018-01-02 | 147.4665 | 85.95 | 53.2500 | 43.0650 | 59.4505 | 181.42 | 201.07 | 46.63 | 112.39 | 21.36867 | 95.20607 | 0.000000 |\n",
       "| 2 | 2018-01-03 | 151.5201 | 86.35 | 54.1240 | 43.0575 | 60.2100 | 184.67 | 205.05 | 47.71 | 113.31 | 21.15000 | 96.71516 | 1.585074 |\n",
       "| 3 | 2018-01-04 | 154.5889 | 87.11 | 54.3200 | 43.2575 | 60.4795 | 184.33 | 205.63 | 48.18 | 115.05 | 20.97467 | 97.39206 | 2.296060 |\n",
       "| 4 | 2018-01-05 | 155.3442 | 88.19 | 55.1115 | 43.7500 | 61.4570 | 186.85 | 209.99 | 48.47 | 116.33 | 21.10533 | 98.65980 | 3.627637 |\n",
       "| 5 | 2018-01-08 | 156.2811 | 88.28 | 55.3470 | 43.5875 | 62.3435 | 188.28 | 212.05 | 48.98 | 114.80 | 22.42733 | 99.23764 | 4.234572 |\n",
       "| 6 | 2018-01-09 | 156.6252 | 88.22 | 55.3130 | 43.5825 | 62.6350 | 187.87 | 209.31 | 49.06 | 114.16 | 22.24600 | 98.90217 | 3.882214 |\n",
       "\n"
      ],
      "text/plain": [
       "  Date       Close_IBM Close_MSFT Close_GOOG Close_AAPL Close_AMZN Close_META\n",
       "1 2018-01-02 147.4665  85.95      53.2500    43.0650    59.4505    181.42    \n",
       "2 2018-01-03 151.5201  86.35      54.1240    43.0575    60.2100    184.67    \n",
       "3 2018-01-04 154.5889  87.11      54.3200    43.2575    60.4795    184.33    \n",
       "4 2018-01-05 155.3442  88.19      55.1115    43.7500    61.4570    186.85    \n",
       "5 2018-01-08 156.2811  88.28      55.3470    43.5875    62.3435    188.28    \n",
       "6 2018-01-09 156.6252  88.22      55.3130    43.5825    62.6350    187.87    \n",
       "  Close_NFLX Close_ORCL Close_SAP Close_TSLA high_tech_index\n",
       "1 201.07     46.63      112.39    21.36867   95.20607       \n",
       "2 205.05     47.71      113.31    21.15000   96.71516       \n",
       "3 205.63     48.18      115.05    20.97467   97.39206       \n",
       "4 209.99     48.47      116.33    21.10533   98.65980       \n",
       "5 212.05     48.98      114.80    22.42733   99.23764       \n",
       "6 209.31     49.06      114.16    22.24600   98.90217       \n",
       "  high_tech_index_pct_change\n",
       "1 0.000000                  \n",
       "2 1.585074                  \n",
       "3 2.296060                  \n",
       "4 3.627637                  \n",
       "5 4.234572                  \n",
       "6 3.882214                  "
      ]
     },
     "metadata": {},
     "output_type": "display_data"
    }
   ],
   "source": [
    "head(close_columns)"
   ]
  },
  {
   "cell_type": "code",
   "execution_count": 46,
   "id": "9cc810e1-5ba0-4fd3-ba48-d2f059f7dc52",
   "metadata": {
    "colab": {
     "base_uri": "https://localhost:8080/",
     "height": 98
    },
    "id": "9cc810e1-5ba0-4fd3-ba48-d2f059f7dc52",
    "outputId": "8effb02b-e935-43b3-d0c0-eac2d01d68ba",
    "tags": []
   },
   "outputs": [
    {
     "data": {
      "text/html": [
       "<table class=\"dataframe\">\n",
       "<caption>A data.frame: 6 × 4</caption>\n",
       "<thead>\n",
       "\t<tr><th></th><th scope=col>Date</th><th scope=col>MTM</th><th scope=col>MTM_high</th><th scope=col>MTM_pct_change</th></tr>\n",
       "\t<tr><th></th><th scope=col>&lt;date&gt;</th><th scope=col>&lt;dbl&gt;</th><th scope=col>&lt;dbl&gt;</th><th scope=col>&lt;dbl&gt;</th></tr>\n",
       "</thead>\n",
       "<tbody>\n",
       "\t<tr><th scope=row>1</th><td>2018-01-02</td><td>5000000</td><td>5000000</td><td>0.000000</td></tr>\n",
       "\t<tr><th scope=row>2</th><td>2018-01-03</td><td>5061154</td><td>5061154</td><td>1.223084</td></tr>\n",
       "\t<tr><th scope=row>3</th><td>2018-01-04</td><td>5103664</td><td>5103664</td><td>2.073270</td></tr>\n",
       "\t<tr><th scope=row>4</th><td>2018-01-05</td><td>5164091</td><td>5164091</td><td>3.281811</td></tr>\n",
       "\t<tr><th scope=row>5</th><td>2018-01-08</td><td>5187051</td><td>5187051</td><td>3.741018</td></tr>\n",
       "\t<tr><th scope=row>6</th><td>2018-01-09</td><td>5192835</td><td>5192835</td><td>3.856703</td></tr>\n",
       "</tbody>\n",
       "</table>\n"
      ],
      "text/latex": [
       "A data.frame: 6 × 4\n",
       "\\begin{tabular}{r|llll}\n",
       "  & Date & MTM & MTM\\_high & MTM\\_pct\\_change\\\\\n",
       "  & <date> & <dbl> & <dbl> & <dbl>\\\\\n",
       "\\hline\n",
       "\t1 & 2018-01-02 & 5000000 & 5000000 & 0.000000\\\\\n",
       "\t2 & 2018-01-03 & 5061154 & 5061154 & 1.223084\\\\\n",
       "\t3 & 2018-01-04 & 5103664 & 5103664 & 2.073270\\\\\n",
       "\t4 & 2018-01-05 & 5164091 & 5164091 & 3.281811\\\\\n",
       "\t5 & 2018-01-08 & 5187051 & 5187051 & 3.741018\\\\\n",
       "\t6 & 2018-01-09 & 5192835 & 5192835 & 3.856703\\\\\n",
       "\\end{tabular}\n"
      ],
      "text/markdown": [
       "\n",
       "A data.frame: 6 × 4\n",
       "\n",
       "| <!--/--> | Date &lt;date&gt; | MTM &lt;dbl&gt; | MTM_high &lt;dbl&gt; | MTM_pct_change &lt;dbl&gt; |\n",
       "|---|---|---|---|---|\n",
       "| 1 | 2018-01-02 | 5000000 | 5000000 | 0.000000 |\n",
       "| 2 | 2018-01-03 | 5061154 | 5061154 | 1.223084 |\n",
       "| 3 | 2018-01-04 | 5103664 | 5103664 | 2.073270 |\n",
       "| 4 | 2018-01-05 | 5164091 | 5164091 | 3.281811 |\n",
       "| 5 | 2018-01-08 | 5187051 | 5187051 | 3.741018 |\n",
       "| 6 | 2018-01-09 | 5192835 | 5192835 | 3.856703 |\n",
       "\n"
      ],
      "text/plain": [
       "  Date       MTM     MTM_high MTM_pct_change\n",
       "1 2018-01-02 5000000 5000000  0.000000      \n",
       "2 2018-01-03 5061154 5061154  1.223084      \n",
       "3 2018-01-04 5103664 5103664  2.073270      \n",
       "4 2018-01-05 5164091 5164091  3.281811      \n",
       "5 2018-01-08 5187051 5187051  3.741018      \n",
       "6 2018-01-09 5192835 5192835  3.856703      "
      ]
     },
     "metadata": {},
     "output_type": "display_data"
    }
   ],
   "source": [
    "MTM_pct_change = ((MTM_df$MTM - MTM_df$MTM[1]) / MTM_df$MTM[1]) * 100\n",
    "\n",
    "MTM_df$MTM_pct_change = MTM_pct_change\n",
    "head(MTM_df)"
   ]
  },
  {
   "cell_type": "code",
   "execution_count": 47,
   "id": "fbddd371-067e-4366-8798-6d532e2e2211",
   "metadata": {
    "colab": {
     "base_uri": "https://localhost:8080/",
     "height": 197
    },
    "id": "fbddd371-067e-4366-8798-6d532e2e2211",
    "outputId": "6c0b8f0d-30ad-4ce2-a9c3-e86ab5739733",
    "tags": []
   },
   "outputs": [
    {
     "data": {
      "text/html": [
       "<table class=\"dataframe\">\n",
       "<caption>A data.frame: 502 × 3</caption>\n",
       "<thead>\n",
       "\t<tr><th scope=col>Date</th><th scope=col>variable</th><th scope=col>value</th></tr>\n",
       "\t<tr><th scope=col>&lt;date&gt;</th><th scope=col>&lt;fct&gt;</th><th scope=col>&lt;dbl&gt;</th></tr>\n",
       "</thead>\n",
       "<tbody>\n",
       "\t<tr><td>2018-01-02</td><td>MTM</td><td> 0.00000000</td></tr>\n",
       "\t<tr><td>2018-01-03</td><td>MTM</td><td> 1.22308363</td></tr>\n",
       "\t<tr><td>2018-01-04</td><td>MTM</td><td> 2.07327003</td></tr>\n",
       "\t<tr><td>2018-01-05</td><td>MTM</td><td> 3.28181144</td></tr>\n",
       "\t<tr><td>2018-01-08</td><td>MTM</td><td> 3.74101760</td></tr>\n",
       "\t<tr><td>2018-01-09</td><td>MTM</td><td> 3.85670251</td></tr>\n",
       "\t<tr><td>2018-01-10</td><td>MTM</td><td> 3.76323911</td></tr>\n",
       "\t<tr><td>2018-01-11</td><td>MTM</td><td> 4.37184345</td></tr>\n",
       "\t<tr><td>2018-01-12</td><td>MTM</td><td> 5.59228654</td></tr>\n",
       "\t<tr><td>2018-01-16</td><td>MTM</td><td> 5.27389499</td></tr>\n",
       "\t<tr><td>2018-01-17</td><td>MTM</td><td> 6.67666905</td></tr>\n",
       "\t<tr><td>2018-01-18</td><td>MTM</td><td> 6.67748983</td></tr>\n",
       "\t<tr><td>2018-01-19</td><td>MTM</td><td> 5.85233315</td></tr>\n",
       "\t<tr><td>2018-01-22</td><td>MTM</td><td> 6.98143774</td></tr>\n",
       "\t<tr><td>2018-01-23</td><td>MTM</td><td> 8.38528090</td></tr>\n",
       "\t<tr><td>2018-01-24</td><td>MTM</td><td> 7.73296260</td></tr>\n",
       "\t<tr><td>2018-01-25</td><td>MTM</td><td> 7.96243761</td></tr>\n",
       "\t<tr><td>2018-01-26</td><td>MTM</td><td> 9.16195286</td></tr>\n",
       "\t<tr><td>2018-01-29</td><td>MTM</td><td> 8.90522445</td></tr>\n",
       "\t<tr><td>2018-01-30</td><td>MTM</td><td> 8.21888776</td></tr>\n",
       "\t<tr><td>2018-01-31</td><td>MTM</td><td> 9.14805837</td></tr>\n",
       "\t<tr><td>2018-02-01</td><td>MTM</td><td> 7.77939503</td></tr>\n",
       "\t<tr><td>2018-02-02</td><td>MTM</td><td> 5.54429039</td></tr>\n",
       "\t<tr><td>2018-02-05</td><td>MTM</td><td> 1.63097549</td></tr>\n",
       "\t<tr><td>2018-02-06</td><td>MTM</td><td> 4.88391438</td></tr>\n",
       "\t<tr><td>2018-02-07</td><td>MTM</td><td> 2.84569576</td></tr>\n",
       "\t<tr><td>2018-02-08</td><td>MTM</td><td>-1.54452554</td></tr>\n",
       "\t<tr><td>2018-02-09</td><td>MTM</td><td> 0.08588614</td></tr>\n",
       "\t<tr><td>2018-02-12</td><td>MTM</td><td> 2.33363604</td></tr>\n",
       "\t<tr><td>2018-02-13</td><td>MTM</td><td> 3.08015322</td></tr>\n",
       "\t<tr><td>⋮</td><td>⋮</td><td>⋮</td></tr>\n",
       "\t<tr><td>2018-11-15</td><td>high_tech_index</td><td> 6.9982997</td></tr>\n",
       "\t<tr><td>2018-11-16</td><td>high_tech_index</td><td> 6.1667454</td></tr>\n",
       "\t<tr><td>2018-11-19</td><td>high_tech_index</td><td> 1.8383906</td></tr>\n",
       "\t<tr><td>2018-11-20</td><td>high_tech_index</td><td> 0.3032572</td></tr>\n",
       "\t<tr><td>2018-11-21</td><td>high_tech_index</td><td> 0.6242202</td></tr>\n",
       "\t<tr><td>2018-11-23</td><td>high_tech_index</td><td>-0.5906008</td></tr>\n",
       "\t<tr><td>2018-11-26</td><td>high_tech_index</td><td> 1.6533142</td></tr>\n",
       "\t<tr><td>2018-11-27</td><td>high_tech_index</td><td> 1.9473792</td></tr>\n",
       "\t<tr><td>2018-11-28</td><td>high_tech_index</td><td> 5.8594417</td></tr>\n",
       "\t<tr><td>2018-11-29</td><td>high_tech_index</td><td> 6.2299200</td></tr>\n",
       "\t<tr><td>2018-11-30</td><td>high_tech_index</td><td> 6.7279953</td></tr>\n",
       "\t<tr><td>2018-12-03</td><td>high_tech_index</td><td> 8.4429845</td></tr>\n",
       "\t<tr><td>2018-12-04</td><td>high_tech_index</td><td> 4.3847164</td></tr>\n",
       "\t<tr><td>2018-12-06</td><td>high_tech_index</td><td> 5.5217185</td></tr>\n",
       "\t<tr><td>2018-12-07</td><td>high_tech_index</td><td> 1.6179383</td></tr>\n",
       "\t<tr><td>2018-12-10</td><td>high_tech_index</td><td> 3.3847320</td></tr>\n",
       "\t<tr><td>2018-12-11</td><td>high_tech_index</td><td> 3.0334814</td></tr>\n",
       "\t<tr><td>2018-12-12</td><td>high_tech_index</td><td> 4.8281628</td></tr>\n",
       "\t<tr><td>2018-12-13</td><td>high_tech_index</td><td> 5.0837885</td></tr>\n",
       "\t<tr><td>2018-12-14</td><td>high_tech_index</td><td> 2.5773143</td></tr>\n",
       "\t<tr><td>2018-12-17</td><td>high_tech_index</td><td> 0.1311422</td></tr>\n",
       "\t<tr><td>2018-12-18</td><td>high_tech_index</td><td> 1.7808780</td></tr>\n",
       "\t<tr><td>2018-12-19</td><td>high_tech_index</td><td>-0.2275019</td></tr>\n",
       "\t<tr><td>2018-12-20</td><td>high_tech_index</td><td>-1.9364500</td></tr>\n",
       "\t<tr><td>2018-12-21</td><td>high_tech_index</td><td>-6.2432491</td></tr>\n",
       "\t<tr><td>2018-12-24</td><td>high_tech_index</td><td>-9.1435509</td></tr>\n",
       "\t<tr><td>2018-12-26</td><td>high_tech_index</td><td>-2.9031233</td></tr>\n",
       "\t<tr><td>2018-12-27</td><td>high_tech_index</td><td>-2.3806857</td></tr>\n",
       "\t<tr><td>2018-12-28</td><td>high_tech_index</td><td>-2.4411210</td></tr>\n",
       "\t<tr><td>2018-12-31</td><td>high_tech_index</td><td>-1.0365836</td></tr>\n",
       "</tbody>\n",
       "</table>\n"
      ],
      "text/latex": [
       "A data.frame: 502 × 3\n",
       "\\begin{tabular}{lll}\n",
       " Date & variable & value\\\\\n",
       " <date> & <fct> & <dbl>\\\\\n",
       "\\hline\n",
       "\t 2018-01-02 & MTM &  0.00000000\\\\\n",
       "\t 2018-01-03 & MTM &  1.22308363\\\\\n",
       "\t 2018-01-04 & MTM &  2.07327003\\\\\n",
       "\t 2018-01-05 & MTM &  3.28181144\\\\\n",
       "\t 2018-01-08 & MTM &  3.74101760\\\\\n",
       "\t 2018-01-09 & MTM &  3.85670251\\\\\n",
       "\t 2018-01-10 & MTM &  3.76323911\\\\\n",
       "\t 2018-01-11 & MTM &  4.37184345\\\\\n",
       "\t 2018-01-12 & MTM &  5.59228654\\\\\n",
       "\t 2018-01-16 & MTM &  5.27389499\\\\\n",
       "\t 2018-01-17 & MTM &  6.67666905\\\\\n",
       "\t 2018-01-18 & MTM &  6.67748983\\\\\n",
       "\t 2018-01-19 & MTM &  5.85233315\\\\\n",
       "\t 2018-01-22 & MTM &  6.98143774\\\\\n",
       "\t 2018-01-23 & MTM &  8.38528090\\\\\n",
       "\t 2018-01-24 & MTM &  7.73296260\\\\\n",
       "\t 2018-01-25 & MTM &  7.96243761\\\\\n",
       "\t 2018-01-26 & MTM &  9.16195286\\\\\n",
       "\t 2018-01-29 & MTM &  8.90522445\\\\\n",
       "\t 2018-01-30 & MTM &  8.21888776\\\\\n",
       "\t 2018-01-31 & MTM &  9.14805837\\\\\n",
       "\t 2018-02-01 & MTM &  7.77939503\\\\\n",
       "\t 2018-02-02 & MTM &  5.54429039\\\\\n",
       "\t 2018-02-05 & MTM &  1.63097549\\\\\n",
       "\t 2018-02-06 & MTM &  4.88391438\\\\\n",
       "\t 2018-02-07 & MTM &  2.84569576\\\\\n",
       "\t 2018-02-08 & MTM & -1.54452554\\\\\n",
       "\t 2018-02-09 & MTM &  0.08588614\\\\\n",
       "\t 2018-02-12 & MTM &  2.33363604\\\\\n",
       "\t 2018-02-13 & MTM &  3.08015322\\\\\n",
       "\t ⋮ & ⋮ & ⋮\\\\\n",
       "\t 2018-11-15 & high\\_tech\\_index &  6.9982997\\\\\n",
       "\t 2018-11-16 & high\\_tech\\_index &  6.1667454\\\\\n",
       "\t 2018-11-19 & high\\_tech\\_index &  1.8383906\\\\\n",
       "\t 2018-11-20 & high\\_tech\\_index &  0.3032572\\\\\n",
       "\t 2018-11-21 & high\\_tech\\_index &  0.6242202\\\\\n",
       "\t 2018-11-23 & high\\_tech\\_index & -0.5906008\\\\\n",
       "\t 2018-11-26 & high\\_tech\\_index &  1.6533142\\\\\n",
       "\t 2018-11-27 & high\\_tech\\_index &  1.9473792\\\\\n",
       "\t 2018-11-28 & high\\_tech\\_index &  5.8594417\\\\\n",
       "\t 2018-11-29 & high\\_tech\\_index &  6.2299200\\\\\n",
       "\t 2018-11-30 & high\\_tech\\_index &  6.7279953\\\\\n",
       "\t 2018-12-03 & high\\_tech\\_index &  8.4429845\\\\\n",
       "\t 2018-12-04 & high\\_tech\\_index &  4.3847164\\\\\n",
       "\t 2018-12-06 & high\\_tech\\_index &  5.5217185\\\\\n",
       "\t 2018-12-07 & high\\_tech\\_index &  1.6179383\\\\\n",
       "\t 2018-12-10 & high\\_tech\\_index &  3.3847320\\\\\n",
       "\t 2018-12-11 & high\\_tech\\_index &  3.0334814\\\\\n",
       "\t 2018-12-12 & high\\_tech\\_index &  4.8281628\\\\\n",
       "\t 2018-12-13 & high\\_tech\\_index &  5.0837885\\\\\n",
       "\t 2018-12-14 & high\\_tech\\_index &  2.5773143\\\\\n",
       "\t 2018-12-17 & high\\_tech\\_index &  0.1311422\\\\\n",
       "\t 2018-12-18 & high\\_tech\\_index &  1.7808780\\\\\n",
       "\t 2018-12-19 & high\\_tech\\_index & -0.2275019\\\\\n",
       "\t 2018-12-20 & high\\_tech\\_index & -1.9364500\\\\\n",
       "\t 2018-12-21 & high\\_tech\\_index & -6.2432491\\\\\n",
       "\t 2018-12-24 & high\\_tech\\_index & -9.1435509\\\\\n",
       "\t 2018-12-26 & high\\_tech\\_index & -2.9031233\\\\\n",
       "\t 2018-12-27 & high\\_tech\\_index & -2.3806857\\\\\n",
       "\t 2018-12-28 & high\\_tech\\_index & -2.4411210\\\\\n",
       "\t 2018-12-31 & high\\_tech\\_index & -1.0365836\\\\\n",
       "\\end{tabular}\n"
      ],
      "text/markdown": [
       "\n",
       "A data.frame: 502 × 3\n",
       "\n",
       "| Date &lt;date&gt; | variable &lt;fct&gt; | value &lt;dbl&gt; |\n",
       "|---|---|---|\n",
       "| 2018-01-02 | MTM |  0.00000000 |\n",
       "| 2018-01-03 | MTM |  1.22308363 |\n",
       "| 2018-01-04 | MTM |  2.07327003 |\n",
       "| 2018-01-05 | MTM |  3.28181144 |\n",
       "| 2018-01-08 | MTM |  3.74101760 |\n",
       "| 2018-01-09 | MTM |  3.85670251 |\n",
       "| 2018-01-10 | MTM |  3.76323911 |\n",
       "| 2018-01-11 | MTM |  4.37184345 |\n",
       "| 2018-01-12 | MTM |  5.59228654 |\n",
       "| 2018-01-16 | MTM |  5.27389499 |\n",
       "| 2018-01-17 | MTM |  6.67666905 |\n",
       "| 2018-01-18 | MTM |  6.67748983 |\n",
       "| 2018-01-19 | MTM |  5.85233315 |\n",
       "| 2018-01-22 | MTM |  6.98143774 |\n",
       "| 2018-01-23 | MTM |  8.38528090 |\n",
       "| 2018-01-24 | MTM |  7.73296260 |\n",
       "| 2018-01-25 | MTM |  7.96243761 |\n",
       "| 2018-01-26 | MTM |  9.16195286 |\n",
       "| 2018-01-29 | MTM |  8.90522445 |\n",
       "| 2018-01-30 | MTM |  8.21888776 |\n",
       "| 2018-01-31 | MTM |  9.14805837 |\n",
       "| 2018-02-01 | MTM |  7.77939503 |\n",
       "| 2018-02-02 | MTM |  5.54429039 |\n",
       "| 2018-02-05 | MTM |  1.63097549 |\n",
       "| 2018-02-06 | MTM |  4.88391438 |\n",
       "| 2018-02-07 | MTM |  2.84569576 |\n",
       "| 2018-02-08 | MTM | -1.54452554 |\n",
       "| 2018-02-09 | MTM |  0.08588614 |\n",
       "| 2018-02-12 | MTM |  2.33363604 |\n",
       "| 2018-02-13 | MTM |  3.08015322 |\n",
       "| ⋮ | ⋮ | ⋮ |\n",
       "| 2018-11-15 | high_tech_index |  6.9982997 |\n",
       "| 2018-11-16 | high_tech_index |  6.1667454 |\n",
       "| 2018-11-19 | high_tech_index |  1.8383906 |\n",
       "| 2018-11-20 | high_tech_index |  0.3032572 |\n",
       "| 2018-11-21 | high_tech_index |  0.6242202 |\n",
       "| 2018-11-23 | high_tech_index | -0.5906008 |\n",
       "| 2018-11-26 | high_tech_index |  1.6533142 |\n",
       "| 2018-11-27 | high_tech_index |  1.9473792 |\n",
       "| 2018-11-28 | high_tech_index |  5.8594417 |\n",
       "| 2018-11-29 | high_tech_index |  6.2299200 |\n",
       "| 2018-11-30 | high_tech_index |  6.7279953 |\n",
       "| 2018-12-03 | high_tech_index |  8.4429845 |\n",
       "| 2018-12-04 | high_tech_index |  4.3847164 |\n",
       "| 2018-12-06 | high_tech_index |  5.5217185 |\n",
       "| 2018-12-07 | high_tech_index |  1.6179383 |\n",
       "| 2018-12-10 | high_tech_index |  3.3847320 |\n",
       "| 2018-12-11 | high_tech_index |  3.0334814 |\n",
       "| 2018-12-12 | high_tech_index |  4.8281628 |\n",
       "| 2018-12-13 | high_tech_index |  5.0837885 |\n",
       "| 2018-12-14 | high_tech_index |  2.5773143 |\n",
       "| 2018-12-17 | high_tech_index |  0.1311422 |\n",
       "| 2018-12-18 | high_tech_index |  1.7808780 |\n",
       "| 2018-12-19 | high_tech_index | -0.2275019 |\n",
       "| 2018-12-20 | high_tech_index | -1.9364500 |\n",
       "| 2018-12-21 | high_tech_index | -6.2432491 |\n",
       "| 2018-12-24 | high_tech_index | -9.1435509 |\n",
       "| 2018-12-26 | high_tech_index | -2.9031233 |\n",
       "| 2018-12-27 | high_tech_index | -2.3806857 |\n",
       "| 2018-12-28 | high_tech_index | -2.4411210 |\n",
       "| 2018-12-31 | high_tech_index | -1.0365836 |\n",
       "\n"
      ],
      "text/plain": [
       "    Date       variable        value      \n",
       "1   2018-01-02 MTM              0.00000000\n",
       "2   2018-01-03 MTM              1.22308363\n",
       "3   2018-01-04 MTM              2.07327003\n",
       "4   2018-01-05 MTM              3.28181144\n",
       "5   2018-01-08 MTM              3.74101760\n",
       "6   2018-01-09 MTM              3.85670251\n",
       "7   2018-01-10 MTM              3.76323911\n",
       "8   2018-01-11 MTM              4.37184345\n",
       "9   2018-01-12 MTM              5.59228654\n",
       "10  2018-01-16 MTM              5.27389499\n",
       "11  2018-01-17 MTM              6.67666905\n",
       "12  2018-01-18 MTM              6.67748983\n",
       "13  2018-01-19 MTM              5.85233315\n",
       "14  2018-01-22 MTM              6.98143774\n",
       "15  2018-01-23 MTM              8.38528090\n",
       "16  2018-01-24 MTM              7.73296260\n",
       "17  2018-01-25 MTM              7.96243761\n",
       "18  2018-01-26 MTM              9.16195286\n",
       "19  2018-01-29 MTM              8.90522445\n",
       "20  2018-01-30 MTM              8.21888776\n",
       "21  2018-01-31 MTM              9.14805837\n",
       "22  2018-02-01 MTM              7.77939503\n",
       "23  2018-02-02 MTM              5.54429039\n",
       "24  2018-02-05 MTM              1.63097549\n",
       "25  2018-02-06 MTM              4.88391438\n",
       "26  2018-02-07 MTM              2.84569576\n",
       "27  2018-02-08 MTM             -1.54452554\n",
       "28  2018-02-09 MTM              0.08588614\n",
       "29  2018-02-12 MTM              2.33363604\n",
       "30  2018-02-13 MTM              3.08015322\n",
       "⋮   ⋮          ⋮               ⋮          \n",
       "473 2018-11-15 high_tech_index  6.9982997 \n",
       "474 2018-11-16 high_tech_index  6.1667454 \n",
       "475 2018-11-19 high_tech_index  1.8383906 \n",
       "476 2018-11-20 high_tech_index  0.3032572 \n",
       "477 2018-11-21 high_tech_index  0.6242202 \n",
       "478 2018-11-23 high_tech_index -0.5906008 \n",
       "479 2018-11-26 high_tech_index  1.6533142 \n",
       "480 2018-11-27 high_tech_index  1.9473792 \n",
       "481 2018-11-28 high_tech_index  5.8594417 \n",
       "482 2018-11-29 high_tech_index  6.2299200 \n",
       "483 2018-11-30 high_tech_index  6.7279953 \n",
       "484 2018-12-03 high_tech_index  8.4429845 \n",
       "485 2018-12-04 high_tech_index  4.3847164 \n",
       "486 2018-12-06 high_tech_index  5.5217185 \n",
       "487 2018-12-07 high_tech_index  1.6179383 \n",
       "488 2018-12-10 high_tech_index  3.3847320 \n",
       "489 2018-12-11 high_tech_index  3.0334814 \n",
       "490 2018-12-12 high_tech_index  4.8281628 \n",
       "491 2018-12-13 high_tech_index  5.0837885 \n",
       "492 2018-12-14 high_tech_index  2.5773143 \n",
       "493 2018-12-17 high_tech_index  0.1311422 \n",
       "494 2018-12-18 high_tech_index  1.7808780 \n",
       "495 2018-12-19 high_tech_index -0.2275019 \n",
       "496 2018-12-20 high_tech_index -1.9364500 \n",
       "497 2018-12-21 high_tech_index -6.2432491 \n",
       "498 2018-12-24 high_tech_index -9.1435509 \n",
       "499 2018-12-26 high_tech_index -2.9031233 \n",
       "500 2018-12-27 high_tech_index -2.3806857 \n",
       "501 2018-12-28 high_tech_index -2.4411210 \n",
       "502 2018-12-31 high_tech_index -1.0365836 "
      ]
     },
     "metadata": {},
     "output_type": "display_data"
    }
   ],
   "source": [
    "# creates a dataframe with three columns: Date, MTM (Percentage Change of MTM) and high_tech_index (percentage change of high_tech_index)\n",
    "Q7=data.frame(Date=MTM_df$Date, MTM=MTM_df$MTM_pct_change, high_tech_index=close_columns$high_tech_index_pct_change)\n",
    "\n",
    "# this is like combining together all the columns except \"Date\"\n",
    "# we ended up with a Date Column, a variable column (elements are either MTM or high_tech_index) and a Value containing the adj.close of\n",
    "# either MTM or high_tech_index\n",
    "Q7_long = reshape2::melt(Q7, id.vars = \"Date\"); Q7_long"
   ]
  },
  {
   "cell_type": "code",
   "execution_count": 48,
   "id": "35921a71-96b8-4b17-9768-61e13e18cc57",
   "metadata": {
    "colab": {
     "base_uri": "https://localhost:8080/",
     "height": 143
    },
    "id": "35921a71-96b8-4b17-9768-61e13e18cc57",
    "outputId": "440f598d-0f80-4922-f94d-8e703c59d3cf",
    "tags": []
   },
   "outputs": [
    {
     "name": "stderr",
     "output_type": "stream",
     "text": [
      "Warning message:\n",
      "“\u001b[1m\u001b[22mUsing `size` aesthetic for lines was deprecated in ggplot2 3.4.0.\n",
      "\u001b[36mℹ\u001b[39m Please use `linewidth` instead.”\n"
     ]
    },
    {
     "data": {
      "image/png": "[encoded data removed]",
      "text/plain": [
       "plot without title"
      ]
     },
     "metadata": {
      "image/png": {
       "height": 420,
       "width": 420
      }
     },
     "output_type": "display_data"
    }
   ],
   "source": [
    "ggplot(Q7_long, aes(x=Date, y=value, group=variable, color=variable)) +\n",
    "    geom_line(size=1) +\n",
    "    xlab(\"Date\") + # x label\n",
    "    ylab(\"MTM & High Tech Index\") + # y label\n",
    "    ggtitle(\"The Percentage of MTM vs The Percentage of High Tech Index\") # chart title"
   ]
  },
  {
   "cell_type": "markdown",
   "id": "9870b561-ee4d-465e-8dae-1244fb94e336",
   "metadata": {
    "id": "9870b561-ee4d-465e-8dae-1244fb94e336"
   },
   "source": [
    "### 8"
   ]
  },
  {
   "cell_type": "markdown",
   "id": "cde77ba2-86c1-4da2-9982-d747e245ca2a",
   "metadata": {
    "id": "49ac0d44-5c07-442c-9275-caaff3a26099"
   },
   "source": [
    "Convert your MTM series from USD to JPY. Plot the two MTM curves. You will need to convert to daily percentage change too."
   ]
  },
  {
   "cell_type": "code",
   "execution_count": 49,
   "id": "a6f94c9e-ea93-4f78-b2f9-a5913d801a75",
   "metadata": {
    "colab": {
     "base_uri": "https://localhost:8080/",
     "height": 250
    },
    "id": "a6f94c9e-ea93-4f78-b2f9-a5913d801a75",
    "outputId": "bff1f409-e785-4120-9144-c533ed4ff5c1",
    "tags": []
   },
   "outputs": [
    {
     "data": {
      "text/html": [
       "<table class=\"dataframe\">\n",
       "<caption>A data.frame: 6 × 3</caption>\n",
       "<thead>\n",
       "\t<tr><th></th><th scope=col>Date</th><th scope=col>Close_JPY_X</th><th scope=col>Adj_Close_JPY_X</th></tr>\n",
       "\t<tr><th></th><th scope=col>&lt;chr&gt;</th><th scope=col>&lt;dbl&gt;</th><th scope=col>&lt;dbl&gt;</th></tr>\n",
       "</thead>\n",
       "<tbody>\n",
       "\t<tr><th scope=row>1</th><td>2018-01-01</td><td>112.666</td><td>112.666</td></tr>\n",
       "\t<tr><th scope=row>2</th><td>2018-01-02</td><td>112.770</td><td>112.770</td></tr>\n",
       "\t<tr><th scope=row>3</th><td>2018-01-03</td><td>112.244</td><td>112.244</td></tr>\n",
       "\t<tr><th scope=row>4</th><td>2018-01-04</td><td>112.607</td><td>112.607</td></tr>\n",
       "\t<tr><th scope=row>5</th><td>2018-01-05</td><td>112.783</td><td>112.783</td></tr>\n",
       "\t<tr><th scope=row>6</th><td>2018-01-08</td><td>113.154</td><td>113.154</td></tr>\n",
       "</tbody>\n",
       "</table>\n"
      ],
      "text/latex": [
       "A data.frame: 6 × 3\n",
       "\\begin{tabular}{r|lll}\n",
       "  & Date & Close\\_JPY\\_X & Adj\\_Close\\_JPY\\_X\\\\\n",
       "  & <chr> & <dbl> & <dbl>\\\\\n",
       "\\hline\n",
       "\t1 & 2018-01-01 & 112.666 & 112.666\\\\\n",
       "\t2 & 2018-01-02 & 112.770 & 112.770\\\\\n",
       "\t3 & 2018-01-03 & 112.244 & 112.244\\\\\n",
       "\t4 & 2018-01-04 & 112.607 & 112.607\\\\\n",
       "\t5 & 2018-01-05 & 112.783 & 112.783\\\\\n",
       "\t6 & 2018-01-08 & 113.154 & 113.154\\\\\n",
       "\\end{tabular}\n"
      ],
      "text/markdown": [
       "\n",
       "A data.frame: 6 × 3\n",
       "\n",
       "| <!--/--> | Date &lt;chr&gt; | Close_JPY_X &lt;dbl&gt; | Adj_Close_JPY_X &lt;dbl&gt; |\n",
       "|---|---|---|---|\n",
       "| 1 | 2018-01-01 | 112.666 | 112.666 |\n",
       "| 2 | 2018-01-02 | 112.770 | 112.770 |\n",
       "| 3 | 2018-01-03 | 112.244 | 112.244 |\n",
       "| 4 | 2018-01-04 | 112.607 | 112.607 |\n",
       "| 5 | 2018-01-05 | 112.783 | 112.783 |\n",
       "| 6 | 2018-01-08 | 113.154 | 113.154 |\n",
       "\n"
      ],
      "text/plain": [
       "  Date       Close_JPY_X Adj_Close_JPY_X\n",
       "1 2018-01-01 112.666     112.666        \n",
       "2 2018-01-02 112.770     112.770        \n",
       "3 2018-01-03 112.244     112.244        \n",
       "4 2018-01-04 112.607     112.607        \n",
       "5 2018-01-05 112.783     112.783        \n",
       "6 2018-01-08 113.154     113.154        "
      ]
     },
     "metadata": {},
     "output_type": "display_data"
    }
   ],
   "source": [
    "JPY_df = selectColumn(\"JPY_X\")\n",
    "JPY_df = subset(JPY_df, Date <= as.Date(\"2018-12-31\"))\n",
    "head(JPY_df)"
   ]
  },
  {
   "cell_type": "code",
   "execution_count": 50,
   "id": "b53300e6-340a-4c14-9293-2fdef3b19b3a",
   "metadata": {
    "colab": {
     "base_uri": "https://localhost:8080/",
     "height": 98
    },
    "id": "b53300e6-340a-4c14-9293-2fdef3b19b3a",
    "outputId": "8cd15e72-efd1-4edc-8d07-b3ab6f0644d3",
    "tags": []
   },
   "outputs": [
    {
     "data": {
      "text/html": [
       "<table class=\"dataframe\">\n",
       "<caption>A data.frame: 6 × 4</caption>\n",
       "<thead>\n",
       "\t<tr><th></th><th scope=col>Date</th><th scope=col>MTM</th><th scope=col>MTM_high</th><th scope=col>MTM_pct_change</th></tr>\n",
       "\t<tr><th></th><th scope=col>&lt;date&gt;</th><th scope=col>&lt;dbl&gt;</th><th scope=col>&lt;dbl&gt;</th><th scope=col>&lt;dbl&gt;</th></tr>\n",
       "</thead>\n",
       "<tbody>\n",
       "\t<tr><th scope=row>1</th><td>2018-01-02</td><td>5000000</td><td>5000000</td><td>0.000000</td></tr>\n",
       "\t<tr><th scope=row>2</th><td>2018-01-03</td><td>5061154</td><td>5061154</td><td>1.223084</td></tr>\n",
       "\t<tr><th scope=row>3</th><td>2018-01-04</td><td>5103664</td><td>5103664</td><td>2.073270</td></tr>\n",
       "\t<tr><th scope=row>4</th><td>2018-01-05</td><td>5164091</td><td>5164091</td><td>3.281811</td></tr>\n",
       "\t<tr><th scope=row>5</th><td>2018-01-08</td><td>5187051</td><td>5187051</td><td>3.741018</td></tr>\n",
       "\t<tr><th scope=row>6</th><td>2018-01-09</td><td>5192835</td><td>5192835</td><td>3.856703</td></tr>\n",
       "</tbody>\n",
       "</table>\n"
      ],
      "text/latex": [
       "A data.frame: 6 × 4\n",
       "\\begin{tabular}{r|llll}\n",
       "  & Date & MTM & MTM\\_high & MTM\\_pct\\_change\\\\\n",
       "  & <date> & <dbl> & <dbl> & <dbl>\\\\\n",
       "\\hline\n",
       "\t1 & 2018-01-02 & 5000000 & 5000000 & 0.000000\\\\\n",
       "\t2 & 2018-01-03 & 5061154 & 5061154 & 1.223084\\\\\n",
       "\t3 & 2018-01-04 & 5103664 & 5103664 & 2.073270\\\\\n",
       "\t4 & 2018-01-05 & 5164091 & 5164091 & 3.281811\\\\\n",
       "\t5 & 2018-01-08 & 5187051 & 5187051 & 3.741018\\\\\n",
       "\t6 & 2018-01-09 & 5192835 & 5192835 & 3.856703\\\\\n",
       "\\end{tabular}\n"
      ],
      "text/markdown": [
       "\n",
       "A data.frame: 6 × 4\n",
       "\n",
       "| <!--/--> | Date &lt;date&gt; | MTM &lt;dbl&gt; | MTM_high &lt;dbl&gt; | MTM_pct_change &lt;dbl&gt; |\n",
       "|---|---|---|---|---|\n",
       "| 1 | 2018-01-02 | 5000000 | 5000000 | 0.000000 |\n",
       "| 2 | 2018-01-03 | 5061154 | 5061154 | 1.223084 |\n",
       "| 3 | 2018-01-04 | 5103664 | 5103664 | 2.073270 |\n",
       "| 4 | 2018-01-05 | 5164091 | 5164091 | 3.281811 |\n",
       "| 5 | 2018-01-08 | 5187051 | 5187051 | 3.741018 |\n",
       "| 6 | 2018-01-09 | 5192835 | 5192835 | 3.856703 |\n",
       "\n"
      ],
      "text/plain": [
       "  Date       MTM     MTM_high MTM_pct_change\n",
       "1 2018-01-02 5000000 5000000  0.000000      \n",
       "2 2018-01-03 5061154 5061154  1.223084      \n",
       "3 2018-01-04 5103664 5103664  2.073270      \n",
       "4 2018-01-05 5164091 5164091  3.281811      \n",
       "5 2018-01-08 5187051 5187051  3.741018      \n",
       "6 2018-01-09 5192835 5192835  3.856703      "
      ]
     },
     "metadata": {},
     "output_type": "display_data"
    }
   ],
   "source": [
    "head(MTM_df)"
   ]
  },
  {
   "cell_type": "code",
   "execution_count": 51,
   "id": "e76c9612-46cc-49a3-ae99-fd38f7b665d5",
   "metadata": {
    "colab": {
     "base_uri": "https://localhost:8080/",
     "height": 410
    },
    "id": "e76c9612-46cc-49a3-ae99-fd38f7b665d5",
    "outputId": "4ecbca08-81da-4b1c-8750-1d1aa4247bd3",
    "tags": []
   },
   "outputs": [
    {
     "data": {
      "text/html": [
       "<table class=\"dataframe\">\n",
       "<caption>A data.frame: 6 × 13</caption>\n",
       "<thead>\n",
       "\t<tr><th></th><th scope=col>Date</th><th scope=col>Close_IBM</th><th scope=col>Close_MSFT</th><th scope=col>Close_GOOG</th><th scope=col>Close_AAPL</th><th scope=col>Close_AMZN</th><th scope=col>Close_META</th><th scope=col>Close_NFLX</th><th scope=col>Close_ORCL</th><th scope=col>Close_SAP</th><th scope=col>Close_TSLA</th><th scope=col>high_tech_index</th><th scope=col>high_tech_index_pct_change</th></tr>\n",
       "\t<tr><th></th><th scope=col>&lt;date&gt;</th><th scope=col>&lt;dbl&gt;</th><th scope=col>&lt;dbl&gt;</th><th scope=col>&lt;dbl&gt;</th><th scope=col>&lt;dbl&gt;</th><th scope=col>&lt;dbl&gt;</th><th scope=col>&lt;dbl&gt;</th><th scope=col>&lt;dbl&gt;</th><th scope=col>&lt;dbl&gt;</th><th scope=col>&lt;dbl&gt;</th><th scope=col>&lt;dbl&gt;</th><th scope=col>&lt;dbl&gt;</th><th scope=col>&lt;dbl&gt;</th></tr>\n",
       "</thead>\n",
       "<tbody>\n",
       "\t<tr><th scope=row>1</th><td>2018-01-02</td><td>147.4665</td><td>85.95</td><td>53.2500</td><td>43.0650</td><td>59.4505</td><td>181.42</td><td>201.07</td><td>46.63</td><td>112.39</td><td>21.36867</td><td>95.20607</td><td>0.000000</td></tr>\n",
       "\t<tr><th scope=row>2</th><td>2018-01-03</td><td>151.5201</td><td>86.35</td><td>54.1240</td><td>43.0575</td><td>60.2100</td><td>184.67</td><td>205.05</td><td>47.71</td><td>113.31</td><td>21.15000</td><td>96.71516</td><td>1.585074</td></tr>\n",
       "\t<tr><th scope=row>3</th><td>2018-01-04</td><td>154.5889</td><td>87.11</td><td>54.3200</td><td>43.2575</td><td>60.4795</td><td>184.33</td><td>205.63</td><td>48.18</td><td>115.05</td><td>20.97467</td><td>97.39206</td><td>2.296060</td></tr>\n",
       "\t<tr><th scope=row>4</th><td>2018-01-05</td><td>155.3442</td><td>88.19</td><td>55.1115</td><td>43.7500</td><td>61.4570</td><td>186.85</td><td>209.99</td><td>48.47</td><td>116.33</td><td>21.10533</td><td>98.65980</td><td>3.627637</td></tr>\n",
       "\t<tr><th scope=row>5</th><td>2018-01-08</td><td>156.2811</td><td>88.28</td><td>55.3470</td><td>43.5875</td><td>62.3435</td><td>188.28</td><td>212.05</td><td>48.98</td><td>114.80</td><td>22.42733</td><td>99.23764</td><td>4.234572</td></tr>\n",
       "\t<tr><th scope=row>6</th><td>2018-01-09</td><td>156.6252</td><td>88.22</td><td>55.3130</td><td>43.5825</td><td>62.6350</td><td>187.87</td><td>209.31</td><td>49.06</td><td>114.16</td><td>22.24600</td><td>98.90217</td><td>3.882214</td></tr>\n",
       "</tbody>\n",
       "</table>\n"
      ],
      "text/latex": [
       "A data.frame: 6 × 13\n",
       "\\begin{tabular}{r|lllllllllllll}\n",
       "  & Date & Close\\_IBM & Close\\_MSFT & Close\\_GOOG & Close\\_AAPL & Close\\_AMZN & Close\\_META & Close\\_NFLX & Close\\_ORCL & Close\\_SAP & Close\\_TSLA & high\\_tech\\_index & high\\_tech\\_index\\_pct\\_change\\\\\n",
       "  & <date> & <dbl> & <dbl> & <dbl> & <dbl> & <dbl> & <dbl> & <dbl> & <dbl> & <dbl> & <dbl> & <dbl> & <dbl>\\\\\n",
       "\\hline\n",
       "\t1 & 2018-01-02 & 147.4665 & 85.95 & 53.2500 & 43.0650 & 59.4505 & 181.42 & 201.07 & 46.63 & 112.39 & 21.36867 & 95.20607 & 0.000000\\\\\n",
       "\t2 & 2018-01-03 & 151.5201 & 86.35 & 54.1240 & 43.0575 & 60.2100 & 184.67 & 205.05 & 47.71 & 113.31 & 21.15000 & 96.71516 & 1.585074\\\\\n",
       "\t3 & 2018-01-04 & 154.5889 & 87.11 & 54.3200 & 43.2575 & 60.4795 & 184.33 & 205.63 & 48.18 & 115.05 & 20.97467 & 97.39206 & 2.296060\\\\\n",
       "\t4 & 2018-01-05 & 155.3442 & 88.19 & 55.1115 & 43.7500 & 61.4570 & 186.85 & 209.99 & 48.47 & 116.33 & 21.10533 & 98.65980 & 3.627637\\\\\n",
       "\t5 & 2018-01-08 & 156.2811 & 88.28 & 55.3470 & 43.5875 & 62.3435 & 188.28 & 212.05 & 48.98 & 114.80 & 22.42733 & 99.23764 & 4.234572\\\\\n",
       "\t6 & 2018-01-09 & 156.6252 & 88.22 & 55.3130 & 43.5825 & 62.6350 & 187.87 & 209.31 & 49.06 & 114.16 & 22.24600 & 98.90217 & 3.882214\\\\\n",
       "\\end{tabular}\n"
      ],
      "text/markdown": [
       "\n",
       "A data.frame: 6 × 13\n",
       "\n",
       "| <!--/--> | Date &lt;date&gt; | Close_IBM &lt;dbl&gt; | Close_MSFT &lt;dbl&gt; | Close_GOOG &lt;dbl&gt; | Close_AAPL &lt;dbl&gt; | Close_AMZN &lt;dbl&gt; | Close_META &lt;dbl&gt; | Close_NFLX &lt;dbl&gt; | Close_ORCL &lt;dbl&gt; | Close_SAP &lt;dbl&gt; | Close_TSLA &lt;dbl&gt; | high_tech_index &lt;dbl&gt; | high_tech_index_pct_change &lt;dbl&gt; |\n",
       "|---|---|---|---|---|---|---|---|---|---|---|---|---|---|\n",
       "| 1 | 2018-01-02 | 147.4665 | 85.95 | 53.2500 | 43.0650 | 59.4505 | 181.42 | 201.07 | 46.63 | 112.39 | 21.36867 | 95.20607 | 0.000000 |\n",
       "| 2 | 2018-01-03 | 151.5201 | 86.35 | 54.1240 | 43.0575 | 60.2100 | 184.67 | 205.05 | 47.71 | 113.31 | 21.15000 | 96.71516 | 1.585074 |\n",
       "| 3 | 2018-01-04 | 154.5889 | 87.11 | 54.3200 | 43.2575 | 60.4795 | 184.33 | 205.63 | 48.18 | 115.05 | 20.97467 | 97.39206 | 2.296060 |\n",
       "| 4 | 2018-01-05 | 155.3442 | 88.19 | 55.1115 | 43.7500 | 61.4570 | 186.85 | 209.99 | 48.47 | 116.33 | 21.10533 | 98.65980 | 3.627637 |\n",
       "| 5 | 2018-01-08 | 156.2811 | 88.28 | 55.3470 | 43.5875 | 62.3435 | 188.28 | 212.05 | 48.98 | 114.80 | 22.42733 | 99.23764 | 4.234572 |\n",
       "| 6 | 2018-01-09 | 156.6252 | 88.22 | 55.3130 | 43.5825 | 62.6350 | 187.87 | 209.31 | 49.06 | 114.16 | 22.24600 | 98.90217 | 3.882214 |\n",
       "\n"
      ],
      "text/plain": [
       "  Date       Close_IBM Close_MSFT Close_GOOG Close_AAPL Close_AMZN Close_META\n",
       "1 2018-01-02 147.4665  85.95      53.2500    43.0650    59.4505    181.42    \n",
       "2 2018-01-03 151.5201  86.35      54.1240    43.0575    60.2100    184.67    \n",
       "3 2018-01-04 154.5889  87.11      54.3200    43.2575    60.4795    184.33    \n",
       "4 2018-01-05 155.3442  88.19      55.1115    43.7500    61.4570    186.85    \n",
       "5 2018-01-08 156.2811  88.28      55.3470    43.5875    62.3435    188.28    \n",
       "6 2018-01-09 156.6252  88.22      55.3130    43.5825    62.6350    187.87    \n",
       "  Close_NFLX Close_ORCL Close_SAP Close_TSLA high_tech_index\n",
       "1 201.07     46.63      112.39    21.36867   95.20607       \n",
       "2 205.05     47.71      113.31    21.15000   96.71516       \n",
       "3 205.63     48.18      115.05    20.97467   97.39206       \n",
       "4 209.99     48.47      116.33    21.10533   98.65980       \n",
       "5 212.05     48.98      114.80    22.42733   99.23764       \n",
       "6 209.31     49.06      114.16    22.24600   98.90217       \n",
       "  high_tech_index_pct_change\n",
       "1 0.000000                  \n",
       "2 1.585074                  \n",
       "3 2.296060                  \n",
       "4 3.627637                  \n",
       "5 4.234572                  \n",
       "6 3.882214                  "
      ]
     },
     "metadata": {},
     "output_type": "display_data"
    }
   ],
   "source": [
    "head(close_columns)"
   ]
  },
  {
   "cell_type": "code",
   "execution_count": 52,
   "id": "0119c7f8-e2be-45ab-be53-4ff75d609063",
   "metadata": {
    "colab": {
     "base_uri": "https://localhost:8080/",
     "height": 143
    },
    "id": "0119c7f8-e2be-45ab-be53-4ff75d609063",
    "outputId": "bc6b78c7-3c15-47e9-fd33-5bca5dcf74db",
    "tags": []
   },
   "outputs": [
    {
     "data": {
      "text/html": [
       "<table class=\"dataframe\">\n",
       "<caption>A data.frame: 6 × 6</caption>\n",
       "<thead>\n",
       "\t<tr><th></th><th scope=col>Date</th><th scope=col>Close_JPY_X</th><th scope=col>Adj_Close_JPY_X</th><th scope=col>MTM</th><th scope=col>MTM_high</th><th scope=col>MTM_pct_change</th></tr>\n",
       "\t<tr><th></th><th scope=col>&lt;chr&gt;</th><th scope=col>&lt;dbl&gt;</th><th scope=col>&lt;dbl&gt;</th><th scope=col>&lt;dbl&gt;</th><th scope=col>&lt;dbl&gt;</th><th scope=col>&lt;dbl&gt;</th></tr>\n",
       "</thead>\n",
       "<tbody>\n",
       "\t<tr><th scope=row>1</th><td>2018-01-02</td><td>112.770</td><td>112.770</td><td>5000000</td><td>5000000</td><td>0.000000</td></tr>\n",
       "\t<tr><th scope=row>2</th><td>2018-01-03</td><td>112.244</td><td>112.244</td><td>5061154</td><td>5061154</td><td>1.223084</td></tr>\n",
       "\t<tr><th scope=row>3</th><td>2018-01-04</td><td>112.607</td><td>112.607</td><td>5103664</td><td>5103664</td><td>2.073270</td></tr>\n",
       "\t<tr><th scope=row>4</th><td>2018-01-05</td><td>112.783</td><td>112.783</td><td>5164091</td><td>5164091</td><td>3.281811</td></tr>\n",
       "\t<tr><th scope=row>5</th><td>2018-01-08</td><td>113.154</td><td>113.154</td><td>5187051</td><td>5187051</td><td>3.741018</td></tr>\n",
       "\t<tr><th scope=row>6</th><td>2018-01-09</td><td>113.141</td><td>113.141</td><td>5192835</td><td>5192835</td><td>3.856703</td></tr>\n",
       "</tbody>\n",
       "</table>\n"
      ],
      "text/latex": [
       "A data.frame: 6 × 6\n",
       "\\begin{tabular}{r|llllll}\n",
       "  & Date & Close\\_JPY\\_X & Adj\\_Close\\_JPY\\_X & MTM & MTM\\_high & MTM\\_pct\\_change\\\\\n",
       "  & <chr> & <dbl> & <dbl> & <dbl> & <dbl> & <dbl>\\\\\n",
       "\\hline\n",
       "\t1 & 2018-01-02 & 112.770 & 112.770 & 5000000 & 5000000 & 0.000000\\\\\n",
       "\t2 & 2018-01-03 & 112.244 & 112.244 & 5061154 & 5061154 & 1.223084\\\\\n",
       "\t3 & 2018-01-04 & 112.607 & 112.607 & 5103664 & 5103664 & 2.073270\\\\\n",
       "\t4 & 2018-01-05 & 112.783 & 112.783 & 5164091 & 5164091 & 3.281811\\\\\n",
       "\t5 & 2018-01-08 & 113.154 & 113.154 & 5187051 & 5187051 & 3.741018\\\\\n",
       "\t6 & 2018-01-09 & 113.141 & 113.141 & 5192835 & 5192835 & 3.856703\\\\\n",
       "\\end{tabular}\n"
      ],
      "text/markdown": [
       "\n",
       "A data.frame: 6 × 6\n",
       "\n",
       "| <!--/--> | Date &lt;chr&gt; | Close_JPY_X &lt;dbl&gt; | Adj_Close_JPY_X &lt;dbl&gt; | MTM &lt;dbl&gt; | MTM_high &lt;dbl&gt; | MTM_pct_change &lt;dbl&gt; |\n",
       "|---|---|---|---|---|---|---|\n",
       "| 1 | 2018-01-02 | 112.770 | 112.770 | 5000000 | 5000000 | 0.000000 |\n",
       "| 2 | 2018-01-03 | 112.244 | 112.244 | 5061154 | 5061154 | 1.223084 |\n",
       "| 3 | 2018-01-04 | 112.607 | 112.607 | 5103664 | 5103664 | 2.073270 |\n",
       "| 4 | 2018-01-05 | 112.783 | 112.783 | 5164091 | 5164091 | 3.281811 |\n",
       "| 5 | 2018-01-08 | 113.154 | 113.154 | 5187051 | 5187051 | 3.741018 |\n",
       "| 6 | 2018-01-09 | 113.141 | 113.141 | 5192835 | 5192835 | 3.856703 |\n",
       "\n"
      ],
      "text/plain": [
       "  Date       Close_JPY_X Adj_Close_JPY_X MTM     MTM_high MTM_pct_change\n",
       "1 2018-01-02 112.770     112.770         5000000 5000000  0.000000      \n",
       "2 2018-01-03 112.244     112.244         5061154 5061154  1.223084      \n",
       "3 2018-01-04 112.607     112.607         5103664 5103664  2.073270      \n",
       "4 2018-01-05 112.783     112.783         5164091 5164091  3.281811      \n",
       "5 2018-01-08 113.154     113.154         5187051 5187051  3.741018      \n",
       "6 2018-01-09 113.141     113.141         5192835 5192835  3.856703      "
      ]
     },
     "metadata": {},
     "output_type": "display_data"
    }
   ],
   "source": [
    "# since JPY_df and MTM_df have different Dates and different number of rows\n",
    "MTM_df = merge(JPY_df, MTM_df, by=\"Date\")\n",
    "head(MTM_df)"
   ]
  },
  {
   "cell_type": "code",
   "execution_count": 53,
   "id": "b2b00ff6-7e89-44b7-aed7-e6129fd794c5",
   "metadata": {
    "colab": {
     "base_uri": "https://localhost:8080/",
     "height": 98
    },
    "id": "b2b00ff6-7e89-44b7-aed7-e6129fd794c5",
    "outputId": "a9b9330e-4075-415d-f83b-60b884c17ac6",
    "tags": []
   },
   "outputs": [
    {
     "data": {
      "text/html": [
       "<table class=\"dataframe\">\n",
       "<caption>A data.frame: 6 × 7</caption>\n",
       "<thead>\n",
       "\t<tr><th></th><th scope=col>Date</th><th scope=col>Close_JPY_X</th><th scope=col>Adj_Close_JPY_X</th><th scope=col>MTM</th><th scope=col>MTM_high</th><th scope=col>MTM_pct_change</th><th scope=col>MTM_JPY</th></tr>\n",
       "\t<tr><th></th><th scope=col>&lt;chr&gt;</th><th scope=col>&lt;dbl&gt;</th><th scope=col>&lt;dbl&gt;</th><th scope=col>&lt;dbl&gt;</th><th scope=col>&lt;dbl&gt;</th><th scope=col>&lt;dbl&gt;</th><th scope=col>&lt;dbl&gt;</th></tr>\n",
       "</thead>\n",
       "<tbody>\n",
       "\t<tr><th scope=row>1</th><td>2018-01-02</td><td>112.770</td><td>112.770</td><td>5000000</td><td>5000000</td><td>0.000000</td><td>563849985</td></tr>\n",
       "\t<tr><th scope=row>2</th><td>2018-01-03</td><td>112.244</td><td>112.244</td><td>5061154</td><td>5061154</td><td>1.223084</td><td>568084205</td></tr>\n",
       "\t<tr><th scope=row>3</th><td>2018-01-04</td><td>112.607</td><td>112.607</td><td>5103664</td><td>5103664</td><td>2.073270</td><td>574708246</td></tr>\n",
       "\t<tr><th scope=row>4</th><td>2018-01-05</td><td>112.783</td><td>112.783</td><td>5164091</td><td>5164091</td><td>3.281811</td><td>582421611</td></tr>\n",
       "\t<tr><th scope=row>5</th><td>2018-01-08</td><td>113.154</td><td>113.154</td><td>5187051</td><td>5187051</td><td>3.741018</td><td>586935550</td></tr>\n",
       "\t<tr><th scope=row>6</th><td>2018-01-09</td><td>113.141</td><td>113.141</td><td>5192835</td><td>5192835</td><td>3.856703</td><td>587522554</td></tr>\n",
       "</tbody>\n",
       "</table>\n"
      ],
      "text/latex": [
       "A data.frame: 6 × 7\n",
       "\\begin{tabular}{r|lllllll}\n",
       "  & Date & Close\\_JPY\\_X & Adj\\_Close\\_JPY\\_X & MTM & MTM\\_high & MTM\\_pct\\_change & MTM\\_JPY\\\\\n",
       "  & <chr> & <dbl> & <dbl> & <dbl> & <dbl> & <dbl> & <dbl>\\\\\n",
       "\\hline\n",
       "\t1 & 2018-01-02 & 112.770 & 112.770 & 5000000 & 5000000 & 0.000000 & 563849985\\\\\n",
       "\t2 & 2018-01-03 & 112.244 & 112.244 & 5061154 & 5061154 & 1.223084 & 568084205\\\\\n",
       "\t3 & 2018-01-04 & 112.607 & 112.607 & 5103664 & 5103664 & 2.073270 & 574708246\\\\\n",
       "\t4 & 2018-01-05 & 112.783 & 112.783 & 5164091 & 5164091 & 3.281811 & 582421611\\\\\n",
       "\t5 & 2018-01-08 & 113.154 & 113.154 & 5187051 & 5187051 & 3.741018 & 586935550\\\\\n",
       "\t6 & 2018-01-09 & 113.141 & 113.141 & 5192835 & 5192835 & 3.856703 & 587522554\\\\\n",
       "\\end{tabular}\n"
      ],
      "text/markdown": [
       "\n",
       "A data.frame: 6 × 7\n",
       "\n",
       "| <!--/--> | Date &lt;chr&gt; | Close_JPY_X &lt;dbl&gt; | Adj_Close_JPY_X &lt;dbl&gt; | MTM &lt;dbl&gt; | MTM_high &lt;dbl&gt; | MTM_pct_change &lt;dbl&gt; | MTM_JPY &lt;dbl&gt; |\n",
       "|---|---|---|---|---|---|---|---|\n",
       "| 1 | 2018-01-02 | 112.770 | 112.770 | 5000000 | 5000000 | 0.000000 | 563849985 |\n",
       "| 2 | 2018-01-03 | 112.244 | 112.244 | 5061154 | 5061154 | 1.223084 | 568084205 |\n",
       "| 3 | 2018-01-04 | 112.607 | 112.607 | 5103664 | 5103664 | 2.073270 | 574708246 |\n",
       "| 4 | 2018-01-05 | 112.783 | 112.783 | 5164091 | 5164091 | 3.281811 | 582421611 |\n",
       "| 5 | 2018-01-08 | 113.154 | 113.154 | 5187051 | 5187051 | 3.741018 | 586935550 |\n",
       "| 6 | 2018-01-09 | 113.141 | 113.141 | 5192835 | 5192835 | 3.856703 | 587522554 |\n",
       "\n"
      ],
      "text/plain": [
       "  Date       Close_JPY_X Adj_Close_JPY_X MTM     MTM_high MTM_pct_change\n",
       "1 2018-01-02 112.770     112.770         5000000 5000000  0.000000      \n",
       "2 2018-01-03 112.244     112.244         5061154 5061154  1.223084      \n",
       "3 2018-01-04 112.607     112.607         5103664 5103664  2.073270      \n",
       "4 2018-01-05 112.783     112.783         5164091 5164091  3.281811      \n",
       "5 2018-01-08 113.154     113.154         5187051 5187051  3.741018      \n",
       "6 2018-01-09 113.141     113.141         5192835 5192835  3.856703      \n",
       "  MTM_JPY  \n",
       "1 563849985\n",
       "2 568084205\n",
       "3 574708246\n",
       "4 582421611\n",
       "5 586935550\n",
       "6 587522554"
      ]
     },
     "metadata": {},
     "output_type": "display_data"
    }
   ],
   "source": [
    "MTM_df$MTM_JPY = MTM_df$MTM * MTM_df$Close_JPY_X;\n",
    "head(MTM_df)"
   ]
  },
  {
   "cell_type": "code",
   "execution_count": 54,
   "id": "70ef2eb2-a3b3-4a8b-a9fd-2eb0b8251317",
   "metadata": {
    "colab": {
     "base_uri": "https://localhost:8080/",
     "height": 98
    },
    "id": "70ef2eb2-a3b3-4a8b-a9fd-2eb0b8251317",
    "outputId": "a15f81d1-640f-43c8-90e6-a99bb2bba319",
    "tags": []
   },
   "outputs": [
    {
     "data": {
      "text/html": [
       "<table class=\"dataframe\">\n",
       "<caption>A data.frame: 6 × 8</caption>\n",
       "<thead>\n",
       "\t<tr><th></th><th scope=col>Date</th><th scope=col>Close_JPY_X</th><th scope=col>Adj_Close_JPY_X</th><th scope=col>MTM</th><th scope=col>MTM_high</th><th scope=col>MTM_pct_change</th><th scope=col>MTM_JPY</th><th scope=col>MTM_JPY_pct_change</th></tr>\n",
       "\t<tr><th></th><th scope=col>&lt;chr&gt;</th><th scope=col>&lt;dbl&gt;</th><th scope=col>&lt;dbl&gt;</th><th scope=col>&lt;dbl&gt;</th><th scope=col>&lt;dbl&gt;</th><th scope=col>&lt;dbl&gt;</th><th scope=col>&lt;dbl&gt;</th><th scope=col>&lt;dbl&gt;</th></tr>\n",
       "</thead>\n",
       "<tbody>\n",
       "\t<tr><th scope=row>1</th><td>2018-01-02</td><td>112.770</td><td>112.770</td><td>5000000</td><td>5000000</td><td>0.000000</td><td>563849985</td><td>0.000000</td></tr>\n",
       "\t<tr><th scope=row>2</th><td>2018-01-03</td><td>112.244</td><td>112.244</td><td>5061154</td><td>5061154</td><td>1.223084</td><td>568084205</td><td>0.750948</td></tr>\n",
       "\t<tr><th scope=row>3</th><td>2018-01-04</td><td>112.607</td><td>112.607</td><td>5103664</td><td>5103664</td><td>2.073270</td><td>574708246</td><td>1.925736</td></tr>\n",
       "\t<tr><th scope=row>4</th><td>2018-01-05</td><td>112.783</td><td>112.783</td><td>5164091</td><td>5164091</td><td>3.281811</td><td>582421611</td><td>3.293718</td></tr>\n",
       "\t<tr><th scope=row>5</th><td>2018-01-08</td><td>113.154</td><td>113.154</td><td>5187051</td><td>5187051</td><td>3.741018</td><td>586935550</td><td>4.094274</td></tr>\n",
       "\t<tr><th scope=row>6</th><td>2018-01-09</td><td>113.141</td><td>113.141</td><td>5192835</td><td>5192835</td><td>3.856703</td><td>587522554</td><td>4.198381</td></tr>\n",
       "</tbody>\n",
       "</table>\n"
      ],
      "text/latex": [
       "A data.frame: 6 × 8\n",
       "\\begin{tabular}{r|llllllll}\n",
       "  & Date & Close\\_JPY\\_X & Adj\\_Close\\_JPY\\_X & MTM & MTM\\_high & MTM\\_pct\\_change & MTM\\_JPY & MTM\\_JPY\\_pct\\_change\\\\\n",
       "  & <chr> & <dbl> & <dbl> & <dbl> & <dbl> & <dbl> & <dbl> & <dbl>\\\\\n",
       "\\hline\n",
       "\t1 & 2018-01-02 & 112.770 & 112.770 & 5000000 & 5000000 & 0.000000 & 563849985 & 0.000000\\\\\n",
       "\t2 & 2018-01-03 & 112.244 & 112.244 & 5061154 & 5061154 & 1.223084 & 568084205 & 0.750948\\\\\n",
       "\t3 & 2018-01-04 & 112.607 & 112.607 & 5103664 & 5103664 & 2.073270 & 574708246 & 1.925736\\\\\n",
       "\t4 & 2018-01-05 & 112.783 & 112.783 & 5164091 & 5164091 & 3.281811 & 582421611 & 3.293718\\\\\n",
       "\t5 & 2018-01-08 & 113.154 & 113.154 & 5187051 & 5187051 & 3.741018 & 586935550 & 4.094274\\\\\n",
       "\t6 & 2018-01-09 & 113.141 & 113.141 & 5192835 & 5192835 & 3.856703 & 587522554 & 4.198381\\\\\n",
       "\\end{tabular}\n"
      ],
      "text/markdown": [
       "\n",
       "A data.frame: 6 × 8\n",
       "\n",
       "| <!--/--> | Date &lt;chr&gt; | Close_JPY_X &lt;dbl&gt; | Adj_Close_JPY_X &lt;dbl&gt; | MTM &lt;dbl&gt; | MTM_high &lt;dbl&gt; | MTM_pct_change &lt;dbl&gt; | MTM_JPY &lt;dbl&gt; | MTM_JPY_pct_change &lt;dbl&gt; |\n",
       "|---|---|---|---|---|---|---|---|---|\n",
       "| 1 | 2018-01-02 | 112.770 | 112.770 | 5000000 | 5000000 | 0.000000 | 563849985 | 0.000000 |\n",
       "| 2 | 2018-01-03 | 112.244 | 112.244 | 5061154 | 5061154 | 1.223084 | 568084205 | 0.750948 |\n",
       "| 3 | 2018-01-04 | 112.607 | 112.607 | 5103664 | 5103664 | 2.073270 | 574708246 | 1.925736 |\n",
       "| 4 | 2018-01-05 | 112.783 | 112.783 | 5164091 | 5164091 | 3.281811 | 582421611 | 3.293718 |\n",
       "| 5 | 2018-01-08 | 113.154 | 113.154 | 5187051 | 5187051 | 3.741018 | 586935550 | 4.094274 |\n",
       "| 6 | 2018-01-09 | 113.141 | 113.141 | 5192835 | 5192835 | 3.856703 | 587522554 | 4.198381 |\n",
       "\n"
      ],
      "text/plain": [
       "  Date       Close_JPY_X Adj_Close_JPY_X MTM     MTM_high MTM_pct_change\n",
       "1 2018-01-02 112.770     112.770         5000000 5000000  0.000000      \n",
       "2 2018-01-03 112.244     112.244         5061154 5061154  1.223084      \n",
       "3 2018-01-04 112.607     112.607         5103664 5103664  2.073270      \n",
       "4 2018-01-05 112.783     112.783         5164091 5164091  3.281811      \n",
       "5 2018-01-08 113.154     113.154         5187051 5187051  3.741018      \n",
       "6 2018-01-09 113.141     113.141         5192835 5192835  3.856703      \n",
       "  MTM_JPY   MTM_JPY_pct_change\n",
       "1 563849985 0.000000          \n",
       "2 568084205 0.750948          \n",
       "3 574708246 1.925736          \n",
       "4 582421611 3.293718          \n",
       "5 586935550 4.094274          \n",
       "6 587522554 4.198381          "
      ]
     },
     "metadata": {},
     "output_type": "display_data"
    }
   ],
   "source": [
    "MTM_JPY_pct_change = ((MTM_df$MTM_JPY - MTM_df$MTM_JPY[1]) / MTM_df$MTM_JPY[1]) * 100\n",
    "\n",
    "MTM_df$MTM_JPY_pct_change = MTM_JPY_pct_change\n",
    "head(MTM_df)"
   ]
  },
  {
   "cell_type": "code",
   "execution_count": 55,
   "id": "283755b7-9a2d-4d56-8c2f-fc4b25120d01",
   "metadata": {
    "colab": {
     "base_uri": "https://localhost:8080/",
     "height": 98
    },
    "id": "283755b7-9a2d-4d56-8c2f-fc4b25120d01",
    "outputId": "a1e44fee-5d11-4d90-893b-fbc9760ee986",
    "tags": []
   },
   "outputs": [
    {
     "data": {
      "text/html": [
       "<table class=\"dataframe\">\n",
       "<caption>A data.frame: 42 × 3</caption>\n",
       "<thead>\n",
       "\t<tr><th scope=col>Date</th><th scope=col>variable</th><th scope=col>value</th></tr>\n",
       "\t<tr><th scope=col>&lt;chr&gt;</th><th scope=col>&lt;fct&gt;</th><th scope=col>&lt;dbl&gt;</th></tr>\n",
       "</thead>\n",
       "<tbody>\n",
       "\t<tr><td>2018-01-02</td><td>US_MTM </td><td>0.000000</td></tr>\n",
       "\t<tr><td>2018-01-03</td><td>US_MTM </td><td>1.223084</td></tr>\n",
       "\t<tr><td>2018-01-04</td><td>US_MTM </td><td>2.073270</td></tr>\n",
       "\t<tr><td>2018-01-05</td><td>US_MTM </td><td>3.281811</td></tr>\n",
       "\t<tr><td>2018-01-08</td><td>US_MTM </td><td>3.741018</td></tr>\n",
       "\t<tr><td>2018-01-09</td><td>US_MTM </td><td>3.856703</td></tr>\n",
       "\t<tr><td>2018-01-10</td><td>US_MTM </td><td>3.763239</td></tr>\n",
       "\t<tr><td>2018-01-11</td><td>US_MTM </td><td>4.371843</td></tr>\n",
       "\t<tr><td>2018-01-12</td><td>US_MTM </td><td>5.592287</td></tr>\n",
       "\t<tr><td>2018-01-16</td><td>US_MTM </td><td>5.273895</td></tr>\n",
       "\t<tr><td>2018-01-17</td><td>US_MTM </td><td>6.676669</td></tr>\n",
       "\t<tr><td>2018-01-18</td><td>US_MTM </td><td>6.677490</td></tr>\n",
       "\t<tr><td>2018-01-19</td><td>US_MTM </td><td>5.852333</td></tr>\n",
       "\t<tr><td>2018-01-22</td><td>US_MTM </td><td>6.981438</td></tr>\n",
       "\t<tr><td>2018-01-23</td><td>US_MTM </td><td>8.385281</td></tr>\n",
       "\t<tr><td>2018-01-24</td><td>US_MTM </td><td>7.732963</td></tr>\n",
       "\t<tr><td>2018-01-25</td><td>US_MTM </td><td>7.962438</td></tr>\n",
       "\t<tr><td>2018-01-26</td><td>US_MTM </td><td>9.161953</td></tr>\n",
       "\t<tr><td>2018-01-29</td><td>US_MTM </td><td>8.905224</td></tr>\n",
       "\t<tr><td>2018-01-30</td><td>US_MTM </td><td>8.218888</td></tr>\n",
       "\t<tr><td>2018-01-31</td><td>US_MTM </td><td>9.148058</td></tr>\n",
       "\t<tr><td>2018-01-02</td><td>JPY_MTM</td><td>0.000000</td></tr>\n",
       "\t<tr><td>2018-01-03</td><td>JPY_MTM</td><td>0.750948</td></tr>\n",
       "\t<tr><td>2018-01-04</td><td>JPY_MTM</td><td>1.925736</td></tr>\n",
       "\t<tr><td>2018-01-05</td><td>JPY_MTM</td><td>3.293718</td></tr>\n",
       "\t<tr><td>2018-01-08</td><td>JPY_MTM</td><td>4.094274</td></tr>\n",
       "\t<tr><td>2018-01-09</td><td>JPY_MTM</td><td>4.198381</td></tr>\n",
       "\t<tr><td>2018-01-10</td><td>JPY_MTM</td><td>3.749437</td></tr>\n",
       "\t<tr><td>2018-01-11</td><td>JPY_MTM</td><td>3.144595</td></tr>\n",
       "\t<tr><td>2018-01-12</td><td>JPY_MTM</td><td>4.210235</td></tr>\n",
       "\t<tr><td>2018-01-16</td><td>JPY_MTM</td><td>3.230407</td></tr>\n",
       "\t<tr><td>2018-01-17</td><td>JPY_MTM</td><td>4.423379</td></tr>\n",
       "\t<tr><td>2018-01-18</td><td>JPY_MTM</td><td>5.358804</td></tr>\n",
       "\t<tr><td>2018-01-19</td><td>JPY_MTM</td><td>4.215319</td></tr>\n",
       "\t<tr><td>2018-01-22</td><td>JPY_MTM</td><td>5.002514</td></tr>\n",
       "\t<tr><td>2018-01-23</td><td>JPY_MTM</td><td>6.651430</td></tr>\n",
       "\t<tr><td>2018-01-24</td><td>JPY_MTM</td><td>5.188914</td></tr>\n",
       "\t<tr><td>2018-01-25</td><td>JPY_MTM</td><td>4.665260</td></tr>\n",
       "\t<tr><td>2018-01-26</td><td>JPY_MTM</td><td>6.194054</td></tr>\n",
       "\t<tr><td>2018-01-29</td><td>JPY_MTM</td><td>4.915802</td></tr>\n",
       "\t<tr><td>2018-01-30</td><td>JPY_MTM</td><td>4.530028</td></tr>\n",
       "\t<tr><td>2018-01-31</td><td>JPY_MTM</td><td>5.239755</td></tr>\n",
       "</tbody>\n",
       "</table>\n"
      ],
      "text/latex": [
       "A data.frame: 42 × 3\n",
       "\\begin{tabular}{lll}\n",
       " Date & variable & value\\\\\n",
       " <chr> & <fct> & <dbl>\\\\\n",
       "\\hline\n",
       "\t 2018-01-02 & US\\_MTM  & 0.000000\\\\\n",
       "\t 2018-01-03 & US\\_MTM  & 1.223084\\\\\n",
       "\t 2018-01-04 & US\\_MTM  & 2.073270\\\\\n",
       "\t 2018-01-05 & US\\_MTM  & 3.281811\\\\\n",
       "\t 2018-01-08 & US\\_MTM  & 3.741018\\\\\n",
       "\t 2018-01-09 & US\\_MTM  & 3.856703\\\\\n",
       "\t 2018-01-10 & US\\_MTM  & 3.763239\\\\\n",
       "\t 2018-01-11 & US\\_MTM  & 4.371843\\\\\n",
       "\t 2018-01-12 & US\\_MTM  & 5.592287\\\\\n",
       "\t 2018-01-16 & US\\_MTM  & 5.273895\\\\\n",
       "\t 2018-01-17 & US\\_MTM  & 6.676669\\\\\n",
       "\t 2018-01-18 & US\\_MTM  & 6.677490\\\\\n",
       "\t 2018-01-19 & US\\_MTM  & 5.852333\\\\\n",
       "\t 2018-01-22 & US\\_MTM  & 6.981438\\\\\n",
       "\t 2018-01-23 & US\\_MTM  & 8.385281\\\\\n",
       "\t 2018-01-24 & US\\_MTM  & 7.732963\\\\\n",
       "\t 2018-01-25 & US\\_MTM  & 7.962438\\\\\n",
       "\t 2018-01-26 & US\\_MTM  & 9.161953\\\\\n",
       "\t 2018-01-29 & US\\_MTM  & 8.905224\\\\\n",
       "\t 2018-01-30 & US\\_MTM  & 8.218888\\\\\n",
       "\t 2018-01-31 & US\\_MTM  & 9.148058\\\\\n",
       "\t 2018-01-02 & JPY\\_MTM & 0.000000\\\\\n",
       "\t 2018-01-03 & JPY\\_MTM & 0.750948\\\\\n",
       "\t 2018-01-04 & JPY\\_MTM & 1.925736\\\\\n",
       "\t 2018-01-05 & JPY\\_MTM & 3.293718\\\\\n",
       "\t 2018-01-08 & JPY\\_MTM & 4.094274\\\\\n",
       "\t 2018-01-09 & JPY\\_MTM & 4.198381\\\\\n",
       "\t 2018-01-10 & JPY\\_MTM & 3.749437\\\\\n",
       "\t 2018-01-11 & JPY\\_MTM & 3.144595\\\\\n",
       "\t 2018-01-12 & JPY\\_MTM & 4.210235\\\\\n",
       "\t 2018-01-16 & JPY\\_MTM & 3.230407\\\\\n",
       "\t 2018-01-17 & JPY\\_MTM & 4.423379\\\\\n",
       "\t 2018-01-18 & JPY\\_MTM & 5.358804\\\\\n",
       "\t 2018-01-19 & JPY\\_MTM & 4.215319\\\\\n",
       "\t 2018-01-22 & JPY\\_MTM & 5.002514\\\\\n",
       "\t 2018-01-23 & JPY\\_MTM & 6.651430\\\\\n",
       "\t 2018-01-24 & JPY\\_MTM & 5.188914\\\\\n",
       "\t 2018-01-25 & JPY\\_MTM & 4.665260\\\\\n",
       "\t 2018-01-26 & JPY\\_MTM & 6.194054\\\\\n",
       "\t 2018-01-29 & JPY\\_MTM & 4.915802\\\\\n",
       "\t 2018-01-30 & JPY\\_MTM & 4.530028\\\\\n",
       "\t 2018-01-31 & JPY\\_MTM & 5.239755\\\\\n",
       "\\end{tabular}\n"
      ],
      "text/markdown": [
       "\n",
       "A data.frame: 42 × 3\n",
       "\n",
       "| Date &lt;chr&gt; | variable &lt;fct&gt; | value &lt;dbl&gt; |\n",
       "|---|---|---|\n",
       "| 2018-01-02 | US_MTM  | 0.000000 |\n",
       "| 2018-01-03 | US_MTM  | 1.223084 |\n",
       "| 2018-01-04 | US_MTM  | 2.073270 |\n",
       "| 2018-01-05 | US_MTM  | 3.281811 |\n",
       "| 2018-01-08 | US_MTM  | 3.741018 |\n",
       "| 2018-01-09 | US_MTM  | 3.856703 |\n",
       "| 2018-01-10 | US_MTM  | 3.763239 |\n",
       "| 2018-01-11 | US_MTM  | 4.371843 |\n",
       "| 2018-01-12 | US_MTM  | 5.592287 |\n",
       "| 2018-01-16 | US_MTM  | 5.273895 |\n",
       "| 2018-01-17 | US_MTM  | 6.676669 |\n",
       "| 2018-01-18 | US_MTM  | 6.677490 |\n",
       "| 2018-01-19 | US_MTM  | 5.852333 |\n",
       "| 2018-01-22 | US_MTM  | 6.981438 |\n",
       "| 2018-01-23 | US_MTM  | 8.385281 |\n",
       "| 2018-01-24 | US_MTM  | 7.732963 |\n",
       "| 2018-01-25 | US_MTM  | 7.962438 |\n",
       "| 2018-01-26 | US_MTM  | 9.161953 |\n",
       "| 2018-01-29 | US_MTM  | 8.905224 |\n",
       "| 2018-01-30 | US_MTM  | 8.218888 |\n",
       "| 2018-01-31 | US_MTM  | 9.148058 |\n",
       "| 2018-01-02 | JPY_MTM | 0.000000 |\n",
       "| 2018-01-03 | JPY_MTM | 0.750948 |\n",
       "| 2018-01-04 | JPY_MTM | 1.925736 |\n",
       "| 2018-01-05 | JPY_MTM | 3.293718 |\n",
       "| 2018-01-08 | JPY_MTM | 4.094274 |\n",
       "| 2018-01-09 | JPY_MTM | 4.198381 |\n",
       "| 2018-01-10 | JPY_MTM | 3.749437 |\n",
       "| 2018-01-11 | JPY_MTM | 3.144595 |\n",
       "| 2018-01-12 | JPY_MTM | 4.210235 |\n",
       "| 2018-01-16 | JPY_MTM | 3.230407 |\n",
       "| 2018-01-17 | JPY_MTM | 4.423379 |\n",
       "| 2018-01-18 | JPY_MTM | 5.358804 |\n",
       "| 2018-01-19 | JPY_MTM | 4.215319 |\n",
       "| 2018-01-22 | JPY_MTM | 5.002514 |\n",
       "| 2018-01-23 | JPY_MTM | 6.651430 |\n",
       "| 2018-01-24 | JPY_MTM | 5.188914 |\n",
       "| 2018-01-25 | JPY_MTM | 4.665260 |\n",
       "| 2018-01-26 | JPY_MTM | 6.194054 |\n",
       "| 2018-01-29 | JPY_MTM | 4.915802 |\n",
       "| 2018-01-30 | JPY_MTM | 4.530028 |\n",
       "| 2018-01-31 | JPY_MTM | 5.239755 |\n",
       "\n"
      ],
      "text/plain": [
       "   Date       variable value   \n",
       "1  2018-01-02 US_MTM   0.000000\n",
       "2  2018-01-03 US_MTM   1.223084\n",
       "3  2018-01-04 US_MTM   2.073270\n",
       "4  2018-01-05 US_MTM   3.281811\n",
       "5  2018-01-08 US_MTM   3.741018\n",
       "6  2018-01-09 US_MTM   3.856703\n",
       "7  2018-01-10 US_MTM   3.763239\n",
       "8  2018-01-11 US_MTM   4.371843\n",
       "9  2018-01-12 US_MTM   5.592287\n",
       "10 2018-01-16 US_MTM   5.273895\n",
       "11 2018-01-17 US_MTM   6.676669\n",
       "12 2018-01-18 US_MTM   6.677490\n",
       "13 2018-01-19 US_MTM   5.852333\n",
       "14 2018-01-22 US_MTM   6.981438\n",
       "15 2018-01-23 US_MTM   8.385281\n",
       "16 2018-01-24 US_MTM   7.732963\n",
       "17 2018-01-25 US_MTM   7.962438\n",
       "18 2018-01-26 US_MTM   9.161953\n",
       "19 2018-01-29 US_MTM   8.905224\n",
       "20 2018-01-30 US_MTM   8.218888\n",
       "21 2018-01-31 US_MTM   9.148058\n",
       "22 2018-01-02 JPY_MTM  0.000000\n",
       "23 2018-01-03 JPY_MTM  0.750948\n",
       "24 2018-01-04 JPY_MTM  1.925736\n",
       "25 2018-01-05 JPY_MTM  3.293718\n",
       "26 2018-01-08 JPY_MTM  4.094274\n",
       "27 2018-01-09 JPY_MTM  4.198381\n",
       "28 2018-01-10 JPY_MTM  3.749437\n",
       "29 2018-01-11 JPY_MTM  3.144595\n",
       "30 2018-01-12 JPY_MTM  4.210235\n",
       "31 2018-01-16 JPY_MTM  3.230407\n",
       "32 2018-01-17 JPY_MTM  4.423379\n",
       "33 2018-01-18 JPY_MTM  5.358804\n",
       "34 2018-01-19 JPY_MTM  4.215319\n",
       "35 2018-01-22 JPY_MTM  5.002514\n",
       "36 2018-01-23 JPY_MTM  6.651430\n",
       "37 2018-01-24 JPY_MTM  5.188914\n",
       "38 2018-01-25 JPY_MTM  4.665260\n",
       "39 2018-01-26 JPY_MTM  6.194054\n",
       "40 2018-01-29 JPY_MTM  4.915802\n",
       "41 2018-01-30 JPY_MTM  4.530028\n",
       "42 2018-01-31 JPY_MTM  5.239755"
      ]
     },
     "metadata": {},
     "output_type": "display_data"
    }
   ],
   "source": [
    "# creates a dataframe with three columns: Date, MTM (Percentage Change of MTM) and high_tech_index (percentage change of high_tech_index)\n",
    "Q8=data.frame(Date=MTM_df$Date, US_MTM=MTM_df$MTM_pct_change, JPY_MTM=MTM_df$MTM_JPY_pct_change)\n",
    "\n",
    "# this is like combining together all the columns except \"Date\"\n",
    "# we ended up with a Date Column, a variable column (elements are either MTM or high_tech_index) and a Value containing the adj.close of\n",
    "# either MTM or high_tech_index\n",
    "Q8_long = reshape2::melt(Q8, id.vars = \"Date\"); Q8_long"
   ]
  },
  {
   "cell_type": "code",
   "execution_count": 56,
   "id": "06cb8343-2cb8-4bbc-bd94-a32b9dc22ed8",
   "metadata": {
    "colab": {
     "base_uri": "https://localhost:8080/",
     "height": 491
    },
    "id": "06cb8343-2cb8-4bbc-bd94-a32b9dc22ed8",
    "outputId": "4ee1c4a4-6d23-4a3e-ce29-4eb0b9c5eb6c",
    "tags": []
   },
   "outputs": [
    {
     "data": {
      "image/png": "[encoded data removed]",
      "text/plain": [
       "plot without title"
      ]
     },
     "metadata": {
      "image/png": {
       "height": 420,
       "width": 420
      }
     },
     "output_type": "display_data"
    }
   ],
   "source": [
    "ggplot(Q8_long, aes(x=Date, y=value, group=variable, color=variable)) +\n",
    "    geom_line(size=1) +\n",
    "    xlab(\"Date\") + # x label\n",
    "    ylab(\"US MTM & JPY MTM \") + # y label\n",
    "    ggtitle(\"The Percentage of US MTM vs The Percentage of JPY MTM\") # chart title"
   ]
  },
  {
   "cell_type": "code",
   "execution_count": null,
   "id": "c175591f-d20e-4db3-a769-823dcb97b724",
   "metadata": {
    "id": "c175591f-d20e-4db3-a769-823dcb97b724"
   },
   "outputs": [],
   "source": []
  },
  {
   "cell_type": "markdown",
   "id": "31a9c5ac-f2b8-408c-ab13-c7c2c4b5bbd0",
   "metadata": {
    "id": "31a9c5ac-f2b8-408c-ab13-c7c2c4b5bbd0"
   },
   "source": [
    "### 9"
   ]
  },
  {
   "cell_type": "markdown",
   "id": "d0c74608-0c8f-4422-8872-e2844a889ac4",
   "metadata": {
    "id": "80f6876f-b164-4840-a1d9-a840cbb51909"
   },
   "source": [
    "The above two strategies both rebalance every 5 days. Try to change the days interval and find the optimal days interval that\n",
    "maximizes the MTM on 12/31/2018."
   ]
  },
  {
   "cell_type": "code",
   "execution_count": 57,
   "id": "69a385af-ecaa-4067-a838-822ab67b9196",
   "metadata": {
    "colab": {
     "base_uri": "https://localhost:8080/",
     "height": 34
    },
    "id": "69a385af-ecaa-4067-a838-822ab67b9196",
    "outputId": "e98c94b4-707b-4dd1-d932-f687ea98c59f",
    "tags": []
   },
   "outputs": [
    {
     "data": {
      "text/html": [
       "<style>\n",
       ".list-inline {list-style: none; margin:0; padding: 0}\n",
       ".list-inline>li {display: inline-block}\n",
       ".list-inline>li:not(:last-child)::after {content: \"\\00b7\"; padding: 0 .5ex}\n",
       "</style>\n",
       "<ol class=list-inline><li><time datetime=\"2018-12-28\">2018-12-28</time></li><li><time datetime=\"2018-12-29\">2018-12-29</time></li><li><time datetime=\"2018-12-30\">2018-12-30</time></li><li><time datetime=\"2018-12-31\">2018-12-31</time></li><li><time datetime=\"2019-01-01\">2019-01-01</time></li><li><time datetime=\"2019-01-02\">2019-01-02</time></li><li><time datetime=\"2019-01-03\">2019-01-03</time></li></ol>\n"
      ],
      "text/latex": [
       "\\begin{enumerate*}\n",
       "\\item 2018-12-28\n",
       "\\item 2018-12-29\n",
       "\\item 2018-12-30\n",
       "\\item 2018-12-31\n",
       "\\item 2019-01-01\n",
       "\\item 2019-01-02\n",
       "\\item 2019-01-03\n",
       "\\end{enumerate*}\n"
      ],
      "text/markdown": [
       "1. 2018-12-28\n",
       "2. 2018-12-29\n",
       "3. 2018-12-30\n",
       "4. 2018-12-31\n",
       "5. 2019-01-01\n",
       "6. 2019-01-02\n",
       "7. 2019-01-03\n",
       "\n",
       "\n"
      ],
      "text/plain": [
       "[1] \"2018-12-28\" \"2018-12-29\" \"2018-12-30\" \"2018-12-31\" \"2019-01-01\"\n",
       "[6] \"2019-01-02\" \"2019-01-03\""
      ]
     },
     "metadata": {},
     "output_type": "display_data"
    }
   ],
   "source": [
    "# Generates the dates of the next 5 buisness dates\n",
    "next_5_days = function(input_date, num=5) {\n",
    "    input_date = as.Date(input_date, format=\"%Y-%m-%d\")\n",
    "\n",
    "    # Start with the initial 5 days\n",
    "    dates = seq(from = input_date, by = \"days\", length.out = 6)\n",
    "\n",
    "    # last date:\n",
    "    last_date = tail(df$Date, n=1)\n",
    "\n",
    "    # While the intersection of the dates and the dataframe's Date column\n",
    "    # has less than 5 dates, this new version keeps adding days\n",
    "    while(length(intersect(dates, df$Date)) <= num) {\n",
    "        dates = seq(from = input_date, by = \"days\", length.out = length(dates) + 1)\n",
    "        if (dates[length(dates)] >= last_date) {return(dates)}\n",
    "    }\n",
    "\n",
    "    return(dates)\n",
    "}\n",
    "\n",
    "next_5_days(\"2018-12-28\")"
   ]
  },
  {
   "cell_type": "code",
   "execution_count": 58,
   "id": "7b187dc8-0d32-4fca-bc89-4a2b3075e9cb",
   "metadata": {
    "id": "7b187dc8-0d32-4fca-bc89-4a2b3075e9cb",
    "tags": []
   },
   "outputs": [],
   "source": [
    "portfolioMTM = function(stocks = STOCKS,\n",
    "                       initial = INITIAL,\n",
    "                       date = DATE)\n",
    "{\n",
    "    # Get the data for the selected stocks on the purchase date\n",
    "    purchase_data = df[df$Date == date, ]\n",
    "\n",
    "    invest_per_stock = initial / 5\n",
    "\n",
    "    portfolio = data.frame(\n",
    "        Stock = character(0),\n",
    "        Shares = numeric(0),\n",
    "        Cash_Left = numeric(0),\n",
    "        Value = numeric(0)\n",
    "    )\n",
    "\n",
    "    for (brand in stocks) {\n",
    "        close_price = purchase_data[[paste(\"Close\", brand, sep=\"_\")]]\n",
    "        shares_bought = floor(invest_per_stock / close_price)\n",
    "        cash_left = invest_per_stock - (shares_bought * close_price)\n",
    "\n",
    "        portfolio = rbind(\n",
    "        portfolio,\n",
    "        data.frame(\n",
    "              Stock = brand,\n",
    "              Shares = shares_bought,\n",
    "              Cash_Left = cash_left,\n",
    "              Value = shares_bought * close_price\n",
    "            )\n",
    "        )\n",
    "    }\n",
    "\n",
    "    MTM = sum(portfolio$Cash_Left) + sum(portfolio$Value)\n",
    "    # note: I should add the following info to the next two lines to the dataset. Will do this later if I have time\n",
    "    return(portfolio)\n",
    "}"
   ]
  },
  {
   "cell_type": "code",
   "execution_count": 59,
   "id": "6ea9457b-86a3-41a0-9459-72630acde9b9",
   "metadata": {
    "colab": {
     "base_uri": "https://localhost:8080/",
     "height": 34
    },
    "id": "6ea9457b-86a3-41a0-9459-72630acde9b9",
    "outputId": "8d1af57b-fe09-4a38-dc17-525ccf296898",
    "tags": []
   },
   "outputs": [
    {
     "data": {
      "text/html": [
       "<style>\n",
       ".list-inline {list-style: none; margin:0; padding: 0}\n",
       ".list-inline>li {display: inline-block}\n",
       ".list-inline>li:not(:last-child)::after {content: \"\\00b7\"; padding: 0 .5ex}\n",
       "</style>\n",
       "<ol class=list-inline><li>'2018-12-31'</li><li>'5069966.537313'</li></ol>\n"
      ],
      "text/latex": [
       "\\begin{enumerate*}\n",
       "\\item '2018-12-31'\n",
       "\\item '5069966.537313'\n",
       "\\end{enumerate*}\n"
      ],
      "text/markdown": [
       "1. '2018-12-31'\n",
       "2. '5069966.537313'\n",
       "\n",
       "\n"
      ],
      "text/plain": [
       "[1] \"2018-12-31\"     \"5069966.537313\""
      ]
     },
     "metadata": {},
     "output_type": "display_data"
    }
   ],
   "source": [
    "\n",
    "\n",
    "# Note: add more parameters for the creation of the day1Portfolio = portfolioMTM(DATE=date)\n",
    "rebalancingMTM = function(date=DATE,\n",
    "                         rebNum=5)\n",
    "{\n",
    "    # Enter a date to return the dates of 5 days later of the entered date\n",
    "    DATE_5 = next_5_days(date, rebNum)\n",
    "    purchase_data = df[df$Date %in% DATE_5, ]\n",
    "\n",
    "    # column names of adj close of every stock\n",
    "    adj_close_colname = grep(\"Adj_Close\", names(df), value=TRUE)\n",
    "\n",
    "    start = purchase_data[1,] # data from the initial date\n",
    "    end = purchase_data[nrow(purchase_data), ] # date from 5 business days later from the initial date\n",
    "\n",
    "    # the differences between the adj close of the initial date and the adj close of the 5th business day\n",
    "    changes_adj_close = (end[, adj_close_colname] - start[, adj_close_colname] ) / start[, adj_close_colname] * 100\n",
    "\n",
    "    # storing the column names of the stocks with the lowest change in adj close\n",
    "    low_stock = c()\n",
    "    for (i in 1:5)\n",
    "    {\n",
    "        # returning the column name of the lowest change in adj close\n",
    "        colNames = names(which.min(changes_adj_close))\n",
    "        low_stock = c(low_stock, colNames) # storing the column names\n",
    "\n",
    "        # erase the column with the lowest change in adj close to have a new min in the next iteration\n",
    "        changes_adj_close[,colNames] = NULL\n",
    "\n",
    "    }\n",
    "\n",
    "    # storing the stocks MTM from the initial date\n",
    "    day1Portfolio = portfolioMTM(date=date) # Note: maybe I should create variables for the rebalancing()\n",
    "\n",
    "    # keeping only the Close_STOCK columns\n",
    "    purchase_data_Close = purchase_data[, !colnames(purchase_data) %in% adj_close_colname][nrow(purchase_data),]\n",
    "\n",
    "    new_INITIAL = 0\n",
    "\n",
    "    # Selling the stock from our first profolio from day one based on the Close price of the stock on the 5th day\n",
    "    for (stock in day1Portfolio$Stock) {\n",
    "\n",
    "        stock_Shares = day1Portfolio[day1Portfolio$Stock == stock, \"Shares\"]\n",
    "\n",
    "        sell_CLose = purchase_data_Close[, paste(\"Close\", stock, sep='_')]\n",
    "\n",
    "        profit_cash = stock_Shares * sell_CLose\n",
    "\n",
    "        new_INITIAL = new_INITIAL + profit_cash\n",
    "\n",
    "    }\n",
    "\n",
    "    modified_vec = gsub(\"Adj_Close_\", \"\", low_stock)\n",
    "\n",
    "    # new INITIAL for our new porfolio of the 5th day\n",
    "    new_INITIAL = sum(day1Portfolio$Cash_Left) + new_INITIAL; new_INITIAL\n",
    "    portfolio = portfolioMTM(stocks=modified_vec, date=end$Date, initial=new_INITIAL)\n",
    "\n",
    "    MTM = sum(portfolio$Cash_Left) + sum(portfolio$Value)\n",
    "    return(c(date,MTM))\n",
    "\n",
    "}\n",
    "\n",
    "rebalancingMTM(\"2018-12-31\", 6)"
   ]
  },
  {
   "cell_type": "markdown",
   "id": "5eed20ab-0a65-4ca7-bd86-f7f81cd8750f",
   "metadata": {
    "id": "5eed20ab-0a65-4ca7-bd86-f7f81cd8750f"
   },
   "source": [
    "**Note**: I only have data for up to 6 buisness days after 2018-12-31 because the last date in my dataframe is 2019-01-09\n",
    "- If I ever download more data, I will change my range from 1 to 6 to something like 1 to 20 depending on how much data I download."
   ]
  },
  {
   "cell_type": "code",
   "execution_count": 60,
   "id": "ae48dc09-bf67-4980-9df7-bf323d28c29d",
   "metadata": {
    "colab": {
     "base_uri": "https://localhost:8080/",
     "height": 34
    },
    "id": "ae48dc09-bf67-4980-9df7-bf323d28c29d",
    "outputId": "1407fb0c-c2d9-475a-9417-52a535996648",
    "tags": []
   },
   "outputs": [
    {
     "data": {
      "text/html": [
       "<style>\n",
       ".list-inline {list-style: none; margin:0; padding: 0}\n",
       ".list-inline>li {display: inline-block}\n",
       ".list-inline>li:not(:last-child)::after {content: \"\\00b7\"; padding: 0 .5ex}\n",
       "</style>\n",
       "<ol class=list-inline><li>'2018-12-31'</li><li>'5069966.537313'</li></ol>\n"
      ],
      "text/latex": [
       "\\begin{enumerate*}\n",
       "\\item '2018-12-31'\n",
       "\\item '5069966.537313'\n",
       "\\end{enumerate*}\n"
      ],
      "text/markdown": [
       "1. '2018-12-31'\n",
       "2. '5069966.537313'\n",
       "\n",
       "\n"
      ],
      "text/plain": [
       "[1] \"2018-12-31\"     \"5069966.537313\""
      ]
     },
     "metadata": {},
     "output_type": "display_data"
    }
   ],
   "source": [
    "rebalancingMTM(\"2018-12-31\", 3)"
   ]
  },
  {
   "cell_type": "code",
   "execution_count": 61,
   "id": "cddebcab-e554-4b3e-bbb2-727af823025e",
   "metadata": {
    "colab": {
     "base_uri": "https://localhost:8080/",
     "height": 286
    },
    "id": "cddebcab-e554-4b3e-bbb2-727af823025e",
    "outputId": "b7f7a5cf-df7e-485a-a247-6c8c24b1c3b1",
    "tags": []
   },
   "outputs": [
    {
     "data": {
      "text/html": [
       "<table class=\"dataframe\">\n",
       "<caption>A data.frame: 6 × 3</caption>\n",
       "<thead>\n",
       "\t<tr><th scope=col>Interval</th><th scope=col>Date</th><th scope=col>MTM</th></tr>\n",
       "\t<tr><th scope=col>&lt;int&gt;</th><th scope=col>&lt;chr&gt;</th><th scope=col>&lt;chr&gt;</th></tr>\n",
       "</thead>\n",
       "<tbody>\n",
       "\t<tr><td>1</td><td>2018-12-31</td><td>5069966.537313</td></tr>\n",
       "\t<tr><td>2</td><td>2018-12-31</td><td>5069966.537313</td></tr>\n",
       "\t<tr><td>3</td><td>2018-12-31</td><td>5069966.537313</td></tr>\n",
       "\t<tr><td>4</td><td>2018-12-31</td><td>5069966.537313</td></tr>\n",
       "\t<tr><td>5</td><td>2018-12-31</td><td>5069966.537313</td></tr>\n",
       "\t<tr><td>6</td><td>2018-12-31</td><td>5069966.537313</td></tr>\n",
       "</tbody>\n",
       "</table>\n"
      ],
      "text/latex": [
       "A data.frame: 6 × 3\n",
       "\\begin{tabular}{lll}\n",
       " Interval & Date & MTM\\\\\n",
       " <int> & <chr> & <chr>\\\\\n",
       "\\hline\n",
       "\t 1 & 2018-12-31 & 5069966.537313\\\\\n",
       "\t 2 & 2018-12-31 & 5069966.537313\\\\\n",
       "\t 3 & 2018-12-31 & 5069966.537313\\\\\n",
       "\t 4 & 2018-12-31 & 5069966.537313\\\\\n",
       "\t 5 & 2018-12-31 & 5069966.537313\\\\\n",
       "\t 6 & 2018-12-31 & 5069966.537313\\\\\n",
       "\\end{tabular}\n"
      ],
      "text/markdown": [
       "\n",
       "A data.frame: 6 × 3\n",
       "\n",
       "| Interval &lt;int&gt; | Date &lt;chr&gt; | MTM &lt;chr&gt; |\n",
       "|---|---|---|\n",
       "| 1 | 2018-12-31 | 5069966.537313 |\n",
       "| 2 | 2018-12-31 | 5069966.537313 |\n",
       "| 3 | 2018-12-31 | 5069966.537313 |\n",
       "| 4 | 2018-12-31 | 5069966.537313 |\n",
       "| 5 | 2018-12-31 | 5069966.537313 |\n",
       "| 6 | 2018-12-31 | 5069966.537313 |\n",
       "\n"
      ],
      "text/plain": [
       "  Interval Date       MTM           \n",
       "1 1        2018-12-31 5069966.537313\n",
       "2 2        2018-12-31 5069966.537313\n",
       "3 3        2018-12-31 5069966.537313\n",
       "4 4        2018-12-31 5069966.537313\n",
       "5 5        2018-12-31 5069966.537313\n",
       "6 6        2018-12-31 5069966.537313"
      ]
     },
     "metadata": {},
     "output_type": "display_data"
    }
   ],
   "source": [
    "# generate different MTM on 2018-12-31 with different intervals\n",
    "intervalMTM = data.frame(inter=numeric(0), Date=character(0), MTM=numeric(0))\n",
    "for (i in 1:6)\n",
    "{\n",
    "    tmp = rebalancingMTM(\"2018-12-31\", i)\n",
    "    intervalMTM = rbind(intervalMTM, data.frame(Interval = i, Date = tmp[1], MTM = tmp[2]))\n",
    "}\n",
    "\n",
    "intervalMTM"
   ]
  },
  {
   "cell_type": "code",
   "execution_count": 62,
   "id": "c65acd0e-0f02-4f40-a036-537e52abeae6",
   "metadata": {
    "colab": {
     "base_uri": "https://localhost:8080/",
     "height": 129
    },
    "id": "c65acd0e-0f02-4f40-a036-537e52abeae6",
    "outputId": "69e85152-acc6-4aef-a4fd-bf8e9a748513",
    "tags": []
   },
   "outputs": [
    {
     "data": {
      "text/html": [
       "<table class=\"dataframe\">\n",
       "<caption>A data.frame: 1 × 3</caption>\n",
       "<thead>\n",
       "\t<tr><th></th><th scope=col>Interval</th><th scope=col>Date</th><th scope=col>MTM</th></tr>\n",
       "\t<tr><th></th><th scope=col>&lt;int&gt;</th><th scope=col>&lt;chr&gt;</th><th scope=col>&lt;chr&gt;</th></tr>\n",
       "</thead>\n",
       "<tbody>\n",
       "\t<tr><th scope=row>1</th><td>1</td><td>2018-12-31</td><td>5069966.537313</td></tr>\n",
       "</tbody>\n",
       "</table>\n"
      ],
      "text/latex": [
       "A data.frame: 1 × 3\n",
       "\\begin{tabular}{r|lll}\n",
       "  & Interval & Date & MTM\\\\\n",
       "  & <int> & <chr> & <chr>\\\\\n",
       "\\hline\n",
       "\t1 & 1 & 2018-12-31 & 5069966.537313\\\\\n",
       "\\end{tabular}\n"
      ],
      "text/markdown": [
       "\n",
       "A data.frame: 1 × 3\n",
       "\n",
       "| <!--/--> | Interval &lt;int&gt; | Date &lt;chr&gt; | MTM &lt;chr&gt; |\n",
       "|---|---|---|---|\n",
       "| 1 | 1 | 2018-12-31 | 5069966.537313 |\n",
       "\n"
      ],
      "text/plain": [
       "  Interval Date       MTM           \n",
       "1 1        2018-12-31 5069966.537313"
      ]
     },
     "metadata": {},
     "output_type": "display_data"
    }
   ],
   "source": [
    "# return the record with the max MTM\n",
    "intervalMTM[which.max(intervalMTM$MTM), ]"
   ]
  },
  {
   "cell_type": "markdown",
   "id": "7b9ac71d-bd23-4b3d-b113-9126a14e1968",
   "metadata": {
    "id": "7b9ac71d-bd23-4b3d-b113-9126a14e1968"
   },
   "source": [
    "**Conclusion**: Based on the above, the higher the interval (Number of business days), the higher it is the MTM\n",
    "- Unfortunately, we ran out of data to further prove our hypothesis.\n",
    "- We need more data from 2019 and following years to be able to compute for higher intervals (Business days)."
   ]
  }
 ],
 "metadata": {
  "colab": {
   "provenance": []
  },
  "kernelspec": {
   "display_name": "R",
   "language": "R",
   "name": "ir"
  },
  "language_info": {
   "codemirror_mode": "r",
   "file_extension": ".r",
   "mimetype": "text/x-r-source",
   "name": "R",
   "pygments_lexer": "r",
   "version": "4.3.2"
  }
 },
 "nbformat": 4,
 "nbformat_minor": 5
}
